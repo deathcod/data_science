{
 "cells": [
  {
   "cell_type": "markdown",
   "metadata": {
    "collapsed": true
   },
   "source": [
    "# Tutorial on metaclasses"
   ]
  },
  {
   "cell_type": "code",
   "execution_count": 2,
   "metadata": {
    "collapsed": false
   },
   "outputs": [
    {
     "data": {
      "text/plain": [
       "type"
      ]
     },
     "execution_count": 2,
     "metadata": {},
     "output_type": "execute_result"
    }
   ],
   "source": [
    "class A(object):\n",
    "    pass\n",
    "\n",
    "type(A)"
   ]
  },
  {
   "cell_type": "code",
   "execution_count": 1,
   "metadata": {
    "collapsed": false
   },
   "outputs": [
    {
     "data": {
      "text/plain": [
       "classobj"
      ]
     },
     "execution_count": 1,
     "metadata": {},
     "output_type": "execute_result"
    }
   ],
   "source": [
    "class A: # compiled at python2 to show python2 effect.\n",
    "    pass\n",
    "\n",
    "type(A)"
   ]
  },
  {
   "cell_type": "code",
   "execution_count": 20,
   "metadata": {
    "collapsed": false
   },
   "outputs": [
    {
     "data": {
      "text/plain": [
       "type"
      ]
     },
     "execution_count": 20,
     "metadata": {},
     "output_type": "execute_result"
    }
   ],
   "source": [
    "class A:\n",
    "    __metaclass__ = type\n",
    "    pass\n",
    "\n",
    "type(A)"
   ]
  },
  {
   "cell_type": "code",
   "execution_count": 9,
   "metadata": {
    "collapsed": false
   },
   "outputs": [
    {
     "data": {
      "text/plain": [
       "(object,)"
      ]
     },
     "execution_count": 9,
     "metadata": {},
     "output_type": "execute_result"
    }
   ],
   "source": [
    "# it returns the number of base classes for the particular class\n",
    "A.__bases__ "
   ]
  },
  {
   "cell_type": "code",
   "execution_count": 1,
   "metadata": {
    "collapsed": false
   },
   "outputs": [],
   "source": [
    "class B(metaclass=type):\n",
    "    pass"
   ]
  },
  {
   "cell_type": "code",
   "execution_count": 1,
   "metadata": {
    "collapsed": true
   },
   "outputs": [],
   "source": [
    "class C(object):\n",
    "    attr = 10\n",
    "    pass\n"
   ]
  },
  {
   "cell_type": "code",
   "execution_count": 2,
   "metadata": {
    "collapsed": true
   },
   "outputs": [],
   "source": [
    "C = type('C', (object, ), {'attr' : 10})"
   ]
  },
  {
   "cell_type": "code",
   "execution_count": 3,
   "metadata": {
    "collapsed": false
   },
   "outputs": [
    {
     "data": {
      "text/plain": [
       "__main__.C"
      ]
     },
     "execution_count": 3,
     "metadata": {},
     "output_type": "execute_result"
    }
   ],
   "source": [
    "C"
   ]
  },
  {
   "cell_type": "markdown",
   "metadata": {},
   "source": [
    "So you did notice something interesting. We can create classes dynamically. So it happens at times we dont have the knowledge of the methods the class will contain the name of the class. So this is a best option. "
   ]
  },
  {
   "cell_type": "code",
   "execution_count": 10,
   "metadata": {
    "collapsed": true
   },
   "outputs": [],
   "source": [
    "def __init__(self, value):\n",
    "    self.value = value\n",
    "    pass\n",
    "\n",
    "def add(self, a, b):\n",
    "    return a + b"
   ]
  },
  {
   "cell_type": "code",
   "execution_count": 11,
   "metadata": {
    "collapsed": false
   },
   "outputs": [],
   "source": [
    "C = type('C', (object, ), {'attr' : 10,\n",
    "                           '__init__' : __init__,\n",
    "                           'add' : add})"
   ]
  },
  {
   "cell_type": "code",
   "execution_count": 12,
   "metadata": {
    "collapsed": false
   },
   "outputs": [],
   "source": [
    "c = C(10)"
   ]
  },
  {
   "cell_type": "code",
   "execution_count": 13,
   "metadata": {
    "collapsed": false
   },
   "outputs": [
    {
     "data": {
      "text/plain": [
       "5"
      ]
     },
     "execution_count": 13,
     "metadata": {},
     "output_type": "execute_result"
    }
   ],
   "source": [
    "c.add(2, 3)"
   ]
  },
  {
   "cell_type": "code",
   "execution_count": 2,
   "metadata": {
    "collapsed": false
   },
   "outputs": [],
   "source": [
    "class MyMeta(type):\n",
    "    def __str__(cls):\n",
    "        return 'hello'"
   ]
  },
  {
   "cell_type": "code",
   "execution_count": 17,
   "metadata": {
    "collapsed": true
   },
   "outputs": [],
   "source": [
    "#python3 syntax\n",
    "\n",
    "class A(metaclass=MyMeta):\n",
    "    pass"
   ]
  },
  {
   "cell_type": "code",
   "execution_count": 18,
   "metadata": {
    "collapsed": false
   },
   "outputs": [
    {
     "data": {
      "text/plain": [
       "'hello'"
      ]
     },
     "execution_count": 18,
     "metadata": {},
     "output_type": "execute_result"
    }
   ],
   "source": [
    "str(A)"
   ]
  },
  {
   "cell_type": "code",
   "execution_count": 19,
   "metadata": {
    "collapsed": false
   },
   "outputs": [
    {
     "data": {
      "text/plain": [
       "\"<class '__main__.C'>\""
      ]
     },
     "execution_count": 19,
     "metadata": {},
     "output_type": "execute_result"
    }
   ],
   "source": [
    "str(C)"
   ]
  },
  {
   "cell_type": "markdown",
   "metadata": {},
   "source": [
    "Try to understand what just happened, I used the instance a meta class I created, and override the descriptor str and thus it prints \"hello\"."
   ]
  },
  {
   "cell_type": "code",
   "execution_count": 3,
   "metadata": {
    "collapsed": false
   },
   "outputs": [],
   "source": [
    "#python2 syntax\n",
    "\n",
    "class A:\n",
    "    __metaclass__ = MyMeta\n",
    "    pass"
   ]
  },
  {
   "cell_type": "code",
   "execution_count": 4,
   "metadata": {
    "collapsed": false
   },
   "outputs": [
    {
     "data": {
      "text/plain": [
       "'hello'"
      ]
     },
     "execution_count": 4,
     "metadata": {},
     "output_type": "execute_result"
    }
   ],
   "source": [
    "str(A)"
   ]
  },
  {
   "cell_type": "code",
   "execution_count": 1,
   "metadata": {
    "collapsed": true
   },
   "outputs": [],
   "source": [
    "class MyMeta(type):\n",
    "    \n",
    "    def __new__(mcl, name ,bases, cdict):\n",
    "        print (mcl)\n",
    "        print (name)\n",
    "        print (bases)\n",
    "        print (cdict) # class dictionary with all the methods inside\n",
    "        return super(MyMeta, mcl).__new__(mcl, name ,bases, cdict)"
   ]
  },
  {
   "cell_type": "markdown",
   "metadata": {},
   "source": [
    "#### tutorial on new\n",
    "\n",
    "* ```__new__``` is called when object is created\n",
    "* ```__init__``` is called when object is initialised.\n",
    "\n",
    "So new is called before init\n",
    "\n",
    "You can notice New is a method is in actual invoked."
   ]
  },
  {
   "cell_type": "code",
   "execution_count": 5,
   "metadata": {
    "collapsed": false
   },
   "outputs": [
    {
     "name": "stdout",
     "output_type": "stream",
     "text": [
      "<class '__main__.MyMeta'>\n",
      "New\n",
      "(<class 'object'>,)\n",
      "{'__qualname__': 'New', '__module__': '__main__'}\n"
     ]
    }
   ],
   "source": [
    "class New(object, metaclass = MyMeta):\n",
    "    pass\n"
   ]
  },
  {
   "cell_type": "code",
   "execution_count": 9,
   "metadata": {
    "collapsed": true
   },
   "outputs": [],
   "source": [
    "class MyMeta(type):\n",
    "    \n",
    "    def __init__(cls, name, bases, cdict):\n",
    "        print (cls)\n",
    "        print (name)\n",
    "        print (bases)\n",
    "        print (cdict)\n",
    "        super(MyMeta, cls).__init__(name, bases, cdict)\n",
    "        pass\n",
    "    pass\n"
   ]
  },
  {
   "cell_type": "code",
   "execution_count": 10,
   "metadata": {
    "collapsed": false
   },
   "outputs": [
    {
     "name": "stdout",
     "output_type": "stream",
     "text": [
      "<class '__main__.New'>\n",
      "New\n",
      "(<class 'object'>,)\n",
      "{'__qualname__': 'New', '__module__': '__main__', 'meth': <function New.meth at 0x7ff8f40582f0>}\n"
     ]
    }
   ],
   "source": [
    "class New(object, metaclass = MyMeta):\n",
    "    def meth():\n",
    "        pass\n",
    "    \n",
    "    pass\n"
   ]
  },
  {
   "cell_type": "code",
   "execution_count": 11,
   "metadata": {
    "collapsed": true
   },
   "outputs": [],
   "source": [
    "class B(object):\n",
    "    \n",
    "    def __new__(cls, value):\n",
    "        super().__new__(cls)\n",
    "        pass\n",
    "    \n",
    "    def __init__(self, value):\n",
    "        self.value = value\n",
    "        pass\n",
    "    \n",
    "    pass\n"
   ]
  },
  {
   "cell_type": "code",
   "execution_count": 12,
   "metadata": {
    "collapsed": true
   },
   "outputs": [],
   "source": [
    "b = B(10)"
   ]
  },
  {
   "cell_type": "code",
   "execution_count": null,
   "metadata": {
    "collapsed": false
   },
   "outputs": [],
   "source": [
    "# %load deco_meta/metaclasses/meta_2_3.py\n",
    "# file: meta_2_3.py\n",
    "\n",
    "\"\"\"\n",
    "The code is a bit hard to understand. The basic idea is exploiting the idea\n",
    "that metaclasses can customize class creation and are picked by by the parent\n",
    "class. This particular implementation uses a metaclass to remove its own parent\n",
    "from the inheritance tree on subclassing. The end result is that the function\n",
    "creates a dummy class with a dummy metaclass. Once subclassed the dummy\n",
    "classes metaclass is used which has a constructor that basically instances a\n",
    "new class from the original parent and the actually intended metaclass.\n",
    "That way the dummy class and dummy metaclass never show up.\n",
    "\n",
    "From:\n",
    " http://lucumr.pocoo.org/2013/5/21/porting-to-python-3-redux/#metaclass-syntax-changes\n",
    "\n",
    "Used in:\n",
    "\n",
    "* Jinja2\n",
    "* SQLAlchemy\n",
    "* future (python-future.org)\n",
    "\n",
    "\"\"\"\n",
    "\n",
    "from __future__ import print_function\n",
    "import platform\n",
    "\n",
    "\n",
    "# from jinja2/_compat.py\n",
    "def with_metaclass(meta, *bases):\n",
    "    # This requires a bit of explanation: the basic idea is to make a\n",
    "    # dummy metaclass for one level of class instanciation that replaces\n",
    "    # itself with the actual metaclass.  Because of internal type checks\n",
    "    # we also need to make sure that we downgrade the custom metaclass\n",
    "    # for one level to something closer to type (that's why __call__ and\n",
    "    # __init__ comes back from type etc.).\n",
    "    #\n",
    "    # This has the advantage over six.with_metaclass in that it does not\n",
    "    # introduce dummy classes into the final MRO.\n",
    "    class metaclass(meta):\n",
    "        __call__ = type.__call__\n",
    "        __init__ = type.__init__\n",
    "\n",
    "        def __new__(cls, name, this_bases, d):\n",
    "            if this_bases is None:\n",
    "                return type.__new__(cls, name, (), d)\n",
    "            return meta(name, bases, d)\n",
    "\n",
    "    return metaclass('temporary_class', None, {})\n",
    "\n",
    "\n",
    "if __name__ == '__main__':\n",
    "\n",
    "    class BaseClass(object):\n",
    "        pass\n",
    "\n",
    "\n",
    "    class MetaClass(type):\n",
    "        \"\"\"Metaclass for Python 2 and 3.\n",
    "        \"\"\"\n",
    "        def __init__(cls, name, bases, cdict):\n",
    "            print('It works with {impl} version {ver}.'.format(\n",
    "                impl=platform.python_implementation(),\n",
    "                ver=platform.python_version()))\n",
    "            super(MetaClass, cls).__init__(name, bases, cdict)\n",
    "\n",
    "\n",
    "    class Class(with_metaclass(MetaClass, BaseClass)):\n",
    "        # BaseClass is optional.\n",
    "        pass\n"
   ]
  }
 ],
 "metadata": {
  "kernelspec": {
   "display_name": "Python 3",
   "language": "python",
   "name": "python3"
  },
  "language_info": {
   "codemirror_mode": {
    "name": "ipython",
    "version": 3
   },
   "file_extension": ".py",
   "mimetype": "text/x-python",
   "name": "python",
   "nbconvert_exporter": "python",
   "pygments_lexer": "ipython3",
   "version": "3.4.3"
  }
 },
 "nbformat": 4,
 "nbformat_minor": 1
}
