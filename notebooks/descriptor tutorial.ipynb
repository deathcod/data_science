{
 "cells": [
  {
   "cell_type": "markdown",
   "metadata": {},
   "source": [
    "# Tutorial on descriptor "
   ]
  },
  {
   "cell_type": "code",
   "execution_count": 1,
   "metadata": {
    "collapsed": false
   },
   "outputs": [],
   "source": [
    "# %load datadescriptor.py\n",
    "\"\"\"A typical data descriptor.\n",
    "\"\"\"\n",
    "\n",
    "from __future__ import print_function\n",
    "\n",
    "class DataDescriptor(object):\n",
    "    \"\"\"A simple descriptor.\n",
    "    \"\"\"\n",
    "    def __init__(self):\n",
    "        self.value = 0\n",
    "    def __get__(self, instance, cls):\n",
    "        print('data descriptor __get__')\n",
    "        return self.value\n",
    "    def __set__(self, instance, value):\n",
    "        print('data descriptor __set__')\n",
    "        try:\n",
    "            self.value = value.upper()\n",
    "        except AttributeError:\n",
    "            self.value = value\n",
    "    def __delete__(self, instance):\n",
    "        print(\"Don't like to be deleted.\" )\n"
   ]
  },
  {
   "cell_type": "markdown",
   "metadata": {},
   "source": [
    "Cool so in this tutorial we are going to learn about the data descriptor in python. These are very important but many at times are ignored."
   ]
  },
  {
   "cell_type": "code",
   "execution_count": 2,
   "metadata": {
    "collapsed": false
   },
   "outputs": [],
   "source": [
    "class A(object):\n",
    "    attr = DataDescriptor()\n",
    "    pass"
   ]
  },
  {
   "cell_type": "markdown",
   "metadata": {},
   "source": [
    "#### why to import objects??\n",
    "\n",
    "So you wont find any difference as such in python3 because it is automatically imported. So main reason is to escape the old style \n",
    "\n",
    "So to know the difference just do this in python2\n",
    "```python\n",
    "class A():\n",
    "    attr = DataDescriptor()\n",
    "    pass\n",
    "\n",
    "A.__dict__['attr'] = 100\n",
    "```\n",
    "No error  \n",
    "now just add object you will get an error, so the point is adding object includes new functionality."
   ]
  },
  {
   "cell_type": "code",
   "execution_count": 3,
   "metadata": {
    "collapsed": false,
    "scrolled": true
   },
   "outputs": [
    {
     "name": "stdout",
     "output_type": "stream",
     "text": [
      "data descriptor __get__\n"
     ]
    },
    {
     "data": {
      "text/plain": [
       "0"
      ]
     },
     "execution_count": 3,
     "metadata": {},
     "output_type": "execute_result"
    }
   ],
   "source": [
    "a= A()\n",
    "a.attr\n",
    "#so when it attr is called the get descriptor is called."
   ]
  },
  {
   "cell_type": "code",
   "execution_count": 4,
   "metadata": {
    "collapsed": false
   },
   "outputs": [
    {
     "name": "stdout",
     "output_type": "stream",
     "text": [
      "data descriptor __get__\n"
     ]
    },
    {
     "data": {
      "text/plain": [
       "0"
      ]
     },
     "execution_count": 4,
     "metadata": {},
     "output_type": "execute_result"
    }
   ],
   "source": [
    "type(a).__dict__['attr'].__get__(a,type(a)) # so whats happening behind!!"
   ]
  },
  {
   "cell_type": "code",
   "execution_count": 5,
   "metadata": {
    "collapsed": false
   },
   "outputs": [
    {
     "name": "stdout",
     "output_type": "stream",
     "text": [
      "data descriptor __get__\n"
     ]
    },
    {
     "data": {
      "text/plain": [
       "0"
      ]
     },
     "execution_count": 5,
     "metadata": {},
     "output_type": "execute_result"
    }
   ],
   "source": [
    "A.attr"
   ]
  },
  {
   "cell_type": "code",
   "execution_count": 6,
   "metadata": {
    "collapsed": false
   },
   "outputs": [
    {
     "name": "stdout",
     "output_type": "stream",
     "text": [
      "data descriptor __get__\n"
     ]
    },
    {
     "data": {
      "text/plain": [
       "0"
      ]
     },
     "execution_count": 6,
     "metadata": {},
     "output_type": "execute_result"
    }
   ],
   "source": [
    "A.__dict__['attr'].__get__(None,A)\n",
    "\n",
    "#earlier applied on instance, now applied on the class itself..."
   ]
  },
  {
   "cell_type": "code",
   "execution_count": 7,
   "metadata": {
    "collapsed": false
   },
   "outputs": [
    {
     "ename": "TypeError",
     "evalue": "'mappingproxy' object does not support item assignment",
     "output_type": "error",
     "traceback": [
      "\u001b[0;31m---------------------------------------------------------------------------\u001b[0m",
      "\u001b[0;31mTypeError\u001b[0m                                 Traceback (most recent call last)",
      "\u001b[0;32m<ipython-input-7-3d848b0d36db>\u001b[0m in \u001b[0;36m<module>\u001b[0;34m()\u001b[0m\n\u001b[0;32m----> 1\u001b[0;31m \u001b[0mA\u001b[0m\u001b[0;34m.\u001b[0m\u001b[0m__dict__\u001b[0m\u001b[0;34m[\u001b[0m\u001b[0;34m'attr'\u001b[0m\u001b[0;34m]\u001b[0m \u001b[0;34m=\u001b[0m \u001b[0;36m12\u001b[0m\u001b[0;34m\u001b[0m\u001b[0m\n\u001b[0m\u001b[1;32m      2\u001b[0m \u001b[0;34m\u001b[0m\u001b[0m\n\u001b[1;32m      3\u001b[0m \u001b[0;31m# so interesting thought of these dictionary are they are immutable.\u001b[0m\u001b[0;34m\u001b[0m\u001b[0;34m\u001b[0m\u001b[0m\n",
      "\u001b[0;31mTypeError\u001b[0m: 'mappingproxy' object does not support item assignment"
     ]
    }
   ],
   "source": [
    "A.__dict__['attr'] = 12\n",
    "\n",
    "# so interesting thought of these dictionary are they are immutable."
   ]
  },
  {
   "cell_type": "code",
   "execution_count": 8,
   "metadata": {
    "collapsed": false
   },
   "outputs": [
    {
     "name": "stdout",
     "output_type": "stream",
     "text": [
      "data descriptor __set__\n"
     ]
    }
   ],
   "source": [
    "a.attr = 5"
   ]
  },
  {
   "cell_type": "code",
   "execution_count": 9,
   "metadata": {
    "collapsed": false
   },
   "outputs": [
    {
     "name": "stdout",
     "output_type": "stream",
     "text": [
      "data descriptor __set__\n"
     ]
    }
   ],
   "source": [
    "a.attr = 'hello'"
   ]
  },
  {
   "cell_type": "code",
   "execution_count": 10,
   "metadata": {
    "collapsed": false
   },
   "outputs": [
    {
     "name": "stdout",
     "output_type": "stream",
     "text": [
      "data descriptor __get__\n"
     ]
    },
    {
     "data": {
      "text/plain": [
       "'HELLO'"
      ]
     },
     "execution_count": 10,
     "metadata": {},
     "output_type": "execute_result"
    }
   ],
   "source": [
    "a.attr\n",
    "#its happening because we have modified the get by adding upper case."
   ]
  },
  {
   "cell_type": "code",
   "execution_count": 11,
   "metadata": {
    "collapsed": false
   },
   "outputs": [],
   "source": [
    "a.x = 100"
   ]
  },
  {
   "cell_type": "code",
   "execution_count": 12,
   "metadata": {
    "collapsed": false
   },
   "outputs": [
    {
     "data": {
      "text/plain": [
       "{'x': 100}"
      ]
     },
     "execution_count": 12,
     "metadata": {},
     "output_type": "execute_result"
    }
   ],
   "source": [
    "a.__dict__"
   ]
  },
  {
   "cell_type": "code",
   "execution_count": 16,
   "metadata": {
    "collapsed": true
   },
   "outputs": [],
   "source": [
    "class NonDataDescriptor(object):\n",
    "    \"\"\"A simple descriptor.\n",
    "    \"\"\"\n",
    "    def __init__(self):\n",
    "        self.value = 0\n",
    "    def __get__(self, instance, cls):\n",
    "        print('data descriptor __get__')\n",
    "        return self.value + 10\n",
    "    pass"
   ]
  },
  {
   "cell_type": "code",
   "execution_count": 17,
   "metadata": {
    "collapsed": true
   },
   "outputs": [],
   "source": [
    "class A(object):\n",
    "    attr = NonDataDescriptor()\n",
    "    pass"
   ]
  },
  {
   "cell_type": "code",
   "execution_count": 18,
   "metadata": {
    "collapsed": false
   },
   "outputs": [
    {
     "name": "stdout",
     "output_type": "stream",
     "text": [
      "data descriptor __get__\n"
     ]
    },
    {
     "data": {
      "text/plain": [
       "10"
      ]
     },
     "execution_count": 18,
     "metadata": {},
     "output_type": "execute_result"
    }
   ],
   "source": [
    "a = A()\n",
    "a.attr"
   ]
  },
  {
   "cell_type": "code",
   "execution_count": 19,
   "metadata": {
    "collapsed": true
   },
   "outputs": [],
   "source": [
    "a.attr = 50"
   ]
  },
  {
   "cell_type": "code",
   "execution_count": 20,
   "metadata": {
    "collapsed": false
   },
   "outputs": [
    {
     "data": {
      "text/plain": [
       "{'attr': 50}"
      ]
     },
     "execution_count": 20,
     "metadata": {},
     "output_type": "execute_result"
    }
   ],
   "source": [
    "a.__dict__"
   ]
  },
  {
   "cell_type": "code",
   "execution_count": 21,
   "metadata": {
    "collapsed": false
   },
   "outputs": [
    {
     "data": {
      "text/plain": [
       "50"
      ]
     },
     "execution_count": 21,
     "metadata": {},
     "output_type": "execute_result"
    }
   ],
   "source": [
    "a.attr"
   ]
  },
  {
   "cell_type": "markdown",
   "metadata": {},
   "source": [
    "So from here I want you to clarify that when attr is called the get function of the NonDescriptorClass was called. But when we assign the value, the normal set method is called. And when we try to get the value the normal get method value is returned. Thats the reason you can see the attr now in the dict of a.!!"
   ]
  },
  {
   "cell_type": "markdown",
   "metadata": {},
   "source": [
    "#### ```__getattr__ and __getattribute__``` "
   ]
  },
  {
   "cell_type": "code",
   "execution_count": 28,
   "metadata": {
    "collapsed": true
   },
   "outputs": [],
   "source": [
    "class Overridden(object):\n",
    "    attr = DataDescriptor()\n",
    "    def __getattribute__(self,name):\n",
    "        print (name + \" -> no way\")\n",
    "        pass\n",
    "    pass\n"
   ]
  },
  {
   "cell_type": "code",
   "execution_count": 29,
   "metadata": {
    "collapsed": false
   },
   "outputs": [
    {
     "name": "stdout",
     "output_type": "stream",
     "text": [
      "attr -> no way\n"
     ]
    }
   ],
   "source": [
    "o = Overridden()\n",
    "o.attr"
   ]
  },
  {
   "cell_type": "code",
   "execution_count": 30,
   "metadata": {
    "collapsed": false
   },
   "outputs": [
    {
     "data": {
      "text/plain": [
       "<method-wrapper '__get__' of function object at 0x7ff2eeffd620>"
      ]
     },
     "execution_count": 30,
     "metadata": {},
     "output_type": "execute_result"
    }
   ],
   "source": [
    "def fun():\n",
    "    pass\n",
    "\n",
    "fun.__get__\n",
    "\n",
    "#its normal as it calls for data descriptor"
   ]
  },
  {
   "cell_type": "code",
   "execution_count": 34,
   "metadata": {
    "collapsed": false
   },
   "outputs": [
    {
     "data": {
      "text/plain": [
       "<bound method C.meth of <__main__.C object at 0x7ff2fc053be0>>"
      ]
     },
     "execution_count": 34,
     "metadata": {},
     "output_type": "execute_result"
    }
   ],
   "source": [
    "class C(object):\n",
    "    def meth():\n",
    "        pass\n",
    "    pass\n",
    "\n",
    "c = C()\n",
    "c.meth\n",
    "\n",
    "#return bound method same function on python2 returns unbound method"
   ]
  },
  {
   "cell_type": "code",
   "execution_count": 35,
   "metadata": {
    "collapsed": false
   },
   "outputs": [
    {
     "data": {
      "text/plain": [
       "<bound method C.meth of <__main__.C object at 0x7ff2fc053be0>>"
      ]
     },
     "execution_count": 35,
     "metadata": {},
     "output_type": "execute_result"
    }
   ],
   "source": [
    "type(c).__dict__['meth'].__get__(c,type(c))"
   ]
  },
  {
   "cell_type": "code",
   "execution_count": 40,
   "metadata": {
    "collapsed": false
   },
   "outputs": [
    {
     "name": "stdout",
     "output_type": "stream",
     "text": [
      "store1 10\n",
      "store2 10\n",
      "Setting store1 only.\n",
      "store1 100\n",
      "store2 100\n"
     ]
    }
   ],
   "source": [
    "# %load deco_meta/descriptors/class_storage.py\n",
    "\n",
    "\"\"\"A descriptor works only in a class.\n",
    "\n",
    "Storing attribute data directly in a descriptor\n",
    "means sharing between instances.\n",
    "\"\"\"\n",
    "\n",
    "from __future__ import print_function\n",
    "\n",
    "\n",
    "class DescriptorClassStorage(object):\n",
    "    \"\"\"Descriptor storing data in class.\"\"\"\n",
    "\n",
    "    def __init__(self, default=None):\n",
    "        self.value = default\n",
    "\n",
    "    def __get__(self, instance, owner):\n",
    "        return self.value\n",
    "\n",
    "    def __set__(self, instance, value):\n",
    "        self.value = value\n",
    "\n",
    "\n",
    "if __name__ == '__main__':\n",
    "    class StoreClass(object):\n",
    "        \"\"\"All instances will share `attr`.\n",
    "        \"\"\"\n",
    "        attr = DescriptorClassStorage(10)\n",
    "\n",
    "    store1 = StoreClass()\n",
    "    store2 = StoreClass()\n",
    "    print('store1', store1.attr)\n",
    "    print('store2', store2.attr)\n",
    "    print('Setting store1 only.')\n",
    "    store1.attr = 100\n",
    "    print('store1', store1.attr) #\n",
    "    print('store2', store2.attr) # both returns the same value.\n"
   ]
  },
  {
   "cell_type": "code",
   "execution_count": 7,
   "metadata": {
    "collapsed": false
   },
   "outputs": [
    {
     "name": "stdout",
     "output_type": "stream",
     "text": [
      "store1 10\n",
      "store2 10\n",
      "store1 100\n",
      "store2 10000\n",
      "_hidden: [(<__main__.StoreInstance object at 0x7fe3e472c5c0>, 10000), (<__main__.StoreInstance object at 0x7fe3e472c550>, 100)]\n",
      "Deleted store1\n",
      "_hidden: [(<__main__.StoreInstance object at 0x7fe3e472c5c0>, 1000)]\n",
      "1000\n"
     ]
    }
   ],
   "source": [
    "# %load deco_meta/descriptors/weakkeydict_storage.py\n",
    "\n",
    "\"\"\"A descriptor works only in a class.\n",
    "\n",
    "We can store a different value for each instance in a dictionary\n",
    "in the descriptor.\n",
    "\"\"\"\n",
    "\n",
    "from weakref import WeakKeyDictionary\n",
    "\n",
    "\n",
    "class DescriptorWeakKeyDictStorage(object):\n",
    "    \"\"\"Descriptor that stores attribute data in instances.\n",
    "    \"\"\"\n",
    "    _hidden = WeakKeyDictionary()\n",
    "\n",
    "    def __init__(self, default=None):\n",
    "        self.default = default\n",
    "\n",
    "    def __get__(self, instance, owner):\n",
    "        return DescriptorWeakKeyDictStorage._hidden.get(instance, self.default)\n",
    "\n",
    "    def __set__(self, instance, value):\n",
    "        DescriptorWeakKeyDictStorage._hidden[instance] = value\n",
    "\n",
    "\n",
    "if __name__ == '__main__':\n",
    "    class StoreInstance(object):\n",
    "        \"\"\"All instances have own `attr`.\n",
    "        \"\"\"\n",
    "        attr = DescriptorWeakKeyDictStorage(10)\n",
    "\n",
    "    store1 = StoreInstance()\n",
    "    store2 = StoreInstance()\n",
    "    print('store1', store1.attr)\n",
    "    print('store2', store2.attr)\n",
    "    store1.attr = 100\n",
    "    store2.attr =10000\n",
    "    print('store1', store1.attr)\n",
    "    print('store2', store2.attr)\n",
    "    print('_hidden:', list(DescriptorWeakKeyDictStorage._hidden.items()))\n",
    "    del store1\n",
    "    print('Deleted store1')\n",
    "    store2.attr =1000\n",
    "    print('_hidden:', list(DescriptorWeakKeyDictStorage._hidden.items()))\n",
    "    print (store2.attr)\n",
    "\n"
   ]
  },
  {
   "cell_type": "markdown",
   "metadata": {},
   "source": [
    "So here we saw how to get different instances.\n",
    "\n",
    "Now modifing the same class, keeping the hypothesis that hidden is nothing but a normal dict and working out.. let see... "
   ]
  },
  {
   "cell_type": "code",
   "execution_count": 6,
   "metadata": {
    "collapsed": false
   },
   "outputs": [
    {
     "name": "stdout",
     "output_type": "stream",
     "text": [
      "store1 10\n",
      "store2 10\n",
      "store1 100\n",
      "store2 10000\n",
      "_hidden: [(<__main__.StoreInstance object at 0x7fe3e472c588>, 100), (<__main__.StoreInstance object at 0x7fe3e472c5f8>, 10000)]\n",
      "Deleted store1\n",
      "_hidden: [(<__main__.StoreInstance object at 0x7fe3e472c588>, 100), (<__main__.StoreInstance object at 0x7fe3e472c5f8>, 10000)]\n",
      "Deleted store2\n",
      "_hidden: [(<__main__.StoreInstance object at 0x7fe3e472c588>, 100), (<__main__.StoreInstance object at 0x7fe3e472c5f8>, 10000)]\n"
     ]
    }
   ],
   "source": [
    "class DescriptorDictStorage(object):\n",
    "    \"\"\"Descriptor that stores attribute data in instances.\n",
    "    \"\"\"\n",
    "    _hidden = {}\n",
    "\n",
    "    def __init__(self, default=None):\n",
    "        self.default = default\n",
    "\n",
    "    def __get__(self, instance, owner):\n",
    "        return DescriptorDictStorage._hidden.get(instance, self.default)\n",
    "\n",
    "    def __set__(self, instance, value):\n",
    "        DescriptorDictStorage._hidden[instance] = value\n",
    "    \n",
    "    def __del__(self, instance, value):\n",
    "        print(\"I am in del section\")\n",
    "\n",
    "if __name__ == '__main__':\n",
    "    class StoreInstance(object):\n",
    "        \"\"\"All instances have own `attr`.\n",
    "        \"\"\"\n",
    "        attr = DescriptorDictStorage(10)\n",
    "\n",
    "    store1 = StoreInstance()\n",
    "    store2 = StoreInstance()\n",
    "    print('store1', store1.attr)\n",
    "    print('store2', store2.attr)\n",
    "    store1.attr = 100\n",
    "    store2.attr =10000\n",
    "    print('store1', store1.attr)\n",
    "    print('store2', store2.attr)\n",
    "    print('_hidden:', list(DescriptorDictStorage._hidden.items()))\n",
    "    del store1\n",
    "    print('Deleted store1')\n",
    "    print('_hidden:', list(DescriptorDictStorage._hidden.items()))\n",
    "    del store2\n",
    "    print('Deleted store2')\n",
    "    print('_hidden:', list(DescriptorDictStorage._hidden.items()))"
   ]
  },
  {
   "cell_type": "markdown",
   "metadata": {},
   "source": [
    "Nope it doesnt work!!\n",
    "\n",
    "```Below is the professional way how to write the data descriptor and also also if any checking is also needed to be implemented.```"
   ]
  },
  {
   "cell_type": "code",
   "execution_count": 12,
   "metadata": {
    "collapsed": false
   },
   "outputs": [
    {
     "name": "stdout",
     "output_type": "stream",
     "text": [
      "Cannot set default to float, must be int.\n",
      "attr1 10\n",
      "attr1 100\n",
      "Cannot set attr1 to float, must be int.\n"
     ]
    }
   ],
   "source": [
    "# %load deco_meta/descriptors/checked.py\n",
    "\n",
    "\"\"\"Example for descriptor that checks conditions on attributes.\n",
    "\"\"\"\n",
    "from __future__ import print_function\n",
    "\n",
    "from weakref import WeakKeyDictionary\n",
    "\n",
    "\n",
    "class Checked(object):\n",
    "    \"\"\"Descriptor that checks with a user-supplied check function\n",
    "    if an attribute is valid.\n",
    "    \"\"\"\n",
    "\n",
    "    _hidden = WeakKeyDictionary()\n",
    "\n",
    "    def __init__(self, checker=None, default=None):\n",
    "        if checker:\n",
    "            # checker must be a callable\n",
    "            checker(default)\n",
    "        self.checker = checker\n",
    "        self.default = default\n",
    "\n",
    "    def __get__(self, instance, owner):\n",
    "        return Checked._hidden.get(instance, self.default)\n",
    "\n",
    "    def __set__(self, instance, value):\n",
    "        if self.checker:\n",
    "            self.checker(value)\n",
    "        Checked._hidden[instance] = value\n",
    "\n",
    "\n",
    "if __name__ == '__main__':\n",
    "\n",
    "    def is_int(value):\n",
    "        \"\"\"Check if value is an integer.\n",
    "        \"\"\"\n",
    "        if not isinstance(value, int):\n",
    "            raise ValueError('Int required {} found'.format(type(value)))\n",
    "\n",
    "    class Restricted(object):\n",
    "        \"\"\"Use checked attributes.\n",
    "        \"\"\"\n",
    "        attr1 = Checked(checker=is_int, default=10)\n",
    "        attr2 = Checked(default=12.5)\n",
    "        # Setting the default to float, `is_int` raises a `ValueError`.\n",
    "        try:\n",
    "            attr3 = Checked(checker=is_int, default=12.5)\n",
    "        except ValueError:\n",
    "            print('Cannot set default to float, must be int.')\n",
    "            attr3 = Checked(checker=is_int, default=12)\n",
    "\n",
    "    restricted = Restricted()\n",
    "    print('attr1', restricted.attr1)\n",
    "    restricted.attr1 = 100\n",
    "    print('attr1', restricted.attr1)\n",
    "    try:\n",
    "        restricted.attr1 = 200.12\n",
    "    except ValueError:\n",
    "        print('Cannot set attr1 to float, must be int.')\n",
    "        restricted.attr1 = 200\n"
   ]
  },
  {
   "cell_type": "markdown",
   "metadata": {},
   "source": [
    "## Write a code that takes positive numbers only."
   ]
  },
  {
   "cell_type": "code",
   "execution_count": 20,
   "metadata": {
    "collapsed": false
   },
   "outputs": [
    {
     "name": "stdout",
     "output_type": "stream",
     "text": [
      "0\n",
      "10\n"
     ]
    }
   ],
   "source": [
    "class DataDescriptor(object):\n",
    "    \n",
    "    def __init__(self,check = None):\n",
    "        self.value = 0\n",
    "        self.check = check\n",
    "        pass\n",
    "    \n",
    "    def __get__(self, instance, owner):\n",
    "        return self.value\n",
    "    \n",
    "    def __set__(self, instance, value):\n",
    "        if self.check:\n",
    "            self.check(value)\n",
    "            pass\n",
    "        \n",
    "        self.value = value\n",
    "        pass\n",
    "    \n",
    "    pass\n",
    "\n",
    "if __name__ == '__main__':\n",
    "    \n",
    "    def positive(value):\n",
    "        if type(value) == str:\n",
    "            raise ValueError(\"No string\")\n",
    "            pass\n",
    "        \n",
    "        elif value <=0:\n",
    "            raise ValueError(\"No Value less than zero\")\n",
    "            pass\n",
    "        \n",
    "        else:\n",
    "            return True\n",
    "        \n",
    "        pass\n",
    "    \n",
    "    class Test(object):\n",
    "        \n",
    "        attr = DataDescriptor(positive)\n",
    "        pass\n",
    "    \n",
    "    x = Test()\n",
    "    print (x.attr)\n",
    "    x.attr = 10\n",
    "    print (x.attr)\n",
    "    x.attr = 1.2\n",
    "    \n",
    "    # x.attr = 'ew'\n",
    "    # x.attr = -12\n",
    "    # x.attr = -1.2\n",
    "    \n",
    "        \n",
    "        "
   ]
  }
 ],
 "metadata": {
  "kernelspec": {
   "display_name": "Python 3",
   "language": "python",
   "name": "python3"
  },
  "language_info": {
   "codemirror_mode": {
    "name": "ipython",
    "version": 3
   },
   "file_extension": ".py",
   "mimetype": "text/x-python",
   "name": "python",
   "nbconvert_exporter": "python",
   "pygments_lexer": "ipython3",
   "version": "3.4.3"
  }
 },
 "nbformat": 4,
 "nbformat_minor": 1
}
