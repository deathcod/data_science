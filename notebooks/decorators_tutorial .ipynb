{
 "cells": [
  {
   "cell_type": "markdown",
   "metadata": {},
   "source": [
    "# Tutorial on decorators"
   ]
  },
  {
   "cell_type": "markdown",
   "metadata": {},
   "source": [
    "Decorators extends functionality to a function at runtime. Independent of the other instances on the same class.\n",
    "In python decorators means a specific change to the python syntax that allow us to more conveniently alter the functions and methods."
   ]
  },
  {
   "cell_type": "code",
   "execution_count": 1,
   "metadata": {
    "collapsed": false
   },
   "outputs": [
    {
     "name": "stdout",
     "output_type": "stream",
     "text": [
      "yes\n",
      "Weee3\n",
      "something happened after the function is called\n"
     ]
    }
   ],
   "source": [
    "\n",
    "def my_decorator(some_function):\n",
    "    \n",
    "    def wrapper():\n",
    "        num = 10\n",
    "        if num == 10:\n",
    "            print \"yes\"\n",
    "            pass\n",
    "        else:\n",
    "            print \"no\"\n",
    "            pass\n",
    "        \n",
    "        some_function()\n",
    "        \n",
    "        print \"something happened after the function is called\"\n",
    "        \n",
    "        pass\n",
    "    \n",
    "    return wrapper\n",
    "\n",
    "@my_decorator\n",
    "def just_some_function():\n",
    "    print \"Weee\" + str(1+2)\n",
    "    pass\n",
    "\n",
    "just_some_function()"
   ]
  },
  {
   "cell_type": "markdown",
   "metadata": {},
   "source": [
    "# Tutorial on how to use @classmethod and @staticmethod"
   ]
  },
  {
   "cell_type": "markdown",
   "metadata": {},
   "source": [
    "When ever I used to analyse code on github, I always used to get messed up with lot of new terminology and this is on of them. So lets unravell one by one.\n",
    "\n",
    "I will give you example then the meaning, so open your senses and try to question yourself, WHAT HE IS TRYING TO DO?"
   ]
  },
  {
   "cell_type": "code",
   "execution_count": 2,
   "metadata": {
    "collapsed": false
   },
   "outputs": [
    {
     "name": "stdout",
     "output_type": "stream",
     "text": [
      "10-10-1990 DateTime\n",
      "10-10-2000 Date\n",
      "10-10-2000 DateTime\n"
     ]
    }
   ],
   "source": [
    "class Date:\n",
    "    \n",
    "    def __init__(self, month, day, year):\n",
    "        self.day   = day\n",
    "        self.month = month\n",
    "        self.year  = year\n",
    "        pass\n",
    "    \n",
    "    def display(self):\n",
    "        return \"{0}-{1}-{2} Date\".format(self.day, self.month, self.year)\n",
    "    \n",
    "    @staticmethod\n",
    "    def staticmillenium(month, day):\n",
    "        return Date(month, day, 2000)\n",
    "    \n",
    "    @classmethod\n",
    "    def classmillenium(cls,month, day):\n",
    "        return cls(month, day, 2000)\n",
    "    \n",
    "    pass\n",
    "\n",
    "class Datetime(Date):\n",
    "    \n",
    "    def display(self):\n",
    "        return \"{0}-{1}-{2} DateTime\".format(self.day, self.month, self.year)\n",
    "    \n",
    "    pass\n",
    "\n",
    "datetime1 = Datetime(10, 10, 1990)\n",
    "datetime2 = Datetime.staticmillenium(10, 10)\n",
    "datetime3 = Datetime.classmillenium(10, 10)\n",
    "\n",
    "print datetime1.display()\n",
    "print datetime2.display()\n",
    "print datetime3.display()"
   ]
  },
  {
   "cell_type": "markdown",
   "metadata": {},
   "source": [
    "So we have noticed from the above, static method returns the instance of the class itself. But the class method returns the instance of the present class which calls it, so this insures that the class is not hard-coded rather learnt. \"cls\" can be any subclass. The resulting object will be rightly be instance of \"cls\".\n",
    "\n",
    "________________________________________________________________"
   ]
  },
  {
   "cell_type": "markdown",
   "metadata": {},
   "source": [
    "# Tutorial on @property"
   ]
  },
  {
   "cell_type": "markdown",
   "metadata": {},
   "source": [
    "So property is a inbuilt library in python that helps in creating the getter and setter method for a function. And allows the actual variable to be private."
   ]
  },
  {
   "cell_type": "code",
   "execution_count": 3,
   "metadata": {
    "collapsed": false
   },
   "outputs": [
    {
     "name": "stdout",
     "output_type": "stream",
     "text": [
      "89.6\n",
      "{'_temperature': 32}\n"
     ]
    }
   ],
   "source": [
    "class Celsius:\n",
    "    \n",
    "    def __init__(self, temperature = 0):\n",
    "        self._temperature = temperature\n",
    "        pass\n",
    "    \n",
    "    def to_farenheit(self):\n",
    "        return (self._temperature *1.8) + 32\n",
    "    \n",
    "    def set_temperature(self, temperature):\n",
    "        self._temperature = temperature\n",
    "        return self\n",
    "        pass\n",
    "    \n",
    "    def get_temperature(self):\n",
    "        return self._temperature\n",
    "    \n",
    "    pass\n",
    "\n",
    "x= Celsius()\n",
    "print x.set_temperature(32).to_farenheit()\n",
    "print x.__dict__"
   ]
  },
  {
   "cell_type": "markdown",
   "metadata": {},
   "source": [
    "So here we saw how to store the values and how to use the getter and setter method, but all the above we had to do manually. You will interested to know the internal storage of self.\n",
    "\n",
    "In original the values are stored in dictionary. So, x.__dict__ shows the required dictionary stored."
   ]
  },
  {
   "cell_type": "code",
   "execution_count": 4,
   "metadata": {
    "collapsed": false
   },
   "outputs": [
    {
     "name": "stdout",
     "output_type": "stream",
     "text": [
      "I am now in get_temperature\n",
      "0\n"
     ]
    }
   ],
   "source": [
    "class Celsius:\n",
    "    \n",
    "    def __init__(self, temperature = 0):\n",
    "        self._temperature = temperature\n",
    "        pass\n",
    "    \n",
    "    def to_farenheit(self):\n",
    "        return (self._temperature *1.8) + 32\n",
    "    \n",
    "    def set_temperature(self, temperature):\n",
    "        print \"I am now in set_temperature\"\n",
    "        self._temperature = temperature\n",
    "        return self\n",
    "        pass\n",
    "    \n",
    "    def get_temperature(self):\n",
    "        print \"I am now in get_temperature\"\n",
    "        return self._temperature\n",
    "    \n",
    "    temperature  = property(get_temperature,set_temperature)\n",
    "    pass\n",
    "\n",
    "x= Celsius()\n",
    "print x.temperature"
   ]
  },
  {
   "cell_type": "markdown",
   "metadata": {},
   "source": [
    "Seems bit weird, let me explain.. \n",
    "\n",
    "the function definition of property is :  \n",
    "``` property(fget=None, fset=None, fdel=None, doc=None)\n",
    "```\n",
    "\n",
    "So in the same fashion I have designed the property(get_temperature,set_temperature). Hope you got this implementation.\n",
    "\n",
    "__________________________________________________________________________________________"
   ]
  },
  {
   "cell_type": "markdown",
   "metadata": {},
   "source": [
    "# Tutorial on @wraps"
   ]
  },
  {
   "cell_type": "code",
   "execution_count": 9,
   "metadata": {
    "collapsed": false
   },
   "outputs": [
    {
     "name": "stdout",
     "output_type": "stream",
     "text": [
      "f was called\n",
      "420\n",
      "with_logging\n"
     ]
    }
   ],
   "source": [
    "def logged(func):\n",
    "    def with_logging(*args, **kargs):\n",
    "        print func.__name__+\" was called\"\n",
    "        return func(*args , **kargs)\n",
    "    \n",
    "    return with_logging\n",
    "\n",
    "@logged\n",
    "def f(x):\n",
    "    \"\"\" doc some math \"\"\"\n",
    "    return x+x * x\n",
    "\n",
    "print f(20)\n",
    "print f.__name__"
   ]
  },
  {
   "cell_type": "markdown",
   "metadata": {},
   "source": [
    "Here we see that the function is called by the @logged but one keen thing to notice is f.__name__ \n",
    "\n",
    "func.__name__ doesnt change name of the function\n",
    "but on the second call outside the name of the function changes.\n",
    "\n",
    "To resolve that we use @wraps, wraps takes the function name and adds the functionality of copying over the function name, docstring, argument list etc."
   ]
  },
  {
   "cell_type": "code",
   "execution_count": 12,
   "metadata": {
    "collapsed": false
   },
   "outputs": [
    {
     "name": "stdout",
     "output_type": "stream",
     "text": [
      "f was called\n",
      "420\n",
      "f\n"
     ]
    }
   ],
   "source": [
    "from functools import wraps\n",
    "def logged(func):\n",
    "    @wraps(func)\n",
    "    def with_logging(*args, **kargs):\n",
    "        print func.__name__+\" was called\"\n",
    "        return func(*args , **kargs)\n",
    "    \n",
    "    return with_logging\n",
    "\n",
    "@logged\n",
    "def f(x):\n",
    "    \"\"\" doc some math \"\"\"\n",
    "    return x+x * x\n",
    "\n",
    "print f(20)\n",
    "print f.__name__\n"
   ]
  }
 ],
 "metadata": {
  "kernelspec": {
   "display_name": "Python 2",
   "language": "python",
   "name": "python2"
  },
  "language_info": {
   "codemirror_mode": {
    "name": "ipython",
    "version": 2
   },
   "file_extension": ".py",
   "mimetype": "text/x-python",
   "name": "python",
   "nbconvert_exporter": "python",
   "pygments_lexer": "ipython2",
   "version": "2.7.6"
  }
 },
 "nbformat": 4,
 "nbformat_minor": 1
}
