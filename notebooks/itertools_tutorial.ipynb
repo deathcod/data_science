{
 "cells": [
  {
   "cell_type": "markdown",
   "metadata": {},
   "source": [
    "# Tutorial on itertools"
   ]
  },
  {
   "cell_type": "code",
   "execution_count": 1,
   "metadata": {
    "collapsed": true
   },
   "outputs": [],
   "source": [
    "from itertools import product"
   ]
  },
  {
   "cell_type": "code",
   "execution_count": 4,
   "metadata": {
    "collapsed": false
   },
   "outputs": [
    {
     "name": "stdout",
     "output_type": "stream",
     "text": [
      "(1, 3) (1, 4) (2, 3) (2, 4)\n"
     ]
    }
   ],
   "source": [
    "A = [1,2]\n",
    "B = [3,4]\n",
    "for i in product(A,B):\n",
    "    print i,"
   ]
  },
  {
   "cell_type": "code",
   "execution_count": 9,
   "metadata": {
    "collapsed": false
   },
   "outputs": [
    {
     "name": "stdout",
     "output_type": "stream",
     "text": [
      "[([1, 2], [1, 2]), ([1, 2], [1, 2]), ([1, 2], [1, 2]), ([1, 2], [1, 2])]\n"
     ]
    }
   ],
   "source": [
    "print list(product(A,repeat = 2))"
   ]
  },
  {
   "cell_type": "code",
   "execution_count": 10,
   "metadata": {
    "collapsed": false
   },
   "outputs": [
    {
     "name": "stdout",
     "output_type": "stream",
     "text": [
      "[([1, 2], [1, 2], [1, 2]), ([1, 2], [1, 2], [1, 2]), ([1, 2], [1, 2], [1, 2]), ([1, 2], [1, 2], [1, 2]), ([1, 2], [1, 2], [1, 2]), ([1, 2], [1, 2], [1, 2]), ([1, 2], [1, 2], [1, 2]), ([1, 2], [1, 2], [1, 2])]\n"
     ]
    }
   ],
   "source": [
    "print list(product(A,repeat = 3))"
   ]
  },
  {
   "cell_type": "code",
   "execution_count": 7,
   "metadata": {
    "collapsed": false
   },
   "outputs": [
    {
     "name": "stdout",
     "output_type": "stream",
     "text": [
      "[(1, 1), (1, 2), (2, 1), (2, 2)]\n"
     ]
    }
   ],
   "source": [
    "A = [[1,2],[1,2]]\n",
    "print list(product(*A))"
   ]
  },
  {
   "cell_type": "markdown",
   "metadata": {},
   "source": [
    "-------------------------------------------------------------------------------------------"
   ]
  },
  {
   "cell_type": "code",
   "execution_count": 12,
   "metadata": {
    "collapsed": false
   },
   "outputs": [],
   "source": [
    "from itertools import permutations"
   ]
  },
  {
   "cell_type": "code",
   "execution_count": 16,
   "metadata": {
    "collapsed": false
   },
   "outputs": [
    {
     "name": "stdout",
     "output_type": "stream",
     "text": [
      "[(4, 3, 2, 1), (4, 3, 1, 2), (4, 2, 3, 1), (4, 2, 1, 3), (4, 1, 3, 2), (4, 1, 2, 3), (3, 4, 2, 1), (3, 4, 1, 2), (3, 2, 4, 1), (3, 2, 1, 4), (3, 1, 4, 2), (3, 1, 2, 4), (2, 4, 3, 1), (2, 4, 1, 3), (2, 3, 4, 1), (2, 3, 1, 4), (2, 1, 4, 3), (2, 1, 3, 4), (1, 4, 3, 2), (1, 4, 2, 3), (1, 3, 4, 2), (1, 3, 2, 4), (1, 2, 4, 3), (1, 2, 3, 4)]\n"
     ]
    }
   ],
   "source": [
    "#this returns the list of permutations of a given numbers and the default length of the permutations is the original length of the lsit of numbers\n",
    "#also the pemutations are not sorted\n",
    "print list(permutations([4,3,2,1]))"
   ]
  },
  {
   "cell_type": "code",
   "execution_count": 19,
   "metadata": {
    "collapsed": false
   },
   "outputs": [
    {
     "name": "stdout",
     "output_type": "stream",
     "text": [
      "[(1, 2, 3, 4), (1, 2, 4, 3), (1, 3, 2, 4), (1, 3, 4, 2), (1, 4, 2, 3), (1, 4, 3, 2), (2, 1, 3, 4), (2, 1, 4, 3), (2, 3, 1, 4), (2, 3, 4, 1), (2, 4, 1, 3), (2, 4, 3, 1), (3, 1, 2, 4), (3, 1, 4, 2), (3, 2, 1, 4), (3, 2, 4, 1), (3, 4, 1, 2), (3, 4, 2, 1), (4, 1, 2, 3), (4, 1, 3, 2), (4, 2, 1, 3), (4, 2, 3, 1), (4, 3, 1, 2), (4, 3, 2, 1)]\n"
     ]
    }
   ],
   "source": [
    "#sorted or just sort the input list (:p)\n",
    "print sorted([i for i in permutations([4,3,2,1])])"
   ]
  },
  {
   "cell_type": "code",
   "execution_count": 21,
   "metadata": {
    "collapsed": false
   },
   "outputs": [
    {
     "data": {
      "text/plain": [
       "[('h', 'a', 'c', 'k'),\n",
       " ('h', 'a', 'k', 'c'),\n",
       " ('h', 'c', 'a', 'k'),\n",
       " ('h', 'c', 'k', 'a'),\n",
       " ('h', 'k', 'a', 'c'),\n",
       " ('h', 'k', 'c', 'a'),\n",
       " ('a', 'h', 'c', 'k'),\n",
       " ('a', 'h', 'k', 'c'),\n",
       " ('a', 'c', 'h', 'k'),\n",
       " ('a', 'c', 'k', 'h'),\n",
       " ('a', 'k', 'h', 'c'),\n",
       " ('a', 'k', 'c', 'h'),\n",
       " ('c', 'h', 'a', 'k'),\n",
       " ('c', 'h', 'k', 'a'),\n",
       " ('c', 'a', 'h', 'k'),\n",
       " ('c', 'a', 'k', 'h'),\n",
       " ('c', 'k', 'h', 'a'),\n",
       " ('c', 'k', 'a', 'h'),\n",
       " ('k', 'h', 'a', 'c'),\n",
       " ('k', 'h', 'c', 'a'),\n",
       " ('k', 'a', 'h', 'c'),\n",
       " ('k', 'a', 'c', 'h'),\n",
       " ('k', 'c', 'h', 'a'),\n",
       " ('k', 'c', 'a', 'h')]"
      ]
     },
     "execution_count": 21,
     "metadata": {},
     "output_type": "execute_result"
    }
   ],
   "source": [
    "list(permutations('hack'))"
   ]
  },
  {
   "cell_type": "code",
   "execution_count": 22,
   "metadata": {
    "collapsed": false
   },
   "outputs": [
    {
     "data": {
      "text/plain": [
       "[('h', 'a'),\n",
       " ('h', 'c'),\n",
       " ('h', 'k'),\n",
       " ('a', 'h'),\n",
       " ('a', 'c'),\n",
       " ('a', 'k'),\n",
       " ('c', 'h'),\n",
       " ('c', 'a'),\n",
       " ('c', 'k'),\n",
       " ('k', 'h'),\n",
       " ('k', 'a'),\n",
       " ('k', 'c')]"
      ]
     },
     "execution_count": 22,
     "metadata": {},
     "output_type": "execute_result"
    }
   ],
   "source": [
    "list(permutations('hack',2))"
   ]
  },
  {
   "cell_type": "markdown",
   "metadata": {},
   "source": [
    "____________________________________________________________________________"
   ]
  },
  {
   "cell_type": "code",
   "execution_count": 23,
   "metadata": {
    "collapsed": true
   },
   "outputs": [],
   "source": [
    "from itertools import combinations"
   ]
  },
  {
   "cell_type": "code",
   "execution_count": 25,
   "metadata": {
    "collapsed": false
   },
   "outputs": [
    {
     "name": "stdout",
     "output_type": "stream",
     "text": [
      "[(4, 3), (4, 2), (4, 1), (3, 2), (3, 1), (2, 1)]\n"
     ]
    }
   ],
   "source": [
    "print [i for i in combinations([4,3,2,1],2)]"
   ]
  },
  {
   "cell_type": "markdown",
   "metadata": {},
   "source": [
    "________________________________________________"
   ]
  },
  {
   "cell_type": "code",
   "execution_count": 27,
   "metadata": {
    "collapsed": true
   },
   "outputs": [],
   "source": [
    "from itertools import combinations_with_replacement"
   ]
  },
  {
   "cell_type": "code",
   "execution_count": 29,
   "metadata": {
    "collapsed": false
   },
   "outputs": [
    {
     "name": "stdout",
     "output_type": "stream",
     "text": [
      "[(4, 4), (4, 3), (4, 2), (4, 1), (3, 3), (3, 2), (3, 1), (2, 2), (2, 1), (1, 1)]\n"
     ]
    }
   ],
   "source": [
    "print [i for i in combinations_with_replacement([4,3,2,1],2)]"
   ]
  },
  {
   "cell_type": "markdown",
   "metadata": {},
   "source": [
    "____________________________________________________________"
   ]
  },
  {
   "cell_type": "code",
   "execution_count": 10,
   "metadata": {
    "collapsed": false
   },
   "outputs": [
    {
     "name": "stdout",
     "output_type": "stream",
     "text": [
      "12222333\n",
      "[(1, '1'), (4, '2'), (3, '3')]\n"
     ]
    }
   ],
   "source": [
    "from itertools import groupby\n",
    "\n",
    "x=raw_input()\n",
    "print [(len(list(b)),a) for a,b in groupby(x)]\n",
    "#(count,character)"
   ]
  },
  {
   "cell_type": "markdown",
   "metadata": {},
   "source": [
    "# Tutorial on functional approach"
   ]
  },
  {
   "cell_type": "markdown",
   "metadata": {},
   "source": [
    "Expression oriented functions of Python provides are:\n",
    "\n",
    "* map(aFunction, aSequence)\n",
    "* filter(aFunction, aSequence)\n",
    "* reduce(aFunction, aSequence)\n",
    "* lambda\n",
    "* list comprehension"
   ]
  },
  {
   "cell_type": "code",
   "execution_count": 12,
   "metadata": {
    "collapsed": false
   },
   "outputs": [
    {
     "data": {
      "text/plain": [
       "[1, 4, 9, 16]"
      ]
     },
     "execution_count": 12,
     "metadata": {},
     "output_type": "execute_result"
    }
   ],
   "source": [
    "list(map((lambda x: x **2), [1,2,3,4]))"
   ]
  },
  {
   "cell_type": "code",
   "execution_count": 13,
   "metadata": {
    "collapsed": false
   },
   "outputs": [
    {
     "data": {
      "text/plain": [
       "[-5, -4, -3, -2, -1]"
      ]
     },
     "execution_count": 13,
     "metadata": {},
     "output_type": "execute_result"
    }
   ],
   "source": [
    "list( filter((lambda x: x < 0), range(-5,5)))"
   ]
  },
  {
   "cell_type": "code",
   "execution_count": 26,
   "metadata": {
    "collapsed": false
   },
   "outputs": [
    {
     "name": "stdout",
     "output_type": "stream",
     "text": [
      "24\n",
      "0.0416666666667\n"
     ]
    }
   ],
   "source": [
    "print reduce( (lambda x, y: x * y), [1, 2, 3, 4] )\n",
    "# 1*2*3*4\n",
    "\n",
    "print reduce( (lambda x, y: 1.0*x / y), [1, 2, 3, 4] )\n",
    "# 1/2/3/4"
   ]
  }
 ],
 "metadata": {
  "kernelspec": {
   "display_name": "Python 2",
   "language": "python",
   "name": "python2"
  },
  "language_info": {
   "codemirror_mode": {
    "name": "ipython",
    "version": 2
   },
   "file_extension": ".py",
   "mimetype": "text/x-python",
   "name": "python",
   "nbconvert_exporter": "python",
   "pygments_lexer": "ipython2",
   "version": "2.7.6"
  }
 },
 "nbformat": 4,
 "nbformat_minor": 1
}
