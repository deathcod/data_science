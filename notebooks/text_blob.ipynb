{
 "cells": [
  {
   "cell_type": "markdown",
   "metadata": {},
   "source": [
    "# Tutorial to start with textblob"
   ]
  },
  {
   "cell_type": "code",
   "execution_count": 2,
   "metadata": {
    "collapsed": true
   },
   "outputs": [],
   "source": [
    "from textblob import TextBlob"
   ]
  },
  {
   "cell_type": "markdown",
   "metadata": {},
   "source": [
    "this is a text from the yelp review data-set,since in real cases we will require it to analysis different situations . So I found this should be a good start for tutorial."
   ]
  },
  {
   "cell_type": "code",
   "execution_count": 6,
   "metadata": {
    "collapsed": true
   },
   "outputs": [],
   "source": [
    "#we use our own sentence\n",
    "sentence = '''I have no idea why some people give bad reviews about this place. It goes to show you, you can please everyone. They are probably griping about something that their own fault...there are many people like that.\n",
    "\n",
    "In any case, my friend and I arrived at about 5:50 PM this past Sunday. It was pretty crowded, more than I thought for a Sunday evening and thought we would have to wait forever to get a seat but they said we'll be seated when the girl comes back from seating someone else. We were seated at 5:52 and the waiter came and got our drink orders. Everyone was very pleasant from the host that seated us to the waiter to the server. The prices were very good as well. We placed our orders once we decided what we wanted at 6:02. We shared the baked spaghetti calzone and the small \"Here's The Beef\" pizza so we can both try them. The calzone was huge and we got the smallest one (personal) and got the small 11\" pizza. Both were awesome! My friend liked the pizza better and I liked the calzone better. The calzone does have a sweetish sauce but that's how I like my sauce!\n",
    "\n",
    "We had to box part of the pizza to take it home and we were out the door by 6:42. So, everything was great and not like these bad reviewers. That goes to show you that  you have to try these things yourself because all these bad reviewers have some serious issues.\n",
    "'''\n",
    "sent = TextBlob(sentence)"
   ]
  },
  {
   "cell_type": "code",
   "execution_count": 4,
   "metadata": {
    "collapsed": false
   },
   "outputs": [
    {
     "data": {
      "text/plain": [
       "[('I', u'PRP'),\n",
       " ('have', u'VBP'),\n",
       " ('no', u'DT'),\n",
       " ('idea', u'NN'),\n",
       " ('why', u'WRB'),\n",
       " ('some', u'DT'),\n",
       " ('people', u'NNS'),\n",
       " ('give', u'VBP'),\n",
       " ('bad', u'JJ'),\n",
       " ('reviews', u'NNS'),\n",
       " ('about', u'IN'),\n",
       " ('this', u'DT'),\n",
       " ('place', u'NN'),\n",
       " ('It', u'PRP'),\n",
       " ('goes', u'VBZ'),\n",
       " ('to', u'TO'),\n",
       " ('show', u'VB'),\n",
       " ('you', u'PRP'),\n",
       " ('you', u'PRP'),\n",
       " ('can', u'MD'),\n",
       " ('please', u'VB'),\n",
       " ('everyone', u'NN'),\n",
       " ('They', u'PRP'),\n",
       " ('are', u'VBP'),\n",
       " ('probably', u'RB'),\n",
       " ('griping', u'VBG'),\n",
       " ('about', u'IN'),\n",
       " ('something', u'NN'),\n",
       " ('that', u'IN'),\n",
       " ('their', u'PRP$'),\n",
       " ('own', u'JJ'),\n",
       " ('fault', u'NN'),\n",
       " ('there', u'EX'),\n",
       " ('are', u'VBP'),\n",
       " ('many', u'JJ'),\n",
       " ('people', u'NNS'),\n",
       " ('like', u'IN'),\n",
       " ('that', u'DT'),\n",
       " ('In', u'IN'),\n",
       " ('any', u'DT'),\n",
       " ('case', u'NN'),\n",
       " ('my', u'PRP$'),\n",
       " ('friend', u'NN'),\n",
       " ('and', u'CC'),\n",
       " ('I', u'PRP'),\n",
       " ('arrived', u'VBD'),\n",
       " ('at', u'IN'),\n",
       " ('about', u'IN'),\n",
       " ('5:50', u'CD'),\n",
       " ('PM', u'NNP'),\n",
       " ('this', u'DT'),\n",
       " ('past', u'JJ'),\n",
       " ('Sunday', u'NNP'),\n",
       " ('It', u'PRP'),\n",
       " ('was', u'VBD'),\n",
       " ('pretty', u'RB'),\n",
       " ('crowded', u'VBN'),\n",
       " ('more', u'JJR'),\n",
       " ('than', u'IN'),\n",
       " ('I', u'PRP'),\n",
       " ('thought', u'VBD'),\n",
       " ('for', u'IN'),\n",
       " ('a', u'DT'),\n",
       " ('Sunday', u'NNP'),\n",
       " ('evening', u'NN'),\n",
       " ('and', u'CC'),\n",
       " ('thought', u'NN'),\n",
       " ('we', u'PRP'),\n",
       " ('would', u'MD'),\n",
       " ('have', u'VB'),\n",
       " ('to', u'TO'),\n",
       " ('wait', u'VB'),\n",
       " ('forever', u'RB'),\n",
       " ('to', u'TO'),\n",
       " ('get', u'VB'),\n",
       " ('a', u'DT'),\n",
       " ('seat', u'NN'),\n",
       " ('but', u'CC'),\n",
       " ('they', u'PRP'),\n",
       " ('said', u'VBD'),\n",
       " ('we', u'PRP'),\n",
       " (\"'ll\", u'MD'),\n",
       " ('be', u'VB'),\n",
       " ('seated', u'VBN'),\n",
       " ('when', u'WRB'),\n",
       " ('the', u'DT'),\n",
       " ('girl', u'NN'),\n",
       " ('comes', u'VBZ'),\n",
       " ('back', u'RB'),\n",
       " ('from', u'IN'),\n",
       " ('seating', u'VBG'),\n",
       " ('someone', u'NN'),\n",
       " ('else', u'RB'),\n",
       " ('We', u'PRP'),\n",
       " ('were', u'VBD'),\n",
       " ('seated', u'VBN'),\n",
       " ('at', u'IN'),\n",
       " ('5:52', u'CD'),\n",
       " ('and', u'CC'),\n",
       " ('the', u'DT'),\n",
       " ('waiter', u'NN'),\n",
       " ('came', u'VBD'),\n",
       " ('and', u'CC'),\n",
       " ('got', u'VBD'),\n",
       " ('our', u'PRP$'),\n",
       " ('drink', u'NN'),\n",
       " ('orders', u'NNS'),\n",
       " ('Everyone', u'NN'),\n",
       " ('was', u'VBD'),\n",
       " ('very', u'RB'),\n",
       " ('pleasant', u'JJ'),\n",
       " ('from', u'IN'),\n",
       " ('the', u'DT'),\n",
       " ('host', u'NN'),\n",
       " ('that', u'WDT'),\n",
       " ('seated', u'VBD'),\n",
       " ('us', u'PRP'),\n",
       " ('to', u'TO'),\n",
       " ('the', u'DT'),\n",
       " ('waiter', u'NN'),\n",
       " ('to', u'TO'),\n",
       " ('the', u'DT'),\n",
       " ('server', u'NN'),\n",
       " ('The', u'DT'),\n",
       " ('prices', u'NNS'),\n",
       " ('were', u'VBD'),\n",
       " ('very', u'RB'),\n",
       " ('good', u'JJ'),\n",
       " ('as', u'IN'),\n",
       " ('well', u'RB'),\n",
       " ('We', u'PRP'),\n",
       " ('placed', u'VBD'),\n",
       " ('our', u'PRP$'),\n",
       " ('orders', u'NNS'),\n",
       " ('once', u'RB'),\n",
       " ('we', u'PRP'),\n",
       " ('decided', u'VBD'),\n",
       " ('what', u'WP'),\n",
       " ('we', u'PRP'),\n",
       " ('wanted', u'VBD'),\n",
       " ('at', u'IN'),\n",
       " ('6:02', u'CD'),\n",
       " ('We', u'PRP'),\n",
       " ('shared', u'VBD'),\n",
       " ('the', u'DT'),\n",
       " ('baked', u'JJ'),\n",
       " ('spaghetti', u'NNS'),\n",
       " ('calzone', u'NN'),\n",
       " ('and', u'CC'),\n",
       " ('the', u'DT'),\n",
       " ('small', u'JJ'),\n",
       " ('Here', u'RB'),\n",
       " (\"'s\", u'VBZ'),\n",
       " ('The', u'DT'),\n",
       " ('Beef', u'NNP'),\n",
       " ('pizza', u'NN'),\n",
       " ('so', u'IN'),\n",
       " ('we', u'PRP'),\n",
       " ('can', u'MD'),\n",
       " ('both', u'DT'),\n",
       " ('try', u'VB'),\n",
       " ('them', u'PRP'),\n",
       " ('The', u'DT'),\n",
       " ('calzone', u'NN'),\n",
       " ('was', u'VBD'),\n",
       " ('huge', u'JJ'),\n",
       " ('and', u'CC'),\n",
       " ('we', u'PRP'),\n",
       " ('got', u'VBD'),\n",
       " ('the', u'DT'),\n",
       " ('smallest', u'JJS'),\n",
       " ('one', u'NN'),\n",
       " ('personal', u'JJ'),\n",
       " ('and', u'CC'),\n",
       " ('got', u'VBD'),\n",
       " ('the', u'DT'),\n",
       " ('small', u'JJ'),\n",
       " ('11', u'CD'),\n",
       " ('pizza', u'NN'),\n",
       " ('Both', u'DT'),\n",
       " ('were', u'VBD'),\n",
       " ('awesome', u'JJ'),\n",
       " ('My', u'PRP$'),\n",
       " ('friend', u'NN'),\n",
       " ('liked', u'VBD'),\n",
       " ('the', u'DT'),\n",
       " ('pizza', u'NN'),\n",
       " ('better', u'RBR'),\n",
       " ('and', u'CC'),\n",
       " ('I', u'PRP'),\n",
       " ('liked', u'VBD'),\n",
       " ('the', u'DT'),\n",
       " ('calzone', u'NN'),\n",
       " ('better', u'RBR'),\n",
       " ('The', u'DT'),\n",
       " ('calzone', u'NN'),\n",
       " ('does', u'VBZ'),\n",
       " ('have', u'VB'),\n",
       " ('a', u'DT'),\n",
       " ('sweetish', u'JJ'),\n",
       " ('sauce', u'NN'),\n",
       " ('but', u'CC'),\n",
       " ('that', u'DT'),\n",
       " (\"'s\", u'VBZ'),\n",
       " ('how', u'WRB'),\n",
       " ('I', u'PRP'),\n",
       " ('like', u'VBP'),\n",
       " ('my', u'PRP$'),\n",
       " ('sauce', u'NN'),\n",
       " ('We', u'PRP'),\n",
       " ('had', u'VBD'),\n",
       " ('to', u'TO'),\n",
       " ('box', u'VB'),\n",
       " ('part', u'NN'),\n",
       " ('of', u'IN'),\n",
       " ('the', u'DT'),\n",
       " ('pizza', u'NN'),\n",
       " ('to', u'TO'),\n",
       " ('take', u'VB'),\n",
       " ('it', u'PRP'),\n",
       " ('home', u'RB'),\n",
       " ('and', u'CC'),\n",
       " ('we', u'PRP'),\n",
       " ('were', u'VBD'),\n",
       " ('out', u'RP'),\n",
       " ('the', u'DT'),\n",
       " ('door', u'NN'),\n",
       " ('by', u'IN'),\n",
       " ('6:42', u'CD'),\n",
       " ('So', u'RB'),\n",
       " ('everything', u'NN'),\n",
       " ('was', u'VBD'),\n",
       " ('great', u'JJ'),\n",
       " ('and', u'CC'),\n",
       " ('not', u'RB'),\n",
       " ('like', u'IN'),\n",
       " ('these', u'DT'),\n",
       " ('bad', u'JJ'),\n",
       " ('reviewers', u'NNS'),\n",
       " ('That', u'DT'),\n",
       " ('goes', u'VBZ'),\n",
       " ('to', u'TO'),\n",
       " ('show', u'VB'),\n",
       " ('you', u'PRP'),\n",
       " ('that', u'IN'),\n",
       " ('you', u'PRP'),\n",
       " ('have', u'VBP'),\n",
       " ('to', u'TO'),\n",
       " ('try', u'VB'),\n",
       " ('these', u'DT'),\n",
       " ('things', u'NNS'),\n",
       " ('yourself', u'PRP'),\n",
       " ('because', u'IN'),\n",
       " ('all', u'PDT'),\n",
       " ('these', u'DT'),\n",
       " ('bad', u'JJ'),\n",
       " ('reviewers', u'NNS'),\n",
       " ('have', u'VBP'),\n",
       " ('some', u'DT'),\n",
       " ('serious', u'JJ'),\n",
       " ('issues', u'NNS')]"
      ]
     },
     "execution_count": 4,
     "metadata": {},
     "output_type": "execute_result"
    }
   ],
   "source": [
    "sent.tags"
   ]
  },
  {
   "cell_type": "code",
   "execution_count": 5,
   "metadata": {
    "collapsed": false
   },
   "outputs": [
    {
     "data": {
      "text/plain": [
       "WordList([u'bad reviews', u'own fault ...', 'pm', u'drink orders', 'everyone', u'spaghetti calzone', 'beef', u'sweetish sauce', u'box part', u'bad reviewers', u'bad reviewers', u'serious issues'])"
      ]
     },
     "execution_count": 5,
     "metadata": {},
     "output_type": "execute_result"
    }
   ],
   "source": [
    "sent.noun_phrases"
   ]
  },
  {
   "cell_type": "markdown",
   "metadata": {},
   "source": [
    "### sentiment analysis"
   ]
  },
  {
   "cell_type": "code",
   "execution_count": 7,
   "metadata": {
    "collapsed": false
   },
   "outputs": [
    {
     "data": {
      "text/plain": [
       "Sentiment(polarity=0.22977272727272727, subjectivity=0.6384848484848485)"
      ]
     },
     "execution_count": 7,
     "metadata": {},
     "output_type": "execute_result"
    }
   ],
   "source": [
    "sent.sentiment"
   ]
  },
  {
   "cell_type": "markdown",
   "metadata": {},
   "source": [
    "### tokenisation"
   ]
  },
  {
   "cell_type": "code",
   "execution_count": 8,
   "metadata": {
    "collapsed": false
   },
   "outputs": [
    {
     "data": {
      "text/plain": [
       "WordList(['I', 'have', 'no', 'idea', 'why', 'some', 'people', 'give', 'bad', 'reviews', 'about', 'this', 'place', 'It', 'goes', 'to', 'show', 'you', 'you', 'can', 'please', 'everyone', 'They', 'are', 'probably', 'griping', 'about', 'something', 'that', 'their', 'own', 'fault', 'there', 'are', 'many', 'people', 'like', 'that', 'In', 'any', 'case', 'my', 'friend', 'and', 'I', 'arrived', 'at', 'about', '5:50', 'PM', 'this', 'past', 'Sunday', 'It', 'was', 'pretty', 'crowded', 'more', 'than', 'I', 'thought', 'for', 'a', 'Sunday', 'evening', 'and', 'thought', 'we', 'would', 'have', 'to', 'wait', 'forever', 'to', 'get', 'a', 'seat', 'but', 'they', 'said', 'we', \"'ll\", 'be', 'seated', 'when', 'the', 'girl', 'comes', 'back', 'from', 'seating', 'someone', 'else', 'We', 'were', 'seated', 'at', '5:52', 'and', 'the', 'waiter', 'came', 'and', 'got', 'our', 'drink', 'orders', 'Everyone', 'was', 'very', 'pleasant', 'from', 'the', 'host', 'that', 'seated', 'us', 'to', 'the', 'waiter', 'to', 'the', 'server', 'The', 'prices', 'were', 'very', 'good', 'as', 'well', 'We', 'placed', 'our', 'orders', 'once', 'we', 'decided', 'what', 'we', 'wanted', 'at', '6:02', 'We', 'shared', 'the', 'baked', 'spaghetti', 'calzone', 'and', 'the', 'small', 'Here', \"'s\", 'The', 'Beef', 'pizza', 'so', 'we', 'can', 'both', 'try', 'them', 'The', 'calzone', 'was', 'huge', 'and', 'we', 'got', 'the', 'smallest', 'one', 'personal', 'and', 'got', 'the', 'small', '11', 'pizza', 'Both', 'were', 'awesome', 'My', 'friend', 'liked', 'the', 'pizza', 'better', 'and', 'I', 'liked', 'the', 'calzone', 'better', 'The', 'calzone', 'does', 'have', 'a', 'sweetish', 'sauce', 'but', 'that', \"'s\", 'how', 'I', 'like', 'my', 'sauce', 'We', 'had', 'to', 'box', 'part', 'of', 'the', 'pizza', 'to', 'take', 'it', 'home', 'and', 'we', 'were', 'out', 'the', 'door', 'by', '6:42', 'So', 'everything', 'was', 'great', 'and', 'not', 'like', 'these', 'bad', 'reviewers', 'That', 'goes', 'to', 'show', 'you', 'that', 'you', 'have', 'to', 'try', 'these', 'things', 'yourself', 'because', 'all', 'these', 'bad', 'reviewers', 'have', 'some', 'serious', 'issues'])"
      ]
     },
     "execution_count": 8,
     "metadata": {},
     "output_type": "execute_result"
    }
   ],
   "source": [
    "sent.words"
   ]
  },
  {
   "cell_type": "code",
   "execution_count": 9,
   "metadata": {
    "collapsed": false
   },
   "outputs": [
    {
     "data": {
      "text/plain": [
       "[Sentence(\"I have no idea why some people give bad reviews about this place.\"),\n",
       " Sentence(\"It goes to show you, you can please everyone.\"),\n",
       " Sentence(\"They are probably griping about something that their own fault...there are many people like that.\"),\n",
       " Sentence(\"In any case, my friend and I arrived at about 5:50 PM this past Sunday.\"),\n",
       " Sentence(\"It was pretty crowded, more than I thought for a Sunday evening and thought we would have to wait forever to get a seat but they said we'll be seated when the girl comes back from seating someone else.\"),\n",
       " Sentence(\"We were seated at 5:52 and the waiter came and got our drink orders.\"),\n",
       " Sentence(\"Everyone was very pleasant from the host that seated us to the waiter to the server.\"),\n",
       " Sentence(\"The prices were very good as well.\"),\n",
       " Sentence(\"We placed our orders once we decided what we wanted at 6:02.\"),\n",
       " Sentence(\"We shared the baked spaghetti calzone and the small \"Here's The Beef\" pizza so we can both try them.\"),\n",
       " Sentence(\"The calzone was huge and we got the smallest one (personal) and got the small 11\" pizza.\"),\n",
       " Sentence(\"Both were awesome!\"),\n",
       " Sentence(\"My friend liked the pizza better and I liked the calzone better.\"),\n",
       " Sentence(\"The calzone does have a sweetish sauce but that's how I like my sauce!\"),\n",
       " Sentence(\"We had to box part of the pizza to take it home and we were out the door by 6:42.\"),\n",
       " Sentence(\"So, everything was great and not like these bad reviewers.\"),\n",
       " Sentence(\"That goes to show you that  you have to try these things yourself because all these bad reviewers have some serious issues.\n",
       " \")]"
      ]
     },
     "execution_count": 9,
     "metadata": {},
     "output_type": "execute_result"
    }
   ],
   "source": [
    "sent.sentences"
   ]
  },
  {
   "cell_type": "code",
   "execution_count": 10,
   "metadata": {
    "collapsed": false
   },
   "outputs": [
    {
     "name": "stdout",
     "output_type": "stream",
     "text": [
      "Sentiment(polarity=-0.6999999999999998, subjectivity=0.6666666666666666)\n",
      "Sentiment(polarity=0.0, subjectivity=0.0)\n",
      "Sentiment(polarity=0.55, subjectivity=0.75)\n",
      "Sentiment(polarity=-0.25, subjectivity=0.25)\n",
      "Sentiment(polarity=0.25, subjectivity=0.5)\n",
      "Sentiment(polarity=0.0, subjectivity=0.0)\n",
      "Sentiment(polarity=0.9533333333333333, subjectivity=1.0)\n",
      "Sentiment(polarity=0.9099999999999999, subjectivity=0.7800000000000001)\n",
      "Sentiment(polarity=0.0, subjectivity=0.0)\n",
      "Sentiment(polarity=-0.25, subjectivity=0.4)\n",
      "Sentiment(polarity=0.050000000000000024, subjectivity=0.5333333333333333)\n",
      "Sentiment(polarity=1.0, subjectivity=1.0)\n",
      "Sentiment(polarity=0.55, subjectivity=0.65)\n",
      "Sentiment(polarity=0.0, subjectivity=0.0)\n",
      "Sentiment(polarity=0.0, subjectivity=0.0)\n",
      "Sentiment(polarity=0.0500000000000001, subjectivity=0.7083333333333333)\n",
      "Sentiment(polarity=-0.5166666666666666, subjectivity=0.6666666666666666)\n"
     ]
    }
   ],
   "source": [
    "for sentence in sent.sentences:\n",
    "    print sentence.sentiment\n"
   ]
  },
  {
   "cell_type": "markdown",
   "metadata": {},
   "source": [
    "So seeing this you can understand that polarity shows the extend the sentence is positive or negative , more to positive number is the sign of positive review.\n",
    "\n",
    "more to zero is a kind of neutral review.\n",
    "\n",
    "more to negative is negative review"
   ]
  },
  {
   "cell_type": "markdown",
   "metadata": {},
   "source": [
    "### Words Inflection and Lemmatization"
   ]
  },
  {
   "cell_type": "code",
   "execution_count": 11,
   "metadata": {
    "collapsed": false
   },
   "outputs": [
    {
     "data": {
      "text/plain": [
       "WordList(['I', 'have', 'no', 'idea', 'why', 'some', 'person', 'give', 'bad', 'review', 'about', 'thi', 'place', 'It', 'go', 'to', 'show', 'you', 'you', 'can', 'please', 'everyone', 'They', 'are', 'probably', 'griping', 'about', 'something', 'that', 'their', 'own', 'fault', 'there', 'are', 'many', 'person', 'like', 'that', 'In', 'any', 'case', 'my', 'friend', 'and', 'I', 'arrived', 'at', 'about', '5:50', 'PM', 'thi', 'past', 'Sunday', 'It', 'wa', 'pretty', 'crowded', 'more', 'than', 'I', 'thought', 'for', 'a', 'Sunday', 'evening', 'and', 'thought', 'we', 'would', 'have', 'to', 'wait', 'forever', 'to', 'get', 'a', 'seat', 'but', 'they', 'said', 'we', \"'ll\", 'be', 'seated', 'when', 'the', 'girl', 'come', 'back', 'from', 'seating', 'someone', 'else', 'We', 'were', 'seated', 'at', '5:52', 'and', 'the', 'waiter', 'came', 'and', 'got', 'my', 'drink', 'order', 'Everyone', 'wa', 'very', 'pleasant', 'from', 'the', 'host', 'that', 'seated', 'u', 'to', 'the', 'waiter', 'to', 'the', 'server', 'The', 'price', 'were', 'very', 'good', 'a', 'well', 'We', 'placed', 'my', 'order', 'once', 'we', 'decided', 'what', 'we', 'wanted', 'at', '6:02', 'We', 'shared', 'the', 'baked', 'spaghettus', 'calzone', 'and', 'the', 'small', 'Here', \"'\", 'The', 'Beef', 'pizza', 'so', 'we', 'can', 'both', 'try', 'them', 'The', 'calzone', 'wa', 'huge', 'and', 'we', 'got', 'the', 'smallest', 'one', 'personal', 'and', 'got', 'the', 'small', '11', 'pizza', 'Both', 'were', 'awesome', 'My', 'friend', 'liked', 'the', 'pizza', 'better', 'and', 'I', 'liked', 'the', 'calzone', 'better', 'The', 'calzone', 'do', 'have', 'a', 'sweetish', 'sauce', 'but', 'that', \"'\", 'how', 'I', 'like', 'my', 'sauce', 'We', 'had', 'to', 'box', 'part', 'of', 'the', 'pizza', 'to', 'take', 'it', 'home', 'and', 'we', 'were', 'out', 'the', 'door', 'by', '6:42', 'So', 'everything', 'wa', 'great', 'and', 'not', 'like', 'these', 'bad', 'reviewer', 'That', 'go', 'to', 'show', 'you', 'that', 'you', 'have', 'to', 'try', 'these', 'thing', 'yourself', 'because', 'all', 'these', 'bad', 'reviewer', 'have', 'some', 'seriou', 'issue'])"
      ]
     },
     "execution_count": 11,
     "metadata": {},
     "output_type": "execute_result"
    }
   ],
   "source": [
    "sent.words.singularize()"
   ]
  },
  {
   "cell_type": "code",
   "execution_count": 13,
   "metadata": {
    "collapsed": false
   },
   "outputs": [
    {
     "data": {
      "text/plain": [
       "WordList(['we', 'haves', 'noes', 'ideas', 'whies', 'somes', 'peoples', 'gives', 'bads', 'reviewss', 'abouts', 'these', 'places', 'Its', 'goess', 'toes', 'shows', 'you', 'you', 'cans', 'pleases', 'everyones', 'Theys', 'ares', 'probablies', 'gripings', 'abouts', 'somethings', 'those', 'their', 'owns', 'faults', 'theres', 'ares', 'manies', 'peoples', 'likes', 'those', 'Ins', 'all', 'cases', 'our', 'friends', 'ands', 'we', 'arriveds', 'ats', 'abouts', '5:50s', 'PMs', 'these', 'pasts', 'Sundays', 'Its', 'wass', 'pretties', 'crowdeds', 'mores', 'thans', 'we', 'thoughts', 'fors', 'some', 'Sundays', 'evenings', 'ands', 'thoughts', 'wes', 'woulds', 'haves', 'toes', 'waits', 'forevers', 'toes', 'gets', 'some', 'seats', 'buts', 'they', 'saids', 'wes', \"'lls\", 'bes', 'seateds', 'whens', 'thes', 'girls', 'comess', 'backs', 'froms', 'seatings', 'someones', 'elses', 'Wes', 'weres', 'seateds', 'ats', '5:52s', 'ands', 'thes', 'waiters', 'cames', 'ands', 'gots', 'ours', 'drinks', 'orderss', 'Everyones', 'wass', 'veries', 'pleasants', 'froms', 'thes', 'hosts', 'those', 'seateds', 'uss', 'toes', 'thes', 'waiters', 'toes', 'thes', 'servers', 'Thes', 'pricess', 'weres', 'veries', 'goods', 'ass', 'wells', 'Wes', 'placeds', 'ours', 'orderss', 'onces', 'wes', 'decideds', 'whats', 'wes', 'wanteds', 'ats', '6:02s', 'Wes', 'shareds', 'thes', 'bakeds', 'spaghettis', 'calzones', 'ands', 'thes', 'smalls', 'Heres', \"s'\", 'Thes', 'Beefs', 'pizzas', 'soes', 'wes', 'cans', 'boths', 'tries', 'them', 'Thes', 'calzones', 'wass', 'huges', 'ands', 'wes', 'gots', 'thes', 'smallests', 'ones', 'personals', 'ands', 'gots', 'thes', 'smalls', '11s', 'pizzas', 'Boths', 'weres', 'awesomes', 'Mys', 'friends', 'likeds', 'thes', 'pizzas', 'betters', 'ands', 'we', 'likeds', 'thes', 'calzones', 'betters', 'Thes', 'calzones', 'doess', 'haves', 'some', 'sweetishes', 'sauces', 'buts', 'those', \"s'\", 'hows', 'we', 'likes', 'our', 'sauces', 'Wes', 'hads', 'toes', 'boxes', 'parts', 'ofs', 'thes', 'pizzas', 'toes', 'takes', 'they', 'homes', 'ands', 'wes', 'weres', 'outs', 'thes', 'doors', 'bies', '6:42s', 'Soes', 'everythings', 'wass', 'greats', 'ands', 'nots', 'likes', 'theses', 'bads', 'reviewerss', 'Thats', 'goess', 'toes', 'shows', 'you', 'those', 'you', 'haves', 'toes', 'tries', 'theses', 'thingss', 'yourself', 'becauses', 'alls', 'theses', 'bads', 'reviewerss', 'haves', 'somes', 'seriouss', 'issuess'])"
      ]
     },
     "execution_count": 13,
     "metadata": {},
     "output_type": "execute_result"
    }
   ],
   "source": [
    "sent.words.pluralize()"
   ]
  },
  {
   "cell_type": "markdown",
   "metadata": {},
   "source": [
    "Ok, Pluralize was not that much effective,it has a code inside which pluralize on the basis of ty->ties sort of, and if no relation just add \"s\" to the end of the word."
   ]
  },
  {
   "cell_type": "code",
   "execution_count": 14,
   "metadata": {
    "collapsed": false
   },
   "outputs": [
    {
     "data": {
      "text/plain": [
       "WordList(['I', 'have', 'no', 'idea', 'why', 'some', 'people', 'give', 'bad', u'review', 'about', 'this', 'place', 'It', u'go', 'to', 'show', 'you', 'you', 'can', 'please', 'everyone', 'They', 'are', 'probably', 'griping', 'about', 'something', 'that', 'their', 'own', 'fault', 'there', 'are', 'many', 'people', 'like', 'that', 'In', 'any', 'case', 'my', 'friend', 'and', 'I', 'arrived', 'at', 'about', '5:50', 'PM', 'this', 'past', 'Sunday', 'It', u'wa', 'pretty', 'crowded', 'more', 'than', 'I', 'thought', 'for', 'a', 'Sunday', 'evening', 'and', 'thought', 'we', 'would', 'have', 'to', 'wait', 'forever', 'to', 'get', 'a', 'seat', 'but', 'they', 'said', 'we', \"'ll\", 'be', 'seated', 'when', 'the', 'girl', u'come', 'back', 'from', 'seating', 'someone', 'else', 'We', 'were', 'seated', 'at', '5:52', 'and', 'the', 'waiter', 'came', 'and', 'got', 'our', 'drink', u'order', 'Everyone', u'wa', 'very', 'pleasant', 'from', 'the', 'host', 'that', 'seated', u'u', 'to', 'the', 'waiter', 'to', 'the', 'server', 'The', u'price', 'were', 'very', 'good', u'a', 'well', 'We', 'placed', 'our', u'order', 'once', 'we', 'decided', 'what', 'we', 'wanted', 'at', '6:02', 'We', 'shared', 'the', 'baked', 'spaghetti', 'calzone', 'and', 'the', 'small', 'Here', \"'s\", 'The', 'Beef', 'pizza', 'so', 'we', 'can', 'both', 'try', 'them', 'The', 'calzone', u'wa', 'huge', 'and', 'we', 'got', 'the', 'smallest', 'one', 'personal', 'and', 'got', 'the', 'small', '11', 'pizza', 'Both', 'were', 'awesome', 'My', 'friend', 'liked', 'the', 'pizza', 'better', 'and', 'I', 'liked', 'the', 'calzone', 'better', 'The', 'calzone', u'doe', 'have', 'a', 'sweetish', 'sauce', 'but', 'that', \"'s\", 'how', 'I', 'like', 'my', 'sauce', 'We', 'had', 'to', 'box', 'part', 'of', 'the', 'pizza', 'to', 'take', 'it', 'home', 'and', 'we', 'were', 'out', 'the', 'door', 'by', '6:42', 'So', 'everything', u'wa', 'great', 'and', 'not', 'like', 'these', 'bad', u'reviewer', 'That', u'go', 'to', 'show', 'you', 'that', 'you', 'have', 'to', 'try', 'these', u'thing', 'yourself', 'because', 'all', 'these', 'bad', u'reviewer', 'have', 'some', 'serious', u'issue'])"
      ]
     },
     "execution_count": 14,
     "metadata": {},
     "output_type": "execute_result"
    }
   ],
   "source": [
    "sent.words.lemmatize()"
   ]
  },
  {
   "cell_type": "code",
   "execution_count": 16,
   "metadata": {
    "collapsed": false
   },
   "outputs": [
    {
     "data": {
      "text/plain": [
       "TextBlob(\"I have no idea why some people give bad reviews about this place. It goes to show you, you can please everyone. They are probably gripping about something that their own fault...there are many people like that.\n",
       "\n",
       "In any case, my friend and I arrived at about 5:50 of this past Sunday. It was pretty crowded, more than I thought for a Sunday evening and thought we would have to wait forever to get a seat but they said we'll be seated when the girl comes back from seating someone else. He were seated at 5:52 and the waiter came and got our drink orders. Everyone was very pleasant from the host that seated us to the waiter to the server. The prices were very good as well. He placed our orders once we decided what we wanted at 6:02. He shared the baked spaghetti alone and the small \"Were's The Beef\" penza so we can both try them. The alone was huge and we got the smallest one (personal) and got the small 11\" penza. Both were awesome! By friend liked the penza better and I liked the alone better. The alone does have a sweetish sauce but that's how I like my sauce!\n",
       "\n",
       "He had to box part of the penza to take it home and we were out the door by 6:42. To, everything was great and not like these bad reviews. That goes to show you that  you have to try these things yourself because all these bad reviews have some serious issues.\n",
       "\")"
      ]
     },
     "execution_count": 16,
     "metadata": {},
     "output_type": "execute_result"
    }
   ],
   "source": [
    "sent.correct()"
   ]
  },
  {
   "cell_type": "markdown",
   "metadata": {},
   "source": [
    "Here I dont know but instead of correcting it just made some words worst. It detected pizza as wrong word and converted it to penza.."
   ]
  },
  {
   "cell_type": "code",
   "execution_count": 17,
   "metadata": {
    "collapsed": false
   },
   "outputs": [
    {
     "data": {
      "text/plain": [
       "4"
      ]
     },
     "execution_count": 17,
     "metadata": {},
     "output_type": "execute_result"
    }
   ],
   "source": [
    "sent.word_counts['pizza']"
   ]
  },
  {
   "cell_type": "code",
   "execution_count": 19,
   "metadata": {
    "collapsed": false
   },
   "outputs": [
    {
     "data": {
      "text/plain": [
       "4"
      ]
     },
     "execution_count": 19,
     "metadata": {},
     "output_type": "execute_result"
    }
   ],
   "source": [
    "sent.words.count('pizza')"
   ]
  },
  {
   "cell_type": "code",
   "execution_count": 24,
   "metadata": {
    "collapsed": false
   },
   "outputs": [
    {
     "data": {
      "text/plain": [
       "4"
      ]
     },
     "execution_count": 24,
     "metadata": {},
     "output_type": "execute_result"
    }
   ],
   "source": [
    "sent.words.count('pizza',case_sensitive = True)"
   ]
  },
  {
   "cell_type": "markdown",
   "metadata": {},
   "source": [
    "### TextBlob are like string"
   ]
  },
  {
   "cell_type": "code",
   "execution_count": 25,
   "metadata": {
    "collapsed": false
   },
   "outputs": [
    {
     "data": {
      "text/plain": [
       "TextBlob(\"I have no \")"
      ]
     },
     "execution_count": 25,
     "metadata": {},
     "output_type": "execute_result"
    }
   ],
   "source": [
    "sent[0:10]"
   ]
  },
  {
   "cell_type": "code",
   "execution_count": 26,
   "metadata": {
    "collapsed": false
   },
   "outputs": [
    {
     "data": {
      "text/plain": [
       "TextBlob(\"I HAVE NO \")"
      ]
     },
     "execution_count": 26,
     "metadata": {},
     "output_type": "execute_result"
    }
   ],
   "source": [
    "sent[0:10].upper()"
   ]
  },
  {
   "cell_type": "code",
   "execution_count": 27,
   "metadata": {
    "collapsed": false
   },
   "outputs": [
    {
     "data": {
      "text/plain": [
       "805"
      ]
     },
     "execution_count": 27,
     "metadata": {},
     "output_type": "execute_result"
    }
   ],
   "source": [
    "sent.find('pizza')"
   ]
  },
  {
   "cell_type": "code",
   "execution_count": 29,
   "metadata": {
    "collapsed": false
   },
   "outputs": [
    {
     "data": {
      "text/plain": [
       "[WordList(['I', 'have']),\n",
       " WordList(['have', 'no']),\n",
       " WordList(['no', 'idea']),\n",
       " WordList(['idea', 'why']),\n",
       " WordList(['why', 'some']),\n",
       " WordList(['some', 'people']),\n",
       " WordList(['people', 'give']),\n",
       " WordList(['give', 'bad']),\n",
       " WordList(['bad', 'reviews']),\n",
       " WordList(['reviews', 'about']),\n",
       " WordList(['about', 'this']),\n",
       " WordList(['this', 'place']),\n",
       " WordList(['place', 'It']),\n",
       " WordList(['It', 'goes']),\n",
       " WordList(['goes', 'to']),\n",
       " WordList(['to', 'show']),\n",
       " WordList(['show', 'you']),\n",
       " WordList(['you', 'you']),\n",
       " WordList(['you', 'can']),\n",
       " WordList(['can', 'please']),\n",
       " WordList(['please', 'everyone']),\n",
       " WordList(['everyone', 'They']),\n",
       " WordList(['They', 'are']),\n",
       " WordList(['are', 'probably']),\n",
       " WordList(['probably', 'griping']),\n",
       " WordList(['griping', 'about']),\n",
       " WordList(['about', 'something']),\n",
       " WordList(['something', 'that']),\n",
       " WordList(['that', 'their']),\n",
       " WordList(['their', 'own']),\n",
       " WordList(['own', 'fault']),\n",
       " WordList(['fault', 'there']),\n",
       " WordList(['there', 'are']),\n",
       " WordList(['are', 'many']),\n",
       " WordList(['many', 'people']),\n",
       " WordList(['people', 'like']),\n",
       " WordList(['like', 'that']),\n",
       " WordList(['that', 'In']),\n",
       " WordList(['In', 'any']),\n",
       " WordList(['any', 'case']),\n",
       " WordList(['case', 'my']),\n",
       " WordList(['my', 'friend']),\n",
       " WordList(['friend', 'and']),\n",
       " WordList(['and', 'I']),\n",
       " WordList(['I', 'arrived']),\n",
       " WordList(['arrived', 'at']),\n",
       " WordList(['at', 'about']),\n",
       " WordList(['about', '5:50']),\n",
       " WordList(['5:50', 'PM']),\n",
       " WordList(['PM', 'this']),\n",
       " WordList(['this', 'past']),\n",
       " WordList(['past', 'Sunday']),\n",
       " WordList(['Sunday', 'It']),\n",
       " WordList(['It', 'was']),\n",
       " WordList(['was', 'pretty']),\n",
       " WordList(['pretty', 'crowded']),\n",
       " WordList(['crowded', 'more']),\n",
       " WordList(['more', 'than']),\n",
       " WordList(['than', 'I']),\n",
       " WordList(['I', 'thought']),\n",
       " WordList(['thought', 'for']),\n",
       " WordList(['for', 'a']),\n",
       " WordList(['a', 'Sunday']),\n",
       " WordList(['Sunday', 'evening']),\n",
       " WordList(['evening', 'and']),\n",
       " WordList(['and', 'thought']),\n",
       " WordList(['thought', 'we']),\n",
       " WordList(['we', 'would']),\n",
       " WordList(['would', 'have']),\n",
       " WordList(['have', 'to']),\n",
       " WordList(['to', 'wait']),\n",
       " WordList(['wait', 'forever']),\n",
       " WordList(['forever', 'to']),\n",
       " WordList(['to', 'get']),\n",
       " WordList(['get', 'a']),\n",
       " WordList(['a', 'seat']),\n",
       " WordList(['seat', 'but']),\n",
       " WordList(['but', 'they']),\n",
       " WordList(['they', 'said']),\n",
       " WordList(['said', 'we']),\n",
       " WordList(['we', \"'ll\"]),\n",
       " WordList([\"'ll\", 'be']),\n",
       " WordList(['be', 'seated']),\n",
       " WordList(['seated', 'when']),\n",
       " WordList(['when', 'the']),\n",
       " WordList(['the', 'girl']),\n",
       " WordList(['girl', 'comes']),\n",
       " WordList(['comes', 'back']),\n",
       " WordList(['back', 'from']),\n",
       " WordList(['from', 'seating']),\n",
       " WordList(['seating', 'someone']),\n",
       " WordList(['someone', 'else']),\n",
       " WordList(['else', 'We']),\n",
       " WordList(['We', 'were']),\n",
       " WordList(['were', 'seated']),\n",
       " WordList(['seated', 'at']),\n",
       " WordList(['at', '5:52']),\n",
       " WordList(['5:52', 'and']),\n",
       " WordList(['and', 'the']),\n",
       " WordList(['the', 'waiter']),\n",
       " WordList(['waiter', 'came']),\n",
       " WordList(['came', 'and']),\n",
       " WordList(['and', 'got']),\n",
       " WordList(['got', 'our']),\n",
       " WordList(['our', 'drink']),\n",
       " WordList(['drink', 'orders']),\n",
       " WordList(['orders', 'Everyone']),\n",
       " WordList(['Everyone', 'was']),\n",
       " WordList(['was', 'very']),\n",
       " WordList(['very', 'pleasant']),\n",
       " WordList(['pleasant', 'from']),\n",
       " WordList(['from', 'the']),\n",
       " WordList(['the', 'host']),\n",
       " WordList(['host', 'that']),\n",
       " WordList(['that', 'seated']),\n",
       " WordList(['seated', 'us']),\n",
       " WordList(['us', 'to']),\n",
       " WordList(['to', 'the']),\n",
       " WordList(['the', 'waiter']),\n",
       " WordList(['waiter', 'to']),\n",
       " WordList(['to', 'the']),\n",
       " WordList(['the', 'server']),\n",
       " WordList(['server', 'The']),\n",
       " WordList(['The', 'prices']),\n",
       " WordList(['prices', 'were']),\n",
       " WordList(['were', 'very']),\n",
       " WordList(['very', 'good']),\n",
       " WordList(['good', 'as']),\n",
       " WordList(['as', 'well']),\n",
       " WordList(['well', 'We']),\n",
       " WordList(['We', 'placed']),\n",
       " WordList(['placed', 'our']),\n",
       " WordList(['our', 'orders']),\n",
       " WordList(['orders', 'once']),\n",
       " WordList(['once', 'we']),\n",
       " WordList(['we', 'decided']),\n",
       " WordList(['decided', 'what']),\n",
       " WordList(['what', 'we']),\n",
       " WordList(['we', 'wanted']),\n",
       " WordList(['wanted', 'at']),\n",
       " WordList(['at', '6:02']),\n",
       " WordList(['6:02', 'We']),\n",
       " WordList(['We', 'shared']),\n",
       " WordList(['shared', 'the']),\n",
       " WordList(['the', 'baked']),\n",
       " WordList(['baked', 'spaghetti']),\n",
       " WordList(['spaghetti', 'calzone']),\n",
       " WordList(['calzone', 'and']),\n",
       " WordList(['and', 'the']),\n",
       " WordList(['the', 'small']),\n",
       " WordList(['small', 'Here']),\n",
       " WordList(['Here', \"'s\"]),\n",
       " WordList([\"'s\", 'The']),\n",
       " WordList(['The', 'Beef']),\n",
       " WordList(['Beef', 'pizza']),\n",
       " WordList(['pizza', 'so']),\n",
       " WordList(['so', 'we']),\n",
       " WordList(['we', 'can']),\n",
       " WordList(['can', 'both']),\n",
       " WordList(['both', 'try']),\n",
       " WordList(['try', 'them']),\n",
       " WordList(['them', 'The']),\n",
       " WordList(['The', 'calzone']),\n",
       " WordList(['calzone', 'was']),\n",
       " WordList(['was', 'huge']),\n",
       " WordList(['huge', 'and']),\n",
       " WordList(['and', 'we']),\n",
       " WordList(['we', 'got']),\n",
       " WordList(['got', 'the']),\n",
       " WordList(['the', 'smallest']),\n",
       " WordList(['smallest', 'one']),\n",
       " WordList(['one', 'personal']),\n",
       " WordList(['personal', 'and']),\n",
       " WordList(['and', 'got']),\n",
       " WordList(['got', 'the']),\n",
       " WordList(['the', 'small']),\n",
       " WordList(['small', '11']),\n",
       " WordList(['11', 'pizza']),\n",
       " WordList(['pizza', 'Both']),\n",
       " WordList(['Both', 'were']),\n",
       " WordList(['were', 'awesome']),\n",
       " WordList(['awesome', 'My']),\n",
       " WordList(['My', 'friend']),\n",
       " WordList(['friend', 'liked']),\n",
       " WordList(['liked', 'the']),\n",
       " WordList(['the', 'pizza']),\n",
       " WordList(['pizza', 'better']),\n",
       " WordList(['better', 'and']),\n",
       " WordList(['and', 'I']),\n",
       " WordList(['I', 'liked']),\n",
       " WordList(['liked', 'the']),\n",
       " WordList(['the', 'calzone']),\n",
       " WordList(['calzone', 'better']),\n",
       " WordList(['better', 'The']),\n",
       " WordList(['The', 'calzone']),\n",
       " WordList(['calzone', 'does']),\n",
       " WordList(['does', 'have']),\n",
       " WordList(['have', 'a']),\n",
       " WordList(['a', 'sweetish']),\n",
       " WordList(['sweetish', 'sauce']),\n",
       " WordList(['sauce', 'but']),\n",
       " WordList(['but', 'that']),\n",
       " WordList(['that', \"'s\"]),\n",
       " WordList([\"'s\", 'how']),\n",
       " WordList(['how', 'I']),\n",
       " WordList(['I', 'like']),\n",
       " WordList(['like', 'my']),\n",
       " WordList(['my', 'sauce']),\n",
       " WordList(['sauce', 'We']),\n",
       " WordList(['We', 'had']),\n",
       " WordList(['had', 'to']),\n",
       " WordList(['to', 'box']),\n",
       " WordList(['box', 'part']),\n",
       " WordList(['part', 'of']),\n",
       " WordList(['of', 'the']),\n",
       " WordList(['the', 'pizza']),\n",
       " WordList(['pizza', 'to']),\n",
       " WordList(['to', 'take']),\n",
       " WordList(['take', 'it']),\n",
       " WordList(['it', 'home']),\n",
       " WordList(['home', 'and']),\n",
       " WordList(['and', 'we']),\n",
       " WordList(['we', 'were']),\n",
       " WordList(['were', 'out']),\n",
       " WordList(['out', 'the']),\n",
       " WordList(['the', 'door']),\n",
       " WordList(['door', 'by']),\n",
       " WordList(['by', '6:42']),\n",
       " WordList(['6:42', 'So']),\n",
       " WordList(['So', 'everything']),\n",
       " WordList(['everything', 'was']),\n",
       " WordList(['was', 'great']),\n",
       " WordList(['great', 'and']),\n",
       " WordList(['and', 'not']),\n",
       " WordList(['not', 'like']),\n",
       " WordList(['like', 'these']),\n",
       " WordList(['these', 'bad']),\n",
       " WordList(['bad', 'reviewers']),\n",
       " WordList(['reviewers', 'That']),\n",
       " WordList(['That', 'goes']),\n",
       " WordList(['goes', 'to']),\n",
       " WordList(['to', 'show']),\n",
       " WordList(['show', 'you']),\n",
       " WordList(['you', 'that']),\n",
       " WordList(['that', 'you']),\n",
       " WordList(['you', 'have']),\n",
       " WordList(['have', 'to']),\n",
       " WordList(['to', 'try']),\n",
       " WordList(['try', 'these']),\n",
       " WordList(['these', 'things']),\n",
       " WordList(['things', 'yourself']),\n",
       " WordList(['yourself', 'because']),\n",
       " WordList(['because', 'all']),\n",
       " WordList(['all', 'these']),\n",
       " WordList(['these', 'bad']),\n",
       " WordList(['bad', 'reviewers']),\n",
       " WordList(['reviewers', 'have']),\n",
       " WordList(['have', 'some']),\n",
       " WordList(['some', 'serious']),\n",
       " WordList(['serious', 'issues'])]"
      ]
     },
     "execution_count": 29,
     "metadata": {},
     "output_type": "execute_result"
    }
   ],
   "source": [
    "sent.ngrams(n=2)"
   ]
  }
 ],
 "metadata": {
  "kernelspec": {
   "display_name": "Python 2",
   "language": "python",
   "name": "python2"
  },
  "language_info": {
   "codemirror_mode": {
    "name": "ipython",
    "version": 2
   },
   "file_extension": ".py",
   "mimetype": "text/x-python",
   "name": "python",
   "nbconvert_exporter": "python",
   "pygments_lexer": "ipython2",
   "version": "2.7.6"
  }
 },
 "nbformat": 4,
 "nbformat_minor": 1
}
