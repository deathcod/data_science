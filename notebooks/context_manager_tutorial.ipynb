{
 "cells": [
  {
   "cell_type": "markdown",
   "metadata": {},
   "source": [
    "# Tutorial on Context Manager"
   ]
  },
  {
   "cell_type": "markdown",
   "metadata": {},
   "source": [
    "The most common use of context manager is managing the resources. Thats the reason why we use context manager while reading files.\n",
    "\n",
    "In actual there is a limited number of file processes that can be open a moment."
   ]
  },
  {
   "cell_type": "code",
   "execution_count": 1,
   "metadata": {
    "collapsed": false
   },
   "outputs": [
    {
     "ename": "IOError",
     "evalue": "[Errno 24] Too many open files: 'foo.txt'",
     "output_type": "error",
     "traceback": [
      "\u001b[0;31m---------------------------------------------------------------------------\u001b[0m",
      "\u001b[0;31mIOError\u001b[0m                                   Traceback (most recent call last)",
      "\u001b[0;32m<ipython-input-1-caf4a2f23e8e>\u001b[0m in \u001b[0;36m<module>\u001b[0;34m()\u001b[0m\n\u001b[1;32m      1\u001b[0m \u001b[0mfiles\u001b[0m \u001b[0;34m=\u001b[0m \u001b[0;34m[\u001b[0m\u001b[0;34m]\u001b[0m\u001b[0;34m\u001b[0m\u001b[0m\n\u001b[1;32m      2\u001b[0m \u001b[0;32mfor\u001b[0m \u001b[0mx\u001b[0m \u001b[0;32min\u001b[0m \u001b[0mrange\u001b[0m\u001b[0;34m(\u001b[0m\u001b[0;36m100000\u001b[0m\u001b[0;34m)\u001b[0m\u001b[0;34m:\u001b[0m\u001b[0;34m\u001b[0m\u001b[0m\n\u001b[0;32m----> 3\u001b[0;31m     \u001b[0mfiles\u001b[0m\u001b[0;34m.\u001b[0m\u001b[0mappend\u001b[0m\u001b[0;34m(\u001b[0m\u001b[0mopen\u001b[0m\u001b[0;34m(\u001b[0m\u001b[0;34m'foo.txt'\u001b[0m\u001b[0;34m,\u001b[0m\u001b[0;34m'w'\u001b[0m\u001b[0;34m)\u001b[0m\u001b[0;34m)\u001b[0m\u001b[0;34m\u001b[0m\u001b[0m\n\u001b[0m\u001b[1;32m      4\u001b[0m     \u001b[0;32mpass\u001b[0m\u001b[0;34m\u001b[0m\u001b[0m\n",
      "\u001b[0;31mIOError\u001b[0m: [Errno 24] Too many open files: 'foo.txt'"
     ]
    }
   ],
   "source": [
    "files = []\n",
    "for x in range(100000):\n",
    "    files.append(open('foo.txt','w'))\n",
    "    pass\n"
   ]
  },
  {
   "cell_type": "markdown",
   "metadata": {},
   "source": [
    "So it shows error.. as it should , because you have opened a lot of instances of file which are not closed. Lets see the next implementation where the files are closed."
   ]
  },
  {
   "cell_type": "code",
   "execution_count": 2,
   "metadata": {
    "collapsed": true
   },
   "outputs": [],
   "source": [
    "files = []\n",
    "for x in range(100000):\n",
    "    f = open('foo.txt','w')\n",
    "    files.append(f)\n",
    "    f.close()\n",
    "    pass"
   ]
  },
  {
   "cell_type": "markdown",
   "metadata": {},
   "source": [
    "So no error, so every OS has different upper limit of the files. To check use ```ulimit -n``` . Like in my computer, ulimit shows 1024."
   ]
  },
  {
   "cell_type": "code",
   "execution_count": 3,
   "metadata": {
    "collapsed": true
   },
   "outputs": [],
   "source": [
    "files = []\n",
    "for x in range(100000):\n",
    "    with file('foo.txt','w') as f:\n",
    "        files.append(f)\n",
    "        pass"
   ]
  },
  {
   "cell_type": "markdown",
   "metadata": {},
   "source": [
    "So this is the beauty of context manager. So it helps to manage the file. It opens the file and keep its instance alive till the scope and then automatically closes the instance as soon as the scope ends.\n",
    "\n",
    "The internal working.."
   ]
  },
  {
   "cell_type": "code",
   "execution_count": 4,
   "metadata": {
    "collapsed": false
   },
   "outputs": [],
   "source": [
    "class File():\n",
    "    \n",
    "    def __init__(self,filename,mode):\n",
    "        self.filename = filename\n",
    "        self.mode = mode\n",
    "        pass\n",
    "    \n",
    "    def __enter__(self):\n",
    "        self.open_file = open(self.filename, self.mode)\n",
    "        return self.open_file\n",
    "    \n",
    "    def __exit__(self, *args):\n",
    "        self.open_file.close()\n",
    "        pass\n",
    "    \n",
    "    pass\n",
    "\n",
    "files = []\n",
    "\n",
    "for i in range(100000):\n",
    "    with File('foo.txt','w') as f:\n",
    "        files.append(f)\n",
    "        pass\n",
    "    pass"
   ]
  },
  {
   "cell_type": "markdown",
   "metadata": {},
   "source": [
    "## other uses of context manager"
   ]
  },
  {
   "cell_type": "markdown",
   "metadata": {},
   "source": [
    "Context Manager are so useful that they were added to standard library in many places.    "
   ]
  },
  {
   "cell_type": "code",
   "execution_count": null,
   "metadata": {
    "collapsed": false
   },
   "outputs": [],
   "source": [
    "from threading import Lock\n",
    "lock = Lock()\n",
    "\n",
    "def do_something():\n",
    "    lock.acquire()\n",
    "    raise Exception('raise exception')\n",
    "    lock.release() # lock didn't got release\n",
    "    pass\n",
    "\n",
    "try:\n",
    "    do_something()\n",
    "    pass\n",
    "except:\n",
    "    print \"got an exception\"\n",
    "    pass \n",
    "lock.acquire() # asking for a lock\n",
    "print \"finally here\""
   ]
  },
  {
   "cell_type": "markdown",
   "metadata": {},
   "source": [
    "So the above condition is deadlock. So how to resolve!!"
   ]
  },
  {
   "cell_type": "code",
   "execution_count": 6,
   "metadata": {
    "collapsed": false
   },
   "outputs": [
    {
     "name": "stdout",
     "output_type": "stream",
     "text": [
      "got an exception\n",
      "finally here\n"
     ]
    }
   ],
   "source": [
    "from threading import Lock\n",
    "lock = Lock()\n",
    "\n",
    "def do_something():\n",
    "    with lock:\n",
    "        raise Exception('raise exception')\n",
    "\n",
    "try:\n",
    "    do_something()\n",
    "    pass\n",
    "except:\n",
    "    print \"got an exception\"\n",
    "    pass \n",
    "lock.acquire() # asking for a lock\n",
    "print \"finally here\""
   ]
  },
  {
   "cell_type": "code",
   "execution_count": 12,
   "metadata": {
    "collapsed": false
   },
   "outputs": [
    {
     "name": "stdout",
     "output_type": "stream",
     "text": [
      "<h1>\n",
      "hell\n",
      "<h1>\n"
     ]
    }
   ],
   "source": [
    "from contextlib import contextmanager\n",
    "\n",
    "@contextmanager\n",
    "def tag(name):\n",
    "    print (\"<%s>\" %name)\n",
    "    yield\n",
    "    print (\"<%s>\" %name)\n",
    "    pass\n",
    "\n",
    "with tag(\"h1\"):\n",
    "    print \"hell\""
   ]
  }
 ],
 "metadata": {
  "kernelspec": {
   "display_name": "Python 2",
   "language": "python",
   "name": "python2"
  },
  "language_info": {
   "codemirror_mode": {
    "name": "ipython",
    "version": 2
   },
   "file_extension": ".py",
   "mimetype": "text/x-python",
   "name": "python",
   "nbconvert_exporter": "python",
   "pygments_lexer": "ipython2",
   "version": "2.7.6"
  }
 },
 "nbformat": 4,
 "nbformat_minor": 1
}
