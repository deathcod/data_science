{
 "cells": [
  {
   "cell_type": "code",
   "execution_count": 1,
   "metadata": {
    "collapsed": true
   },
   "outputs": [],
   "source": [
    "import os\n",
    "import codecs"
   ]
  },
  {
   "cell_type": "markdown",
   "metadata": {},
   "source": [
    "**os.getcwd** is used to get the absolute path of the current file.  \n",
    "\n",
    "**codecs.open** is used to open a file rather than normal open because normal open uses ASCII encoding and using codec you can specific utf-8 encoding and as utf-8 includes ASCII, its a good practice to use codec.open"
   ]
  },
  {
   "cell_type": "code",
   "execution_count": 2,
   "metadata": {
    "collapsed": false
   },
   "outputs": [
    {
     "data": {
      "text/plain": [
       "'{\"business_id\": \"rncjoVoEFUJGCUoC1JgnUA\", \"full_address\": \"8466 W Peoria Ave\\\\nSte 6\\\\nPeoria, AZ 85345\", \"open\": true, \"categories\": [\"Accountants\", \"Professional Services\", \"Tax Services\", \"Financial Services\"], \"city\": \"Peoria\", \"review_count\": 3, \"name\": \"Peoria Income Tax Service\", \"neighborhoods\": [], \"longitude\": -112.241596, \"state\": \"AZ\", \"stars\": 5.0, \"latitude\": 33.581867000000003, \"type\": \"business\"}\\n'"
      ]
     },
     "execution_count": 2,
     "metadata": {},
     "output_type": "execute_result"
    }
   ],
   "source": [
    "data_directory = os.path.join(os.getcwd(),'..','data','yelp_training_set')\n",
    "data_directory\n",
    "\n",
    "business_filepath = os.path.join(data_directory,'yelp_training_set_business.json')\n",
    "business_record = codecs.open(business_filepath,encoding = 'utf_8').readline()\n",
    "business_record"
   ]
  },
  {
   "cell_type": "code",
   "execution_count": 3,
   "metadata": {
    "collapsed": false
   },
   "outputs": [
    {
     "data": {
      "text/plain": [
       "4503"
      ]
     },
     "execution_count": 3,
     "metadata": {},
     "output_type": "execute_result"
    }
   ],
   "source": [
    "# Here we will extract those buisness id which have Restuarants in there buisness\n",
    "import json\n",
    "restaurant_ids = set()\n",
    "f = codecs.open(business_filepath,encoding='utf_8')\n",
    "for business_json in f:\n",
    "    business = json.loads(business_json)\n",
    "    if u'Restaurants' in business[u'categories']:\n",
    "        restaurant_ids.add(business[u'business_id'])\n",
    "        \n",
    "restaurant_ids = frozenset(restaurant_ids)\n",
    "len(restaurant_ids)"
   ]
  },
  {
   "cell_type": "code",
   "execution_count": 4,
   "metadata": {
    "collapsed": false
   },
   "outputs": [
    {
     "data": {
      "text/plain": [
       "'{\"votes\": {\"funny\": 0, \"useful\": 5, \"cool\": 2}, \"user_id\": \"rLtl8ZkDX5vH5nAx9C3q5Q\", \"review_id\": \"fWKvX83p0-ka4JS3dc6E5A\", \"stars\": 5, \"date\": \"2011-01-26\", \"text\": \"My wife took me here on my birthday for breakfast and it was excellent.  The weather was perfect which made sitting outside overlooking their grounds an absolute pleasure.  Our waitress was excellent and our food arrived quickly on the semi-busy Saturday morning.  It looked like the place fills up pretty quickly so the earlier you get here the better.\\\\n\\\\nDo yourself a favor and get their Bloody Mary.  It was phenomenal and simply the best I\\'ve ever had.  I\\'m pretty sure they only use ingredients from their garden and blend them fresh when you order it.  It was amazing.\\\\n\\\\nWhile EVERYTHING on the menu looks excellent, I had the white truffle scrambled eggs vegetable skillet and it was tasty and delicious.  It came with 2 pieces of their griddled bread with was amazing and it absolutely made the meal complete.  It was the best \\\\\"toast\\\\\" I\\'ve ever had.\\\\n\\\\nAnyway, I can\\'t wait to go back!\", \"type\": \"review\", \"business_id\": \"9yKzy9PApeiPPOUJEtnvkg\"}\\n'"
      ]
     },
     "execution_count": 4,
     "metadata": {},
     "output_type": "execute_result"
    }
   ],
   "source": [
    "review_text__filepath = os.path.join(data_directory,'yelp_training_set_review.json')\n",
    "review_text_file = codecs.open(review_text__filepath,encoding = 'utf_8').readline()\n",
    "review_text_file"
   ]
  },
  {
   "cell_type": "code",
   "execution_count": 5,
   "metadata": {
    "collapsed": false
   },
   "outputs": [
    {
     "name": "stdout",
     "output_type": "stream",
     "text": [
      "CPU times: user 3 µs, sys: 0 ns, total: 3 µs\n",
      "Wall time: 5.48 µs\n"
     ]
    }
   ],
   "source": [
    "#here we have extracted the reviews of only those buisness whose buisness_id is in restuarant_ids\n",
    "%time\n",
    "review_list = []\n",
    "review_text_file = codecs.open(review_text__filepath,encoding = 'utf_8')\n",
    "for review_json in review_text_file:\n",
    "    review = json.loads(review_json)\n",
    "    if review['business_id'] in restaurant_ids:\n",
    "        review_list.append(review['text'])"
   ]
  },
  {
   "cell_type": "code",
   "execution_count": null,
   "metadata": {
    "collapsed": false
   },
   "outputs": [
    {
     "data": {
      "text/plain": [
       "158430"
      ]
     },
     "execution_count": 6,
     "metadata": {},
     "output_type": "execute_result"
    }
   ],
   "source": [
    "len(review_list)"
   ]
  },
  {
   "cell_type": "code",
   "execution_count": null,
   "metadata": {
    "collapsed": false
   },
   "outputs": [],
   "source": [
    "import spacy\n",
    "import pandas as pd\n",
    "import itertools as it\n",
    "\n",
    "nlp = spacy.load('en')"
   ]
  },
  {
   "cell_type": "code",
   "execution_count": null,
   "metadata": {
    "collapsed": false
   },
   "outputs": [],
   "source": [
    "%time \n",
    "parse_review = nlp(review_list[0].replace('\\\\n','\\n')+'\\n')"
   ]
  },
  {
   "cell_type": "code",
   "execution_count": null,
   "metadata": {
    "collapsed": false
   },
   "outputs": [],
   "source": [
    "print (parse_review)"
   ]
  },
  {
   "cell_type": "code",
   "execution_count": null,
   "metadata": {
    "collapsed": false
   },
   "outputs": [],
   "source": [
    "for i in parse_review.sents:\n",
    "    print (i)"
   ]
  },
  {
   "cell_type": "code",
   "execution_count": null,
   "metadata": {
    "collapsed": false
   },
   "outputs": [],
   "source": [
    "print (list(parse_review.ents))"
   ]
  }
 ],
 "metadata": {
  "kernelspec": {
   "display_name": "Python 3",
   "language": "python",
   "name": "python3"
  },
  "language_info": {
   "codemirror_mode": {
    "name": "ipython",
    "version": 3
   },
   "file_extension": ".py",
   "mimetype": "text/x-python",
   "name": "python",
   "nbconvert_exporter": "python",
   "pygments_lexer": "ipython3",
   "version": "3.4.3"
  }
 },
 "nbformat": 4,
 "nbformat_minor": 1
}
