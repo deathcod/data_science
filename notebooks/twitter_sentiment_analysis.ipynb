{
 "cells": [
  {
   "cell_type": "markdown",
   "metadata": {},
   "source": [
    "# twitter analysis"
   ]
  },
  {
   "cell_type": "code",
   "execution_count": 1,
   "metadata": {
    "collapsed": true
   },
   "outputs": [],
   "source": [
    "import twitter"
   ]
  },
  {
   "cell_type": "code",
   "execution_count": 2,
   "metadata": {
    "collapsed": true
   },
   "outputs": [],
   "source": [
    "CONSUMER_KEY = 'slAIp8kYfqM4yjEm7G8hzJJo8'\n",
    "CONSUMER_SECRET = 'kBBNIMiEdLYGTiJt7Lt3oZP52G2X8jM8Os1u82VXs2u1Ape1WN'\n",
    "OAUTH_TOKEN = '788273630945742849-ghgqY1rsJVeYLBCQZ0IuHfUjz3ejTe1'\n",
    "OAUTH_TOKEN_SECRET = 'kxuZpgWPjyTVYscJKFml2RI2nvjBRVND4qg878gPEePq9'\n"
   ]
  },
  {
   "cell_type": "code",
   "execution_count": 3,
   "metadata": {
    "collapsed": true
   },
   "outputs": [],
   "source": [
    "auth = twitter.oauth.OAuth(OAUTH_TOKEN , OAUTH_TOKEN_SECRET , CONSUMER_KEY , CONSUMER_SECRET)"
   ]
  },
  {
   "cell_type": "code",
   "execution_count": 4,
   "metadata": {
    "collapsed": true
   },
   "outputs": [],
   "source": [
    "twitter_api = twitter.Twitter(auth =auth)"
   ]
  },
  {
   "cell_type": "code",
   "execution_count": 5,
   "metadata": {
    "collapsed": false
   },
   "outputs": [
    {
     "name": "stdout",
     "output_type": "stream",
     "text": [
      "<twitter.api.Twitter object at 0x7f37b44c6c50>\n"
     ]
    }
   ],
   "source": [
    "print (twitter_api)"
   ]
  },
  {
   "cell_type": "markdown",
   "metadata": {},
   "source": [
    "So here we are checking if the credential's are correct or not,if it is, it will return a Twitter object."
   ]
  },
  {
   "cell_type": "code",
   "execution_count": 6,
   "metadata": {
    "collapsed": true
   },
   "outputs": [],
   "source": [
    "import json"
   ]
  },
  {
   "cell_type": "markdown",
   "metadata": {},
   "source": [
    "#### exploring the trends"
   ]
  },
  {
   "cell_type": "markdown",
   "metadata": {},
   "source": [
    "now having received our twitter object, we will start to look into topic which is trending worldwide , but we will be focused on specific locations, and will be using [Yahoo! GeoPlanet’s Where On Earth (WOE) ID system](http://t.umblr.com/redirect?z=https%3A%2F%2Fdeveloper.yahoo.com%2Fgeo%2Fgeoplanet%2F&t=OGM4YzBhNjViNjcxOGQ3NzIxZjdmYWU1OGRmYjQ3NWNjM2Q3NGU0YyxiTzlzN09FTQ%3D%3D&b=t%3Aul2CQmLWLSJwsFh_rOb6AA&m=1)"
   ]
  },
  {
   "cell_type": "code",
   "execution_count": 7,
   "metadata": {
    "collapsed": true
   },
   "outputs": [],
   "source": [
    "WORLD_WOE_ID = 1\n",
    "US_WOE_ID = 23424977\n",
    "IND_WOE_ID = 23424848"
   ]
  },
  {
   "cell_type": "code",
   "execution_count": 8,
   "metadata": {
    "collapsed": true
   },
   "outputs": [],
   "source": [
    "world_trends = twitter_api.trends.place(_id = WORLD_WOE_ID)\n",
    "us_trends = twitter_api.trends.place(_id = US_WOE_ID)\n",
    "india_trends = twitter_api.trends.place(_id = IND_WOE_ID)"
   ]
  },
  {
   "cell_type": "code",
   "execution_count": 13,
   "metadata": {
    "collapsed": false
   },
   "outputs": [
    {
     "name": "stdout",
     "output_type": "stream",
     "text": [
      "{\n",
      "  \"query\": \"Kanye\",\n",
      "  \"tweet_volume\": 179371,\n",
      "  \"promoted_content\": null,\n",
      "  \"url\": \"http://twitter.com/search?q=Kanye\",\n",
      "  \"name\": \"Kanye\"\n",
      "}\n"
     ]
    }
   ],
   "source": [
    "print (json.dumps(world_trends[0]['trends'][0],indent = 2))"
   ]
  },
  {
   "cell_type": "code",
   "execution_count": 14,
   "metadata": {
    "collapsed": false
   },
   "outputs": [
    {
     "name": "stdout",
     "output_type": "stream",
     "text": [
      "{\n",
      "  \"query\": \"Kanye\",\n",
      "  \"tweet_volume\": 173790,\n",
      "  \"promoted_content\": null,\n",
      "  \"url\": \"http://twitter.com/search?q=Kanye\",\n",
      "  \"name\": \"Kanye\"\n",
      "}\n"
     ]
    }
   ],
   "source": [
    "print (json.dumps(us_trends[0]['trends'][0],indent = 2))"
   ]
  },
  {
   "cell_type": "code",
   "execution_count": 15,
   "metadata": {
    "collapsed": false
   },
   "outputs": [
    {
     "name": "stdout",
     "output_type": "stream",
     "text": [
      "{\n",
      "  \"query\": \"%23SeeThroughToilet\",\n",
      "  \"tweet_volume\": null,\n",
      "  \"promoted_content\": null,\n",
      "  \"url\": \"http://twitter.com/search?q=%23SeeThroughToilet\",\n",
      "  \"name\": \"#SeeThroughToilet\"\n",
      "}\n"
     ]
    }
   ],
   "source": [
    "print (json.dumps(india_trends[0]['trends'][0],indent = 2))"
   ]
  },
  {
   "cell_type": "code",
   "execution_count": 16,
   "metadata": {
    "collapsed": true
   },
   "outputs": [],
   "source": [
    "from prettytable import PrettyTable"
   ]
  },
  {
   "cell_type": "code",
   "execution_count": 17,
   "metadata": {
    "collapsed": false
   },
   "outputs": [],
   "source": [
    "world_trends = [i['name'] for i in world_trends[0]['trends']]"
   ]
  },
  {
   "cell_type": "code",
   "execution_count": 18,
   "metadata": {
    "collapsed": false
   },
   "outputs": [
    {
     "name": "stdout",
     "output_type": "stream",
     "text": [
      "['Kanye', '#5YearsOfUpAllNight', '#BuenViernes', '#ساعه_استجابه', 'Jeff Sessions', '#CambiodeGabinete', '#ask2016', '猫の恩返し', 'バロン', 'Buckingham Palace', 'TEAM SUPPORT BIEBER', 'Pablo Squella', 'ギブリーズ', 'O WES MORREU', '#تعريف_الصديق_الكفو', '#زد_رصيدك34', '#FridayFeeling', '#HojeEuGostariaDe', '#İslamAklaHakarettir', '#TecavüzMeşrulaştirilamaz', '#العرض_العسكري', '#PBB3rdLuckySun', '#VirgenDeChiquinquira', '#ReasonsToSkipThanksgiving', '#ارتفاع_عدد_العاطلين', '#SlumberParty', '#MiCuerpoTieneGanasDe', '#CiteUmMeme', '#SeeThroughToilet', '#트친들이_보는_내취향으로_자캐만들기', '#GraciasCifuentes', '#MarcosNOTaHero', '#HappyBirthdayMickey', '#성규야_4주년축하해', '#اربح_iphone7_مع_العبداللطيف_7', '#ChildrenInNeed', '#あなたの10大スぺック', '#SextaDetremuraSDV', '#اسطورتك_التويتري', '#Кэмфолловитинсту', '#Jugendwort', '#FelizFinde', '#LosChavoRucosSiempre', '#العريفي_يقذف_كل_السعوديات', '#نحن_نحبك_للاسباب_التي_تعلمها46', '#TIMYRealization', '#İSLAMdaBİRLİKvakti', '#التنكين_وفولورز_الشتا', '#마음당_식습관_드러내기', '#EkSacchaKadam']\n"
     ]
    }
   ],
   "source": [
    "print (world_trends)"
   ]
  },
  {
   "cell_type": "code",
   "execution_count": 19,
   "metadata": {
    "collapsed": false
   },
   "outputs": [],
   "source": [
    "us_trends = [i['name'] for i in us_trends[0]['trends']]"
   ]
  },
  {
   "cell_type": "code",
   "execution_count": 20,
   "metadata": {
    "collapsed": false
   },
   "outputs": [
    {
     "name": "stdout",
     "output_type": "stream",
     "text": [
      "['Kanye', 'Jeff Sessions', '#ReasonsToSkipThanksgiving', '#5YearsOfUpAllNight', '#HappyBirthdayMickey', '#NCTE16', '#fridayreads', 'Marc Anthony', 'Boston University', 'CIA Director', 'The Right Way to Resist Trump', 'DraftKings and FanDuel', 'Yeezys', 'Jon Dorenbos', 'Conway MacKenzie', 'I Would Have Voted For Trump', 'James Welch', 'Flynn', 'All Falls Down', 'Fajardo', '#TrumpCup', '#FlashbackFriday', '#NovemberIn5Words', '#UpgradingWashington', '#SlumberParty', '#TurkeyDayLyrics', '#actfl16', '#mnwx', '#creativemornings', '#friyay', '#NewMusicFriday', '#elbesoeffect', '#HappyFridayEveryone', '#igot7selcaday', '#FTDP', '#EngageIndiana', '#GloryDays', '#BuenViernes', '#VirgenDeChiquinquira']\n"
     ]
    }
   ],
   "source": [
    "print (us_trends)"
   ]
  },
  {
   "cell_type": "code",
   "execution_count": 21,
   "metadata": {
    "collapsed": true
   },
   "outputs": [],
   "source": [
    "india_trends = [i['name'] for i in india_trends[0]['trends']]"
   ]
  },
  {
   "cell_type": "code",
   "execution_count": 22,
   "metadata": {
    "collapsed": false
   },
   "outputs": [
    {
     "name": "stdout",
     "output_type": "stream",
     "text": [
      "['#SeeThroughToilet', '#IEC2016', '#EkSacchaKadam', '#QuakerFeedAChild', '#Its9OTalkWithSonyLePLEX', 'Grand Finale', 'We Want Rangoon Teaser', 'Christian Michel James', 'Mahela Jayawardene', 'GLOBAL CITIZEN INDIA FESTIVAL', 'Awaiting Kaabil Album', 'Ambit Capital', 'Myopic Opposition', 'Venkaiah Naidu', 'Priyanka Gandhi', 'Navneet Sehgal', 'Rs 55', 'TDP MP', 'Asaram', 'Rs 60,000', 'India by 352', 'Malayalam', '#BeyondTheFinishLine', '#FantasticBeastsWithTixdo', '#PUNvDEL', '#IceCreamTales', '#KolaiyuthirKaalam', '#7DaysToDearZindagi', '#5YearsOfUpAllNight', '#EnPulseYethituPoriye', '#KannulaKaasaKattappa', '#ArundhatiBhattacharya', '#IndulgeInGold', '#Coldplaymumbai', '#DemonetizationMythsBusted', '#PrestigeSilverOak', '#Rajesh', '#MUNARS', '#HTGAWM', '#Force2WithHifi', '#KabaliOnStarGold', '#ThatsSmart', '#TupFest', '#BeItalianAtHeart']\n"
     ]
    }
   ],
   "source": [
    "print(india_trends)"
   ]
  },
  {
   "cell_type": "code",
   "execution_count": 23,
   "metadata": {
    "collapsed": true
   },
   "outputs": [],
   "source": [
    "pt = PrettyTable(field_names = ['World Trends','US Trends','India Trends'])"
   ]
  },
  {
   "cell_type": "code",
   "execution_count": 24,
   "metadata": {
    "collapsed": false
   },
   "outputs": [],
   "source": [
    "for world_trend,us_trend,india_trend in zip(world_trends,us_trends,india_trends):\n",
    "    pt.add_row([world_trend,us_trend,india_trend])"
   ]
  },
  {
   "cell_type": "markdown",
   "metadata": {},
   "source": [
    "So here we are interested in looking the name of the trends in a table format so that it is more viable to study on it."
   ]
  },
  {
   "cell_type": "code",
   "execution_count": 25,
   "metadata": {
    "collapsed": false
   },
   "outputs": [
    {
     "name": "stdout",
     "output_type": "stream",
     "text": [
      "+--------------------------------------+-------------------------------+-------------------------------+\n",
      "|             World Trends             |           US Trends           |          India Trends         |\n",
      "+--------------------------------------+-------------------------------+-------------------------------+\n",
      "|                Kanye                 |             Kanye             |       #SeeThroughToilet       |\n",
      "|         #5YearsOfUpAllNight          |         Jeff Sessions         |            #IEC2016           |\n",
      "|             #BuenViernes             |   #ReasonsToSkipThanksgiving  |         #EkSacchaKadam        |\n",
      "|            #ساعه_استجابه             |      #5YearsOfUpAllNight      |       #QuakerFeedAChild       |\n",
      "|            Jeff Sessions             |      #HappyBirthdayMickey     |    #Its9OTalkWithSonyLePLEX   |\n",
      "|          #CambiodeGabinete           |            #NCTE16            |          Grand Finale         |\n",
      "|               #ask2016               |          #fridayreads         |     We Want Rangoon Teaser    |\n",
      "|              猫の恩返し              |          Marc Anthony         |     Christian Michel James    |\n",
      "|                バロン                |       Boston University       |       Mahela Jayawardene      |\n",
      "|          Buckingham Palace           |          CIA Director         | GLOBAL CITIZEN INDIA FESTIVAL |\n",
      "|         TEAM SUPPORT BIEBER          | The Right Way to Resist Trump |     Awaiting Kaabil Album     |\n",
      "|            Pablo Squella             |     DraftKings and FanDuel    |         Ambit Capital         |\n",
      "|              ギブリーズ              |             Yeezys            |       Myopic Opposition       |\n",
      "|             O WES MORREU             |          Jon Dorenbos         |         Venkaiah Naidu        |\n",
      "|         #تعريف_الصديق_الكفو          |        Conway MacKenzie       |        Priyanka Gandhi        |\n",
      "|             #زد_رصيدك34              |  I Would Have Voted For Trump |         Navneet Sehgal        |\n",
      "|            #FridayFeeling            |          James Welch          |             Rs 55             |\n",
      "|          #HojeEuGostariaDe           |             Flynn             |             TDP MP            |\n",
      "|         #İslamAklaHakarettir         |         All Falls Down        |             Asaram            |\n",
      "|      #TecavüzMeşrulaştirilamaz       |            Fajardo            |           Rs 60,000           |\n",
      "|            #العرض_العسكري            |           #TrumpCup           |          India by 352         |\n",
      "|           #PBB3rdLuckySun            |        #FlashbackFriday       |           Malayalam           |\n",
      "|        #VirgenDeChiquinquira         |       #NovemberIn5Words       |      #BeyondTheFinishLine     |\n",
      "|      #ReasonsToSkipThanksgiving      |      #UpgradingWashington     |   #FantasticBeastsWithTixdo   |\n",
      "|         #ارتفاع_عدد_العاطلين         |         #SlumberParty         |            #PUNvDEL           |\n",
      "|            #SlumberParty             |        #TurkeyDayLyrics       |         #IceCreamTales        |\n",
      "|        #MiCuerpoTieneGanasDe         |            #actfl16           |       #KolaiyuthirKaalam      |\n",
      "|             #CiteUmMeme              |             #mnwx             |      #7DaysToDearZindagi      |\n",
      "|          #SeeThroughToilet           |       #creativemornings       |      #5YearsOfUpAllNight      |\n",
      "| #트친들이_보는_내취향으로_자캐만들기 |            #friyay            |     #EnPulseYethituPoriye     |\n",
      "|          #GraciasCifuentes           |        #NewMusicFriday        |     #KannulaKaasaKattappa     |\n",
      "|           #MarcosNOTaHero            |         #elbesoeffect         |     #ArundhatiBhattacharya    |\n",
      "|         #HappyBirthdayMickey         |      #HappyFridayEveryone     |         #IndulgeInGold        |\n",
      "|         #성규야_4주년축하해          |         #igot7selcaday        |        #Coldplaymumbai        |\n",
      "|    #اربح_iphone7_مع_العبداللطيف_7    |             #FTDP             |   #DemonetizationMythsBusted  |\n",
      "|           #ChildrenInNeed            |         #EngageIndiana        |       #PrestigeSilverOak      |\n",
      "|        #あなたの10大スぺック         |           #GloryDays          |            #Rajesh            |\n",
      "|          #SextaDetremuraSDV          |          #BuenViernes         |            #MUNARS            |\n",
      "|          #اسطورتك_التويتري           |     #VirgenDeChiquinquira     |            #HTGAWM            |\n",
      "+--------------------------------------+-------------------------------+-------------------------------+\n"
     ]
    }
   ],
   "source": [
    "print (pt)"
   ]
  },
  {
   "cell_type": "markdown",
   "metadata": {},
   "source": [
    "Now we are interested in knowing the common trends going on!\n",
    "for that we use set intersection."
   ]
  },
  {
   "cell_type": "code",
   "execution_count": 26,
   "metadata": {
    "collapsed": false
   },
   "outputs": [
    {
     "data": {
      "text/plain": [
       "{'#5YearsOfUpAllNight',\n",
       " '#BuenViernes',\n",
       " '#HappyBirthdayMickey',\n",
       " '#ReasonsToSkipThanksgiving',\n",
       " '#SlumberParty',\n",
       " '#VirgenDeChiquinquira',\n",
       " 'Jeff Sessions',\n",
       " 'Kanye'}"
      ]
     },
     "execution_count": 26,
     "metadata": {},
     "output_type": "execute_result"
    }
   ],
   "source": [
    "set(world_trends).intersection(set(us_trends))"
   ]
  },
  {
   "cell_type": "code",
   "execution_count": 27,
   "metadata": {
    "collapsed": false
   },
   "outputs": [
    {
     "data": {
      "text/plain": [
       "{'#5YearsOfUpAllNight', '#EkSacchaKadam', '#SeeThroughToilet'}"
      ]
     },
     "execution_count": 27,
     "metadata": {},
     "output_type": "execute_result"
    }
   ],
   "source": [
    "set(world_trends).intersection(set(india_trends))"
   ]
  },
  {
   "cell_type": "code",
   "execution_count": 28,
   "metadata": {
    "collapsed": false,
    "scrolled": true
   },
   "outputs": [
    {
     "data": {
      "text/plain": [
       "{'#5YearsOfUpAllNight'}"
      ]
     },
     "execution_count": 28,
     "metadata": {},
     "output_type": "execute_result"
    }
   ],
   "source": [
    "set(us_trends).intersection(set(india_trends))"
   ]
  },
  {
   "cell_type": "markdown",
   "metadata": {},
   "source": [
    "so we noticed some of the trending topics are commonly going in the world and the countries but there is no common trend between india and US right now."
   ]
  },
  {
   "cell_type": "code",
   "execution_count": 30,
   "metadata": {
    "collapsed": true
   },
   "outputs": [],
   "source": [
    "query = 'blackmoney'\n",
    "count = 100\n",
    "search_results = twitter_api.search.tweets(q=query ,count=count)"
   ]
  },
  {
   "cell_type": "code",
   "execution_count": 32,
   "metadata": {
    "collapsed": false
   },
   "outputs": [
    {
     "name": "stdout",
     "output_type": "stream",
     "text": [
      "{\n",
      "  \"place\": null,\n",
      "  \"retweet_count\": 3,\n",
      "  \"created_at\": \"Fri Nov 18 15:18:25 +0000 2016\",\n",
      "  \"is_quote_status\": false,\n",
      "  \"favorite_count\": 0,\n",
      "  \"id\": 799632861888249856,\n",
      "  \"in_reply_to_user_id_str\": null,\n",
      "  \"contributors\": null,\n",
      "  \"entities\": {\n",
      "    \"user_mentions\": [\n",
      "      {\n",
      "        \"indices\": [\n",
      "          3,\n",
      "          15\n",
      "        ],\n",
      "        \"screen_name\": \"GehlawatSid\",\n",
      "        \"id_str\": \"763330735445053440\",\n",
      "        \"name\": \"Sidharth Gehlawat\",\n",
      "        \"id\": 763330735445053440\n",
      "      }\n",
      "    ],\n",
      "    \"hashtags\": [\n",
      "      {\n",
      "        \"text\": \"BlackMoney\",\n",
      "        \"indices\": [\n",
      "          37,\n",
      "          48\n",
      "        ]\n",
      "      }\n",
      "    ],\n",
      "    \"symbols\": [],\n",
      "    \"urls\": []\n",
      "  },\n",
      "  \"lang\": \"en\",\n",
      "  \"metadata\": {\n",
      "    \"iso_language_code\": \"en\",\n",
      "    \"result_type\": \"recent\"\n",
      "  },\n",
      "  \"retweeted_status\": {\n",
      "    \"place\": null,\n",
      "    \"retweet_count\": 3,\n",
      "    \"created_at\": \"Fri Nov 18 15:10:33 +0000 2016\",\n",
      "    \"is_quote_status\": false,\n",
      "    \"id\": 799630883615408128,\n",
      "    \"in_reply_to_user_id_str\": null,\n",
      "    \"contributors\": null,\n",
      "    \"entities\": {\n",
      "      \"user_mentions\": [],\n",
      "      \"hashtags\": [\n",
      "        {\n",
      "          \"text\": \"BlackMoney\",\n",
      "          \"indices\": [\n",
      "            20,\n",
      "            31\n",
      "          ]\n",
      "        }\n",
      "      ],\n",
      "      \"symbols\": [],\n",
      "      \"urls\": [\n",
      "        {\n",
      "          \"display_url\": \"twitter.com/i/web/status/7\\u2026\",\n",
      "          \"indices\": [\n",
      "            120,\n",
      "            143\n",
      "          ],\n",
      "          \"expanded_url\": \"https://twitter.com/i/web/status/799630883615408128\",\n",
      "          \"url\": \"https://t.co/tjenA8GbTp\"\n",
      "        }\n",
      "      ]\n",
      "    },\n",
      "    \"lang\": \"en\",\n",
      "    \"metadata\": {\n",
      "      \"iso_language_code\": \"en\",\n",
      "      \"result_type\": \"recent\"\n",
      "    },\n",
      "    \"retweeted\": false,\n",
      "    \"favorite_count\": 1,\n",
      "    \"text\": \"In this war against #BlackMoney, it is the duty of every India to cooperate &amp; stand with govt. Let's make a better\\u2026 https://t.co/tjenA8GbTp\",\n",
      "    \"user\": {\n",
      "      \"time_zone\": null,\n",
      "      \"profile_background_tile\": false,\n",
      "      \"following\": false,\n",
      "      \"id_str\": \"763330735445053440\",\n",
      "      \"name\": \"Sidharth Gehlawat\",\n",
      "      \"geo_enabled\": false,\n",
      "      \"created_at\": \"Wed Aug 10 11:06:44 +0000 2016\",\n",
      "      \"friends_count\": 52,\n",
      "      \"profile_image_url_https\": \"https://pbs.twimg.com/profile_images/763334726157537280/3piBx2up_normal.jpg\",\n",
      "      \"statuses_count\": 1379,\n",
      "      \"id\": 763330735445053440,\n",
      "      \"screen_name\": \"GehlawatSid\",\n",
      "      \"entities\": {\n",
      "        \"description\": {\n",
      "          \"urls\": []\n",
      "        }\n",
      "      },\n",
      "      \"lang\": \"en\",\n",
      "      \"profile_background_image_url\": \"http://abs.twimg.com/images/themes/theme1/bg.png\",\n",
      "      \"favourites_count\": 209,\n",
      "      \"location\": \"Gurugram, India\",\n",
      "      \"protected\": false,\n",
      "      \"default_profile_image\": false,\n",
      "      \"profile_background_image_url_https\": \"https://abs.twimg.com/images/themes/theme1/bg.png\",\n",
      "      \"profile_link_color\": \"FAB81E\",\n",
      "      \"profile_use_background_image\": false,\n",
      "      \"listed_count\": 3,\n",
      "      \"followers_count\": 131,\n",
      "      \"default_profile\": false,\n",
      "      \"profile_sidebar_border_color\": \"000000\",\n",
      "      \"profile_image_url\": \"http://pbs.twimg.com/profile_images/763334726157537280/3piBx2up_normal.jpg\",\n",
      "      \"profile_sidebar_fill_color\": \"000000\",\n",
      "      \"profile_banner_url\": \"https://pbs.twimg.com/profile_banners/763330735445053440/1470828228\",\n",
      "      \"notifications\": false,\n",
      "      \"profile_text_color\": \"000000\",\n",
      "      \"url\": null,\n",
      "      \"contributors_enabled\": false,\n",
      "      \"profile_background_color\": \"000000\",\n",
      "      \"is_translator\": false,\n",
      "      \"utc_offset\": null,\n",
      "      \"follow_request_sent\": false,\n",
      "      \"description\": \"student@SRCC, Nationalist, Son of a Soldier. Retweet\\u2260Endorsement.Keen interest in Politics, Foreign Policy & Defence.\",\n",
      "      \"translator_type\": \"none\",\n",
      "      \"verified\": false,\n",
      "      \"has_extended_profile\": true,\n",
      "      \"is_translation_enabled\": false\n",
      "    },\n",
      "    \"truncated\": true,\n",
      "    \"favorited\": false,\n",
      "    \"in_reply_to_status_id\": null,\n",
      "    \"geo\": null,\n",
      "    \"in_reply_to_screen_name\": null,\n",
      "    \"in_reply_to_user_id\": null,\n",
      "    \"source\": \"<a href=\\\"http://twitter.com/download/android\\\" rel=\\\"nofollow\\\">Twitter for Android</a>\",\n",
      "    \"id_str\": \"799630883615408128\",\n",
      "    \"in_reply_to_status_id_str\": null,\n",
      "    \"coordinates\": null,\n",
      "    \"possibly_sensitive\": false\n",
      "  },\n",
      "  \"retweeted\": false,\n",
      "  \"in_reply_to_user_id\": null,\n",
      "  \"text\": \"RT @GehlawatSid: In this war against #BlackMoney, it is the duty of every India to cooperate &amp; stand with govt. Let's make a better India.\\u2026\",\n",
      "  \"user\": {\n",
      "    \"time_zone\": null,\n",
      "    \"profile_background_tile\": false,\n",
      "    \"following\": false,\n",
      "    \"id_str\": \"263890077\",\n",
      "    \"name\": \"Gaurav Walia\",\n",
      "    \"geo_enabled\": true,\n",
      "    \"created_at\": \"Thu Mar 10 23:08:08 +0000 2011\",\n",
      "    \"friends_count\": 86,\n",
      "    \"profile_image_url_https\": \"https://pbs.twimg.com/profile_images/797068949796036608/lsnrM_4I_normal.jpg\",\n",
      "    \"statuses_count\": 849,\n",
      "    \"id\": 263890077,\n",
      "    \"screen_name\": \"cyral2002\",\n",
      "    \"entities\": {\n",
      "      \"description\": {\n",
      "        \"urls\": []\n",
      "      }\n",
      "    },\n",
      "    \"lang\": \"en\",\n",
      "    \"profile_background_image_url\": \"http://abs.twimg.com/images/themes/theme1/bg.png\",\n",
      "    \"favourites_count\": 92,\n",
      "    \"location\": \"ambala\",\n",
      "    \"protected\": false,\n",
      "    \"default_profile_image\": false,\n",
      "    \"profile_background_image_url_https\": \"https://abs.twimg.com/images/themes/theme1/bg.png\",\n",
      "    \"profile_link_color\": \"1DA1F2\",\n",
      "    \"listed_count\": 3,\n",
      "    \"followers_count\": 77,\n",
      "    \"default_profile\": true,\n",
      "    \"profile_sidebar_border_color\": \"C0DEED\",\n",
      "    \"profile_image_url\": \"http://pbs.twimg.com/profile_images/797068949796036608/lsnrM_4I_normal.jpg\",\n",
      "    \"profile_sidebar_fill_color\": \"DDEEF6\",\n",
      "    \"profile_use_background_image\": true,\n",
      "    \"notifications\": false,\n",
      "    \"profile_text_color\": \"333333\",\n",
      "    \"url\": null,\n",
      "    \"contributors_enabled\": false,\n",
      "    \"profile_background_color\": \"C0DEED\",\n",
      "    \"is_translator\": false,\n",
      "    \"utc_offset\": null,\n",
      "    \"follow_request_sent\": false,\n",
      "    \"description\": \"\",\n",
      "    \"translator_type\": \"none\",\n",
      "    \"verified\": false,\n",
      "    \"has_extended_profile\": false,\n",
      "    \"is_translation_enabled\": false\n",
      "  },\n",
      "  \"truncated\": false,\n",
      "  \"favorited\": false,\n",
      "  \"in_reply_to_status_id\": null,\n",
      "  \"geo\": null,\n",
      "  \"in_reply_to_screen_name\": null,\n",
      "  \"source\": \"<a href=\\\"http://twitter.com/download/iphone\\\" rel=\\\"nofollow\\\">Twitter for iPhone</a>\",\n",
      "  \"id_str\": \"799632861888249856\",\n",
      "  \"in_reply_to_status_id_str\": null,\n",
      "  \"coordinates\": null\n",
      "}\n"
     ]
    }
   ],
   "source": [
    "print (json.dumps(search_results['statuses'][0],indent = 2))"
   ]
  },
  {
   "cell_type": "code",
   "execution_count": 33,
   "metadata": {
    "collapsed": true
   },
   "outputs": [],
   "source": [
    "statuses = search_results['statuses']"
   ]
  },
  {
   "cell_type": "markdown",
   "metadata": {},
   "source": [
    "#### <em>tutorial</em>\n",
    "\n",
    "So what is the meaning of \\*args and \\*\\*kwargs, \n",
    "\n",
    "\n",
    "<em>\\*args</em>   \n",
    "We would use \\*args when we are not sure how many arguments to be passed for example\n",
    "```python\n",
    ">>> def print_everything(*args):\n",
    "        for count, thing in enumerate(args):\n",
    "...         print '{0}. {1}'.format(count, thing)\n",
    "...\n",
    ">>> print_everything('apple', 'banana', 'cabbage')\n",
    "0. apple\n",
    "1. banana\n",
    "2. cabbage\n",
    "```\n",
    "\n",
    "<em>\\*kwargs</em>   \n",
    "We would use \\*\\*kwargs when we are not sure how many \"named\" arguments to be passed for example\n",
    "```python\n",
    ">>> def table_things(**kwargs):\n",
    "...     for name, value in kwargs.items():\n",
    "...         print '{0} = {1}'.format(name, value)\n",
    "...\n",
    ">>> table_things(apple = 'fruit', cabbage = 'vegetable')\n",
    "cabbage = vegetable\n",
    "apple = fruit\n",
    "```"
   ]
  },
  {
   "cell_type": "code",
   "execution_count": 36,
   "metadata": {
    "collapsed": false
   },
   "outputs": [
    {
     "name": "stdout",
     "output_type": "stream",
     "text": [
      "Length of status List 600\n",
      "Length of status List 700\n",
      "Length of status List 800\n",
      "Length of status List 900\n",
      "Length of status List 1000\n"
     ]
    }
   ],
   "source": [
    "for _ in range(5):\n",
    "    print (\"Length of status List\",len(statuses))\n",
    "    try:\n",
    "        next_results = search_results['search_metadata']['next_results']\n",
    "    except KeyError:\n",
    "        break\n",
    "        \n",
    "    kwargs = dict([kv.split('=') for kv in next_results[1:].split('&')])\n",
    "    search_results = twitter_api.search.tweets(**kwargs)\n",
    "    statuses += search_results['statuses']\n",
    "    \n",
    "#print (json.dumps(statuses[0],indent =2))"
   ]
  },
  {
   "cell_type": "markdown",
   "metadata": {},
   "source": [
    "#### Extracting tweet Entities\n",
    "\n"
   ]
  },
  {
   "cell_type": "code",
   "execution_count": 37,
   "metadata": {
    "collapsed": false
   },
   "outputs": [],
   "source": [
    "status_text = [status['text'] for status in statuses]"
   ]
  },
  {
   "cell_type": "code",
   "execution_count": 38,
   "metadata": {
    "collapsed": false
   },
   "outputs": [],
   "source": [
    "screen_names = [user_mention['screen_name'] for status in statuses for user_mention in status['entities']['user_mentions']]"
   ]
  },
  {
   "cell_type": "code",
   "execution_count": 39,
   "metadata": {
    "collapsed": true
   },
   "outputs": [],
   "source": [
    "hashtags = [hashtags['text'] for status in statuses for hashtags in status['entities']['hashtags']]"
   ]
  },
  {
   "cell_type": "code",
   "execution_count": 40,
   "metadata": {
    "collapsed": false,
    "scrolled": true
   },
   "outputs": [
    {
     "data": {
      "text/html": [
       "<div style=\"max-height:1000px;max-width:1500px;overflow:auto;\">\n",
       "<table border=\"1\" class=\"dataframe\">\n",
       "  <thead>\n",
       "    <tr style=\"text-align: right;\">\n",
       "      <th></th>\n",
       "      <th>Screen_Names</th>\n",
       "      <th>Tweets</th>\n",
       "      <th>hashtags</th>\n",
       "    </tr>\n",
       "  </thead>\n",
       "  <tbody>\n",
       "    <tr>\n",
       "      <th>0</th>\n",
       "      <td>   GehlawatSid</td>\n",
       "      <td>  RT @GehlawatSid: In this war against #BlackMoney, it is the duty of every India to cooperate &amp;amp; stand with govt. Let's make a better India.…</td>\n",
       "      <td>            BlackMoney</td>\n",
       "    </tr>\n",
       "    <tr>\n",
       "      <th>1</th>\n",
       "      <td> satishacharya</td>\n",
       "      <td>                                         RT @satishacharya: Parking free! @mail_today cartoon #DeMonetisation #BlackMoney https://t.co/Hk6zXmgKO9</td>\n",
       "      <td>        DeMonetisation</td>\n",
       "    </tr>\n",
       "    <tr>\n",
       "      <th>2</th>\n",
       "      <td>    mail_today</td>\n",
       "      <td>    RT @Mr_Pandey13: Modi Ji surprises us. All you need is to have pure intentions to slash #BlackMoney #IndiaFightsCorruption\\nCommendable stan…</td>\n",
       "      <td>            BlackMoney</td>\n",
       "    </tr>\n",
       "    <tr>\n",
       "      <th>3</th>\n",
       "      <td>   Mr_Pandey13</td>\n",
       "      <td>     RT @tufailelif: My generation has not seen revolutions. But we are witnessing a revolution now. under Modi, India is undergoing a revolutio…</td>\n",
       "      <td>            BlackMoney</td>\n",
       "    </tr>\n",
       "    <tr>\n",
       "      <th>4</th>\n",
       "      <td>    tufailelif</td>\n",
       "      <td> Why India's fight on 2 fronts Environment (https://t.co/EN9pApSSDt ) &amp;amp; BlackMoney (https://t.co/2wM0gTnu1F ) is imp to #Travelers @arnav2806</td>\n",
       "      <td> IndiaFightsCorruption</td>\n",
       "    </tr>\n",
       "  </tbody>\n",
       "</table>\n",
       "<p>5 rows × 3 columns</p>\n",
       "</div>"
      ],
      "text/plain": [
       "    Screen_Names  \\\n",
       "0    GehlawatSid   \n",
       "1  satishacharya   \n",
       "2     mail_today   \n",
       "3    Mr_Pandey13   \n",
       "4     tufailelif   \n",
       "\n",
       "                                                                                                                                             Tweets  \\\n",
       "0   RT @GehlawatSid: In this war against #BlackMoney, it is the duty of every India to cooperate &amp; stand with govt. Let's make a better India.…   \n",
       "1                                          RT @satishacharya: Parking free! @mail_today cartoon #DeMonetisation #BlackMoney https://t.co/Hk6zXmgKO9   \n",
       "2     RT @Mr_Pandey13: Modi Ji surprises us. All you need is to have pure intentions to slash #BlackMoney #IndiaFightsCorruption\\nCommendable stan…   \n",
       "3      RT @tufailelif: My generation has not seen revolutions. But we are witnessing a revolution now. under Modi, India is undergoing a revolutio…   \n",
       "4  Why India's fight on 2 fronts Environment (https://t.co/EN9pApSSDt ) &amp; BlackMoney (https://t.co/2wM0gTnu1F ) is imp to #Travelers @arnav2806   \n",
       "\n",
       "                hashtags  \n",
       "0             BlackMoney  \n",
       "1         DeMonetisation  \n",
       "2             BlackMoney  \n",
       "3             BlackMoney  \n",
       "4  IndiaFightsCorruption  \n",
       "\n",
       "[5 rows x 3 columns]"
      ]
     },
     "execution_count": 40,
     "metadata": {},
     "output_type": "execute_result"
    }
   ],
   "source": [
    "import pandas as pd\n",
    "pd.set_option('max_colwidth', 10000)\n",
    "pd.DataFrame({'Tweets':status_text[:5],'Screen_Names':screen_names[:5],'hashtags':hashtags[:5]})"
   ]
  },
  {
   "cell_type": "markdown",
   "metadata": {},
   "source": [
    "#### frequency analysis of tweet and tweet entities"
   ]
  },
  {
   "cell_type": "code",
   "execution_count": 41,
   "metadata": {
    "collapsed": false
   },
   "outputs": [],
   "source": [
    "def count_words(text):\n",
    "    words = ' '.join(i.lower() for i in text).split(' ')\n",
    "    unique_words = set(words)\n",
    "    count_words = [(word,words.count(word)) for word in unique_words]\n",
    "    count_words = sorted(count_words,key = lambda x:x[1],reverse = True)\n",
    "    return count_words\n",
    "    pass\n"
   ]
  },
  {
   "cell_type": "code",
   "execution_count": 42,
   "metadata": {
    "collapsed": false
   },
   "outputs": [],
   "source": [
    "import numpy as np\n",
    "count_status_words = np.array(count_words(status_text))\n",
    "count_screen_name_words = np.array(count_words(screen_names))\n",
    "count_hashtags = np.array(count_words(hashtags))"
   ]
  },
  {
   "cell_type": "code",
   "execution_count": 43,
   "metadata": {
    "collapsed": false
   },
   "outputs": [
    {
     "data": {
      "text/html": [
       "<div style=\"max-height:1000px;max-width:1500px;overflow:auto;\">\n",
       "<table border=\"1\" class=\"dataframe\">\n",
       "  <thead>\n",
       "    <tr style=\"text-align: right;\">\n",
       "      <th></th>\n",
       "      <th>hashtags</th>\n",
       "      <th>hashtags_WF</th>\n",
       "      <th>screen_name</th>\n",
       "      <th>screen_name_WF</th>\n",
       "      <th>status_W</th>\n",
       "      <th>status_WF</th>\n",
       "    </tr>\n",
       "  </thead>\n",
       "  <tbody>\n",
       "    <tr>\n",
       "      <th>0</th>\n",
       "      <td>           blackmoney</td>\n",
       "      <td> 764</td>\n",
       "      <td>   narendramodi</td>\n",
       "      <td> 126</td>\n",
       "      <td>          rt</td>\n",
       "      <td> 889</td>\n",
       "    </tr>\n",
       "    <tr>\n",
       "      <th>1</th>\n",
       "      <td>       demonetisation</td>\n",
       "      <td> 161</td>\n",
       "      <td> arvindkejriwal</td>\n",
       "      <td>  82</td>\n",
       "      <td> #blackmoney</td>\n",
       "      <td> 528</td>\n",
       "    </tr>\n",
       "    <tr>\n",
       "      <th>2</th>\n",
       "      <td>       demonetization</td>\n",
       "      <td>  98</td>\n",
       "      <td>      sirjadeja</td>\n",
       "      <td>  81</td>\n",
       "      <td>          to</td>\n",
       "      <td> 358</td>\n",
       "    </tr>\n",
       "    <tr>\n",
       "      <th>3</th>\n",
       "      <td>           indiafirst</td>\n",
       "      <td>  61</td>\n",
       "      <td>           ndtv</td>\n",
       "      <td>  72</td>\n",
       "      <td>          on</td>\n",
       "      <td> 309</td>\n",
       "    </tr>\n",
       "    <tr>\n",
       "      <th>4</th>\n",
       "      <td> modifightscorruption</td>\n",
       "      <td>  51</td>\n",
       "      <td>    myvotetoday</td>\n",
       "      <td>  62</td>\n",
       "      <td>          of</td>\n",
       "      <td> 286</td>\n",
       "    </tr>\n",
       "    <tr>\n",
       "      <th>5</th>\n",
       "      <td>         narendramodi</td>\n",
       "      <td>  36</td>\n",
       "      <td>  gauravcsawant</td>\n",
       "      <td>  55</td>\n",
       "      <td>         the</td>\n",
       "      <td> 285</td>\n",
       "    </tr>\n",
       "    <tr>\n",
       "      <th>6</th>\n",
       "      <td>       surgicalstrike</td>\n",
       "      <td>  32</td>\n",
       "      <td>       timesnow</td>\n",
       "      <td>  49</td>\n",
       "      <td>          in</td>\n",
       "      <td> 254</td>\n",
       "    </tr>\n",
       "    <tr>\n",
       "      <th>7</th>\n",
       "      <td>          iamwithmodi</td>\n",
       "      <td>  31</td>\n",
       "      <td>    mediacrooks</td>\n",
       "      <td>  48</td>\n",
       "      <td>          is</td>\n",
       "      <td> 240</td>\n",
       "    </tr>\n",
       "    <tr>\n",
       "      <th>8</th>\n",
       "      <td>             pakistan</td>\n",
       "      <td>  31</td>\n",
       "      <td>     indiatoday</td>\n",
       "      <td>  47</td>\n",
       "      <td>         for</td>\n",
       "      <td> 215</td>\n",
       "    </tr>\n",
       "    <tr>\n",
       "      <th>9</th>\n",
       "      <td>   lionsclubkotaroyal</td>\n",
       "      <td>  31</td>\n",
       "      <td>      isirarnab</td>\n",
       "      <td>  39</td>\n",
       "      <td>           a</td>\n",
       "      <td> 202</td>\n",
       "    </tr>\n",
       "  </tbody>\n",
       "</table>\n",
       "<p>10 rows × 6 columns</p>\n",
       "</div>"
      ],
      "text/plain": [
       "               hashtags hashtags_WF     screen_name screen_name_WF  \\\n",
       "0            blackmoney         764    narendramodi            126   \n",
       "1        demonetisation         161  arvindkejriwal             82   \n",
       "2        demonetization          98       sirjadeja             81   \n",
       "3            indiafirst          61            ndtv             72   \n",
       "4  modifightscorruption          51     myvotetoday             62   \n",
       "5          narendramodi          36   gauravcsawant             55   \n",
       "6        surgicalstrike          32        timesnow             49   \n",
       "7           iamwithmodi          31     mediacrooks             48   \n",
       "8              pakistan          31      indiatoday             47   \n",
       "9    lionsclubkotaroyal          31       isirarnab             39   \n",
       "\n",
       "      status_W status_WF  \n",
       "0           rt       889  \n",
       "1  #blackmoney       528  \n",
       "2           to       358  \n",
       "3           on       309  \n",
       "4           of       286  \n",
       "5          the       285  \n",
       "6           in       254  \n",
       "7           is       240  \n",
       "8          for       215  \n",
       "9            a       202  \n",
       "\n",
       "[10 rows x 6 columns]"
      ]
     },
     "execution_count": 43,
     "metadata": {},
     "output_type": "execute_result"
    }
   ],
   "source": [
    "pd.DataFrame({'status_W':count_status_words[:10,0],'status_WF':count_status_words[:10,1],'screen_name':count_screen_name_words[:10,0],'screen_name_WF':count_screen_name_words[:10,1],'hashtags':count_hashtags[:10,0],'hashtags_WF':count_hashtags[:10,1]})"
   ]
  },
  {
   "cell_type": "markdown",
   "metadata": {},
   "source": [
    "#### Analysing lexical diversity of the tweets\n",
    "\n",
    "By lexical diversity we analyse the count of different words used per tweet. It is significant as it may happen a user uses a single prase a lot of time like 'other stuff' this actually decreases the information gain per tweet. Thus a single use of word stuff may hold a mean in a tweet. So we are going to analyse that."
   ]
  },
  {
   "cell_type": "code",
   "execution_count": 44,
   "metadata": {
    "collapsed": false,
    "scrolled": true
   },
   "outputs": [
    {
     "name": "stdout",
     "output_type": "stream",
     "text": [
      "0.167826301505\n",
      "18.4227272727\n",
      "0.180989583333\n",
      "0.116141732283\n"
     ]
    }
   ],
   "source": [
    "#lexical diversity of status_words\n",
    "print (len(count_status_words[:,0])/sum(count_status_words[:,1].astype(int)))\n",
    "\n",
    "#average words per tweet\n",
    "print (1.0*sum(count_status_words[:,1].astype(int))/len(status_text))\n",
    "\n",
    "#lexical diversity of screen_name\n",
    "print (len(count_screen_name_words[:,0])/sum(count_screen_name_words[:,1].astype(int)))\n",
    "\n",
    "#lexical diversity of hashtags\n",
    "print(len(count_hashtags[:,0])/sum(count_hashtags[:,1].astype(int)))"
   ]
  },
  {
   "cell_type": "code",
   "execution_count": 45,
   "metadata": {
    "collapsed": false
   },
   "outputs": [
    {
     "data": {
      "text/html": [
       "<div style=\"max-height:1000px;max-width:1500px;overflow:auto;\">\n",
       "<table border=\"1\" class=\"dataframe\">\n",
       "  <thead>\n",
       "    <tr style=\"text-align: right;\">\n",
       "      <th></th>\n",
       "      <th>0</th>\n",
       "      <th>1</th>\n",
       "      <th>2</th>\n",
       "    </tr>\n",
       "  </thead>\n",
       "  <tbody>\n",
       "    <tr>\n",
       "      <th>0 </th>\n",
       "      <td> 9391</td>\n",
       "      <td>          SriSri</td>\n",
       "      <td>     RT @SriSri: I congratulate @narendramodi for bringing in Artha Kranti. This brings a sigh of relief to all of us fighting corruption. #Blac…</td>\n",
       "    </tr>\n",
       "    <tr>\n",
       "      <th>1 </th>\n",
       "      <td> 3544</td>\n",
       "      <td>   AnushkaSharma</td>\n",
       "      <td> RT @AnushkaSharma: A welcome bold&amp;amp;courageous step by PM Modiji towards nation building.Each 1of us shld cooperate in d larger interest of d…</td>\n",
       "    </tr>\n",
       "    <tr>\n",
       "      <th>2 </th>\n",
       "      <td> 2904</td>\n",
       "      <td>  varshasinghmcx</td>\n",
       "      <td>    RT @varshasinghmcx: First time in Indian history where people have less money are happier than the people who have lot of money😂\\n#BlackMoney</td>\n",
       "    </tr>\n",
       "    <tr>\n",
       "      <th>3 </th>\n",
       "      <td> 2904</td>\n",
       "      <td>  varshasinghmcx</td>\n",
       "      <td>    RT @varshasinghmcx: First time in Indian history where people have less money are happier than the people who have lot of money😂\\n#BlackMoney</td>\n",
       "    </tr>\n",
       "    <tr>\n",
       "      <th>4 </th>\n",
       "      <td> 2904</td>\n",
       "      <td>  varshasinghmcx</td>\n",
       "      <td>    RT @varshasinghmcx: First time in Indian history where people have less money are happier than the people who have lot of money😂\\n#BlackMoney</td>\n",
       "    </tr>\n",
       "    <tr>\n",
       "      <th>5 </th>\n",
       "      <td> 2904</td>\n",
       "      <td>  varshasinghmcx</td>\n",
       "      <td>    RT @varshasinghmcx: First time in Indian history where people have less money are happier than the people who have lot of money😂\\n#BlackMoney</td>\n",
       "    </tr>\n",
       "    <tr>\n",
       "      <th>6 </th>\n",
       "      <td> 2904</td>\n",
       "      <td>  varshasinghmcx</td>\n",
       "      <td>    RT @varshasinghmcx: First time in Indian history where people have less money are happier than the people who have lot of money😂\\n#BlackMoney</td>\n",
       "    </tr>\n",
       "    <tr>\n",
       "      <th>7 </th>\n",
       "      <td> 2904</td>\n",
       "      <td>  varshasinghmcx</td>\n",
       "      <td>    RT @varshasinghmcx: First time in Indian history where people have less money are happier than the people who have lot of money😂\\n#BlackMoney</td>\n",
       "    </tr>\n",
       "    <tr>\n",
       "      <th>8 </th>\n",
       "      <td> 2320</td>\n",
       "      <td>      tufailelif</td>\n",
       "      <td>     RT @tufailelif: My generation has not seen revolutions. But we are witnessing a revolution now. under Modi, India is undergoing a revolutio…</td>\n",
       "    </tr>\n",
       "    <tr>\n",
       "      <th>9 </th>\n",
       "      <td> 2320</td>\n",
       "      <td>      tufailelif</td>\n",
       "      <td>     RT @tufailelif: My generation has not seen revolutions. But we are witnessing a revolution now. under Modi, India is undergoing a revolutio…</td>\n",
       "    </tr>\n",
       "    <tr>\n",
       "      <th>10</th>\n",
       "      <td> 2320</td>\n",
       "      <td>      tufailelif</td>\n",
       "      <td>     RT @tufailelif: My generation has not seen revolutions. But we are witnessing a revolution now. under Modi, India is undergoing a revolutio…</td>\n",
       "    </tr>\n",
       "    <tr>\n",
       "      <th>11</th>\n",
       "      <td> 2320</td>\n",
       "      <td>      tufailelif</td>\n",
       "      <td>     RT @tufailelif: My generation has not seen revolutions. But we are witnessing a revolution now. under Modi, India is undergoing a revolutio…</td>\n",
       "    </tr>\n",
       "    <tr>\n",
       "      <th>12</th>\n",
       "      <td> 2320</td>\n",
       "      <td>      tufailelif</td>\n",
       "      <td>     RT @tufailelif: My generation has not seen revolutions. But we are witnessing a revolution now. under Modi, India is undergoing a revolutio…</td>\n",
       "    </tr>\n",
       "    <tr>\n",
       "      <th>13</th>\n",
       "      <td> 2320</td>\n",
       "      <td>      tufailelif</td>\n",
       "      <td>     RT @tufailelif: My generation has not seen revolutions. But we are witnessing a revolution now. under Modi, India is undergoing a revolutio…</td>\n",
       "    </tr>\n",
       "    <tr>\n",
       "      <th>14</th>\n",
       "      <td> 2320</td>\n",
       "      <td>      tufailelif</td>\n",
       "      <td>     RT @tufailelif: My generation has not seen revolutions. But we are witnessing a revolution now. under Modi, India is undergoing a revolutio…</td>\n",
       "    </tr>\n",
       "    <tr>\n",
       "      <th>15</th>\n",
       "      <td> 2320</td>\n",
       "      <td>      tufailelif</td>\n",
       "      <td>     RT @tufailelif: My generation has not seen revolutions. But we are witnessing a revolution now. under Modi, India is undergoing a revolutio…</td>\n",
       "    </tr>\n",
       "    <tr>\n",
       "      <th>16</th>\n",
       "      <td> 2320</td>\n",
       "      <td>      tufailelif</td>\n",
       "      <td>     RT @tufailelif: My generation has not seen revolutions. But we are witnessing a revolution now. under Modi, India is undergoing a revolutio…</td>\n",
       "    </tr>\n",
       "    <tr>\n",
       "      <th>17</th>\n",
       "      <td> 2320</td>\n",
       "      <td>      tufailelif</td>\n",
       "      <td>     RT @tufailelif: My generation has not seen revolutions. But we are witnessing a revolution now. under Modi, India is undergoing a revolutio…</td>\n",
       "    </tr>\n",
       "    <tr>\n",
       "      <th>18</th>\n",
       "      <td> 2320</td>\n",
       "      <td>      tufailelif</td>\n",
       "      <td>     RT @tufailelif: My generation has not seen revolutions. But we are witnessing a revolution now. under Modi, India is undergoing a revolutio…</td>\n",
       "    </tr>\n",
       "    <tr>\n",
       "      <th>19</th>\n",
       "      <td> 1541</td>\n",
       "      <td>  varshasinghmcx</td>\n",
       "      <td>                         RT @varshasinghmcx: No one took him serious when he said this last September !  👏🏻👏🏻 #BlackMoney https://t.co/YvA8Ej6pHS</td>\n",
       "    </tr>\n",
       "    <tr>\n",
       "      <th>20</th>\n",
       "      <td> 1541</td>\n",
       "      <td>  varshasinghmcx</td>\n",
       "      <td>                         RT @varshasinghmcx: No one took him serious when he said this last September !  👏🏻👏🏻 #BlackMoney https://t.co/YvA8Ej6pHS</td>\n",
       "    </tr>\n",
       "    <tr>\n",
       "      <th>21</th>\n",
       "      <td> 1541</td>\n",
       "      <td>  varshasinghmcx</td>\n",
       "      <td>                         RT @varshasinghmcx: No one took him serious when he said this last September !  👏🏻👏🏻 #BlackMoney https://t.co/YvA8Ej6pHS</td>\n",
       "    </tr>\n",
       "    <tr>\n",
       "      <th>22</th>\n",
       "      <td> 1541</td>\n",
       "      <td>  varshasinghmcx</td>\n",
       "      <td>                         RT @varshasinghmcx: No one took him serious when he said this last September !  👏🏻👏🏻 #BlackMoney https://t.co/YvA8Ej6pHS</td>\n",
       "    </tr>\n",
       "    <tr>\n",
       "      <th>23</th>\n",
       "      <td> 1541</td>\n",
       "      <td>  varshasinghmcx</td>\n",
       "      <td>                         RT @varshasinghmcx: No one took him serious when he said this last September !  👏🏻👏🏻 #BlackMoney https://t.co/YvA8Ej6pHS</td>\n",
       "    </tr>\n",
       "    <tr>\n",
       "      <th>24</th>\n",
       "      <td> 1541</td>\n",
       "      <td>  varshasinghmcx</td>\n",
       "      <td>                         RT @varshasinghmcx: No one took him serious when he said this last September !  👏🏻👏🏻 #BlackMoney https://t.co/YvA8Ej6pHS</td>\n",
       "    </tr>\n",
       "    <tr>\n",
       "      <th>25</th>\n",
       "      <td> 1541</td>\n",
       "      <td>  varshasinghmcx</td>\n",
       "      <td>                         RT @varshasinghmcx: No one took him serious when he said this last September !  👏🏻👏🏻 #BlackMoney https://t.co/YvA8Ej6pHS</td>\n",
       "    </tr>\n",
       "    <tr>\n",
       "      <th>26</th>\n",
       "      <td> 1541</td>\n",
       "      <td>  varshasinghmcx</td>\n",
       "      <td>                         RT @varshasinghmcx: No one took him serious when he said this last September !  👏🏻👏🏻 #BlackMoney https://t.co/YvA8Ej6pHS</td>\n",
       "    </tr>\n",
       "    <tr>\n",
       "      <th>27</th>\n",
       "      <td> 1505</td>\n",
       "      <td>  varshasinghmcx</td>\n",
       "      <td>  RT @varshasinghmcx: Surgical Strikes by Narendra Modi :\\n\\n2014 - Congress\\n2015 - Myanmar\\n2016 - Pakistan\\n2016 - #BlackMoney \\nWhat's Next ?</td>\n",
       "    </tr>\n",
       "    <tr>\n",
       "      <th>28</th>\n",
       "      <td> 1505</td>\n",
       "      <td>  varshasinghmcx</td>\n",
       "      <td>  RT @varshasinghmcx: Surgical Strikes by Narendra Modi :\\n\\n2014 - Congress\\n2015 - Myanmar\\n2016 - Pakistan\\n2016 - #BlackMoney \\nWhat's Next ?</td>\n",
       "    </tr>\n",
       "    <tr>\n",
       "      <th>29</th>\n",
       "      <td> 1505</td>\n",
       "      <td>  varshasinghmcx</td>\n",
       "      <td>  RT @varshasinghmcx: Surgical Strikes by Narendra Modi :\\n\\n2014 - Congress\\n2015 - Myanmar\\n2016 - Pakistan\\n2016 - #BlackMoney \\nWhat's Next ?</td>\n",
       "    </tr>\n",
       "    <tr>\n",
       "      <th>30</th>\n",
       "      <td> 1505</td>\n",
       "      <td>  varshasinghmcx</td>\n",
       "      <td>  RT @varshasinghmcx: Surgical Strikes by Narendra Modi :\\n\\n2014 - Congress\\n2015 - Myanmar\\n2016 - Pakistan\\n2016 - #BlackMoney \\nWhat's Next ?</td>\n",
       "    </tr>\n",
       "    <tr>\n",
       "      <th>31</th>\n",
       "      <td> 1502</td>\n",
       "      <td>       SirJadeja</td>\n",
       "      <td> RT @SirJadeja: Do You Support Prime Minister Modi's #SurgicalStrikeonBlackMoney?\\n\\nRT -Yes\\nFav -No\\n\\n#BlackMoney #CORRUPTION #CurrencyBan Rs…</td>\n",
       "    </tr>\n",
       "    <tr>\n",
       "      <th>32</th>\n",
       "      <td> 1502</td>\n",
       "      <td>       SirJadeja</td>\n",
       "      <td> RT @SirJadeja: Do You Support Prime Minister Modi's #SurgicalStrikeonBlackMoney?\\n\\nRT -Yes\\nFav -No\\n\\n#BlackMoney #CORRUPTION #CurrencyBan Rs…</td>\n",
       "    </tr>\n",
       "    <tr>\n",
       "      <th>33</th>\n",
       "      <td> 1393</td>\n",
       "      <td> manoharparrikar</td>\n",
       "      <td> RT @manoharparrikar: Demonetization has struck the core of terror funding &amp;amp; PM @narendramodi ji in his speech today emphasized on continuin…</td>\n",
       "    </tr>\n",
       "    <tr>\n",
       "      <th>34</th>\n",
       "      <td> 1176</td>\n",
       "      <td>         bprerna</td>\n",
       "      <td>     RT @bprerna: The effect of the 'masterstroke' by PM #Modi. People chanting \"Narendra Modi...Haaye Haaye! in Delhi.\" #DeMonetisation  #Black…</td>\n",
       "    </tr>\n",
       "    <tr>\n",
       "      <th>35</th>\n",
       "      <td> 1077</td>\n",
       "      <td>       SirJadeja</td>\n",
       "      <td> RT @SirJadeja: What A Coincidence:\\nModi Is PM As Well As MP\\nKejriwal Is CM As Well As ...\\n\\n#तड़पता_भारत #BlackMoney #DeMonetisation #इंतज़ा…</td>\n",
       "    </tr>\n",
       "    <tr>\n",
       "      <th>36</th>\n",
       "      <td> 1077</td>\n",
       "      <td>       SirJadeja</td>\n",
       "      <td> RT @SirJadeja: What A Coincidence:\\nModi Is PM As Well As MP\\nKejriwal Is CM As Well As ...\\n\\n#तड़पता_भारत #BlackMoney #DeMonetisation #इंतज़ा…</td>\n",
       "    </tr>\n",
       "    <tr>\n",
       "      <th>37</th>\n",
       "      <td> 1077</td>\n",
       "      <td>       SirJadeja</td>\n",
       "      <td> RT @SirJadeja: What A Coincidence:\\nModi Is PM As Well As MP\\nKejriwal Is CM As Well As ...\\n\\n#तड़पता_भारत #BlackMoney #DeMonetisation #इंतज़ा…</td>\n",
       "    </tr>\n",
       "    <tr>\n",
       "      <th>38</th>\n",
       "      <td> 1077</td>\n",
       "      <td>       SirJadeja</td>\n",
       "      <td> RT @SirJadeja: What A Coincidence:\\nModi Is PM As Well As MP\\nKejriwal Is CM As Well As ...\\n\\n#तड़पता_भारत #BlackMoney #DeMonetisation #इंतज़ा…</td>\n",
       "    </tr>\n",
       "    <tr>\n",
       "      <th>39</th>\n",
       "      <td> 1077</td>\n",
       "      <td>       SirJadeja</td>\n",
       "      <td> RT @SirJadeja: What A Coincidence:\\nModi Is PM As Well As MP\\nKejriwal Is CM As Well As ...\\n\\n#तड़पता_भारत #BlackMoney #DeMonetisation #इंतज़ा…</td>\n",
       "    </tr>\n",
       "    <tr>\n",
       "      <th>40</th>\n",
       "      <td> 1077</td>\n",
       "      <td>       SirJadeja</td>\n",
       "      <td> RT @SirJadeja: What A Coincidence:\\nModi Is PM As Well As MP\\nKejriwal Is CM As Well As ...\\n\\n#तड़पता_भारत #BlackMoney #DeMonetisation #इंतज़ा…</td>\n",
       "    </tr>\n",
       "    <tr>\n",
       "      <th>41</th>\n",
       "      <td> 1077</td>\n",
       "      <td>       SirJadeja</td>\n",
       "      <td> RT @SirJadeja: What A Coincidence:\\nModi Is PM As Well As MP\\nKejriwal Is CM As Well As ...\\n\\n#तड़पता_भारत #BlackMoney #DeMonetisation #इंतज़ा…</td>\n",
       "    </tr>\n",
       "    <tr>\n",
       "      <th>42</th>\n",
       "      <td> 1077</td>\n",
       "      <td>       SirJadeja</td>\n",
       "      <td> RT @SirJadeja: What A Coincidence:\\nModi Is PM As Well As MP\\nKejriwal Is CM As Well As ...\\n\\n#तड़पता_भारत #BlackMoney #DeMonetisation #इंतज़ा…</td>\n",
       "    </tr>\n",
       "    <tr>\n",
       "      <th>43</th>\n",
       "      <td> 1077</td>\n",
       "      <td>       SirJadeja</td>\n",
       "      <td> RT @SirJadeja: What A Coincidence:\\nModi Is PM As Well As MP\\nKejriwal Is CM As Well As ...\\n\\n#तड़पता_भारत #BlackMoney #DeMonetisation #इंतज़ा…</td>\n",
       "    </tr>\n",
       "    <tr>\n",
       "      <th>44</th>\n",
       "      <td> 1077</td>\n",
       "      <td>       SirJadeja</td>\n",
       "      <td> RT @SirJadeja: What A Coincidence:\\nModi Is PM As Well As MP\\nKejriwal Is CM As Well As ...\\n\\n#तड़पता_भारत #BlackMoney #DeMonetisation #इंतज़ा…</td>\n",
       "    </tr>\n",
       "    <tr>\n",
       "      <th>45</th>\n",
       "      <td> 1077</td>\n",
       "      <td>       SirJadeja</td>\n",
       "      <td> RT @SirJadeja: What A Coincidence:\\nModi Is PM As Well As MP\\nKejriwal Is CM As Well As ...\\n\\n#तड़पता_भारत #BlackMoney #DeMonetisation #इंतज़ा…</td>\n",
       "    </tr>\n",
       "    <tr>\n",
       "      <th>46</th>\n",
       "      <td> 1077</td>\n",
       "      <td>       SirJadeja</td>\n",
       "      <td> RT @SirJadeja: What A Coincidence:\\nModi Is PM As Well As MP\\nKejriwal Is CM As Well As ...\\n\\n#तड़पता_भारत #BlackMoney #DeMonetisation #इंतज़ा…</td>\n",
       "    </tr>\n",
       "    <tr>\n",
       "      <th>47</th>\n",
       "      <td> 1077</td>\n",
       "      <td>       SirJadeja</td>\n",
       "      <td> RT @SirJadeja: What A Coincidence:\\nModi Is PM As Well As MP\\nKejriwal Is CM As Well As ...\\n\\n#तड़पता_भारत #BlackMoney #DeMonetisation #इंतज़ा…</td>\n",
       "    </tr>\n",
       "    <tr>\n",
       "      <th>48</th>\n",
       "      <td> 1077</td>\n",
       "      <td>       SirJadeja</td>\n",
       "      <td> RT @SirJadeja: What A Coincidence:\\nModi Is PM As Well As MP\\nKejriwal Is CM As Well As ...\\n\\n#तड़पता_भारत #BlackMoney #DeMonetisation #इंतज़ा…</td>\n",
       "    </tr>\n",
       "    <tr>\n",
       "      <th>49</th>\n",
       "      <td> 1077</td>\n",
       "      <td>       SirJadeja</td>\n",
       "      <td> RT @SirJadeja: What A Coincidence:\\nModi Is PM As Well As MP\\nKejriwal Is CM As Well As ...\\n\\n#तड़पता_भारत #BlackMoney #DeMonetisation #इंतज़ा…</td>\n",
       "    </tr>\n",
       "    <tr>\n",
       "      <th>50</th>\n",
       "      <td> 1077</td>\n",
       "      <td>       SirJadeja</td>\n",
       "      <td> RT @SirJadeja: What A Coincidence:\\nModi Is PM As Well As MP\\nKejriwal Is CM As Well As ...\\n\\n#तड़पता_भारत #BlackMoney #DeMonetisation #इंतज़ा…</td>\n",
       "    </tr>\n",
       "    <tr>\n",
       "      <th>51</th>\n",
       "      <td> 1077</td>\n",
       "      <td>       SirJadeja</td>\n",
       "      <td> RT @SirJadeja: What A Coincidence:\\nModi Is PM As Well As MP\\nKejriwal Is CM As Well As ...\\n\\n#तड़पता_भारत #BlackMoney #DeMonetisation #इंतज़ा…</td>\n",
       "    </tr>\n",
       "    <tr>\n",
       "      <th>52</th>\n",
       "      <td> 1024</td>\n",
       "      <td>    sudarsansand</td>\n",
       "      <td>      RT @sudarsansand: My humble appeal to all to join hands for beginning of a Clean India; my sandart on #demonetisation - RIP #BlackMoney at…</td>\n",
       "    </tr>\n",
       "    <tr>\n",
       "      <th>53</th>\n",
       "      <td>  847</td>\n",
       "      <td>          maniqq</td>\n",
       "      <td>     RT @maniqq: A little inconvenience of few days is million times better than dying by terrorist bomb financed by #BlackMoney. Never #StopDeM…</td>\n",
       "    </tr>\n",
       "    <tr>\n",
       "      <th>54</th>\n",
       "      <td>  693</td>\n",
       "      <td>  varshasinghmcx</td>\n",
       "      <td>  RT @varshasinghmcx: Sorry but can't stop myself from posting😀\\n\\n\"Now nobody is intrested whether it's Trump or Hillary. \\nModi has stolen the…</td>\n",
       "    </tr>\n",
       "    <tr>\n",
       "      <th>55</th>\n",
       "      <td>  693</td>\n",
       "      <td>  varshasinghmcx</td>\n",
       "      <td>  RT @varshasinghmcx: Sorry but can't stop myself from posting😀\\n\\n\"Now nobody is intrested whether it's Trump or Hillary. \\nModi has stolen the…</td>\n",
       "    </tr>\n",
       "    <tr>\n",
       "      <th>56</th>\n",
       "      <td>  683</td>\n",
       "      <td>  varshasinghmcx</td>\n",
       "      <td>                    RT @varshasinghmcx: 2 min silence for those who opted for COD and will be recieving their ordered goods tomorrow. #BlackMoney</td>\n",
       "    </tr>\n",
       "    <tr>\n",
       "      <th>57</th>\n",
       "      <td>  658</td>\n",
       "      <td>  varshasinghmcx</td>\n",
       "      <td>                      RT @varshasinghmcx: Bhakts wanted Modi to Ban NDTV. But Modi banned root cause of NDTV.\\n#BlackMoney #currencyban #Currency</td>\n",
       "    </tr>\n",
       "    <tr>\n",
       "      <th>58</th>\n",
       "      <td>  658</td>\n",
       "      <td>  varshasinghmcx</td>\n",
       "      <td>                      RT @varshasinghmcx: Bhakts wanted Modi to Ban NDTV. But Modi banned root cause of NDTV.\\n#BlackMoney #currencyban #Currency</td>\n",
       "    </tr>\n",
       "    <tr>\n",
       "      <th>59</th>\n",
       "      <td>  658</td>\n",
       "      <td>  varshasinghmcx</td>\n",
       "      <td>                      RT @varshasinghmcx: Bhakts wanted Modi to Ban NDTV. But Modi banned root cause of NDTV.\\n#BlackMoney #currencyban #Currency</td>\n",
       "    </tr>\n",
       "    <tr>\n",
       "      <th></th>\n",
       "      <td>...</td>\n",
       "      <td>...</td>\n",
       "      <td>...</td>\n",
       "    </tr>\n",
       "  </tbody>\n",
       "</table>\n",
       "<p>889 rows × 3 columns</p>\n",
       "</div>"
      ],
      "text/plain": [
       "       0                1  \\\n",
       "0   9391           SriSri   \n",
       "1   3544    AnushkaSharma   \n",
       "2   2904   varshasinghmcx   \n",
       "3   2904   varshasinghmcx   \n",
       "4   2904   varshasinghmcx   \n",
       "5   2904   varshasinghmcx   \n",
       "6   2904   varshasinghmcx   \n",
       "7   2904   varshasinghmcx   \n",
       "8   2320       tufailelif   \n",
       "9   2320       tufailelif   \n",
       "10  2320       tufailelif   \n",
       "11  2320       tufailelif   \n",
       "12  2320       tufailelif   \n",
       "13  2320       tufailelif   \n",
       "14  2320       tufailelif   \n",
       "15  2320       tufailelif   \n",
       "16  2320       tufailelif   \n",
       "17  2320       tufailelif   \n",
       "18  2320       tufailelif   \n",
       "19  1541   varshasinghmcx   \n",
       "20  1541   varshasinghmcx   \n",
       "21  1541   varshasinghmcx   \n",
       "22  1541   varshasinghmcx   \n",
       "23  1541   varshasinghmcx   \n",
       "24  1541   varshasinghmcx   \n",
       "25  1541   varshasinghmcx   \n",
       "26  1541   varshasinghmcx   \n",
       "27  1505   varshasinghmcx   \n",
       "28  1505   varshasinghmcx   \n",
       "29  1505   varshasinghmcx   \n",
       "30  1505   varshasinghmcx   \n",
       "31  1502        SirJadeja   \n",
       "32  1502        SirJadeja   \n",
       "33  1393  manoharparrikar   \n",
       "34  1176          bprerna   \n",
       "35  1077        SirJadeja   \n",
       "36  1077        SirJadeja   \n",
       "37  1077        SirJadeja   \n",
       "38  1077        SirJadeja   \n",
       "39  1077        SirJadeja   \n",
       "40  1077        SirJadeja   \n",
       "41  1077        SirJadeja   \n",
       "42  1077        SirJadeja   \n",
       "43  1077        SirJadeja   \n",
       "44  1077        SirJadeja   \n",
       "45  1077        SirJadeja   \n",
       "46  1077        SirJadeja   \n",
       "47  1077        SirJadeja   \n",
       "48  1077        SirJadeja   \n",
       "49  1077        SirJadeja   \n",
       "50  1077        SirJadeja   \n",
       "51  1077        SirJadeja   \n",
       "52  1024     sudarsansand   \n",
       "53   847           maniqq   \n",
       "54   693   varshasinghmcx   \n",
       "55   693   varshasinghmcx   \n",
       "56   683   varshasinghmcx   \n",
       "57   658   varshasinghmcx   \n",
       "58   658   varshasinghmcx   \n",
       "59   658   varshasinghmcx   \n",
       "     ...              ...   \n",
       "\n",
       "                                                                                                                                                   2  \n",
       "0       RT @SriSri: I congratulate @narendramodi for bringing in Artha Kranti. This brings a sigh of relief to all of us fighting corruption. #Blac…  \n",
       "1   RT @AnushkaSharma: A welcome bold&amp;courageous step by PM Modiji towards nation building.Each 1of us shld cooperate in d larger interest of d…  \n",
       "2      RT @varshasinghmcx: First time in Indian history where people have less money are happier than the people who have lot of money😂\\n#BlackMoney  \n",
       "3      RT @varshasinghmcx: First time in Indian history where people have less money are happier than the people who have lot of money😂\\n#BlackMoney  \n",
       "4      RT @varshasinghmcx: First time in Indian history where people have less money are happier than the people who have lot of money😂\\n#BlackMoney  \n",
       "5      RT @varshasinghmcx: First time in Indian history where people have less money are happier than the people who have lot of money😂\\n#BlackMoney  \n",
       "6      RT @varshasinghmcx: First time in Indian history where people have less money are happier than the people who have lot of money😂\\n#BlackMoney  \n",
       "7      RT @varshasinghmcx: First time in Indian history where people have less money are happier than the people who have lot of money😂\\n#BlackMoney  \n",
       "8       RT @tufailelif: My generation has not seen revolutions. But we are witnessing a revolution now. under Modi, India is undergoing a revolutio…  \n",
       "9       RT @tufailelif: My generation has not seen revolutions. But we are witnessing a revolution now. under Modi, India is undergoing a revolutio…  \n",
       "10      RT @tufailelif: My generation has not seen revolutions. But we are witnessing a revolution now. under Modi, India is undergoing a revolutio…  \n",
       "11      RT @tufailelif: My generation has not seen revolutions. But we are witnessing a revolution now. under Modi, India is undergoing a revolutio…  \n",
       "12      RT @tufailelif: My generation has not seen revolutions. But we are witnessing a revolution now. under Modi, India is undergoing a revolutio…  \n",
       "13      RT @tufailelif: My generation has not seen revolutions. But we are witnessing a revolution now. under Modi, India is undergoing a revolutio…  \n",
       "14      RT @tufailelif: My generation has not seen revolutions. But we are witnessing a revolution now. under Modi, India is undergoing a revolutio…  \n",
       "15      RT @tufailelif: My generation has not seen revolutions. But we are witnessing a revolution now. under Modi, India is undergoing a revolutio…  \n",
       "16      RT @tufailelif: My generation has not seen revolutions. But we are witnessing a revolution now. under Modi, India is undergoing a revolutio…  \n",
       "17      RT @tufailelif: My generation has not seen revolutions. But we are witnessing a revolution now. under Modi, India is undergoing a revolutio…  \n",
       "18      RT @tufailelif: My generation has not seen revolutions. But we are witnessing a revolution now. under Modi, India is undergoing a revolutio…  \n",
       "19                          RT @varshasinghmcx: No one took him serious when he said this last September !  👏🏻👏🏻 #BlackMoney https://t.co/YvA8Ej6pHS  \n",
       "20                          RT @varshasinghmcx: No one took him serious when he said this last September !  👏🏻👏🏻 #BlackMoney https://t.co/YvA8Ej6pHS  \n",
       "21                          RT @varshasinghmcx: No one took him serious when he said this last September !  👏🏻👏🏻 #BlackMoney https://t.co/YvA8Ej6pHS  \n",
       "22                          RT @varshasinghmcx: No one took him serious when he said this last September !  👏🏻👏🏻 #BlackMoney https://t.co/YvA8Ej6pHS  \n",
       "23                          RT @varshasinghmcx: No one took him serious when he said this last September !  👏🏻👏🏻 #BlackMoney https://t.co/YvA8Ej6pHS  \n",
       "24                          RT @varshasinghmcx: No one took him serious when he said this last September !  👏🏻👏🏻 #BlackMoney https://t.co/YvA8Ej6pHS  \n",
       "25                          RT @varshasinghmcx: No one took him serious when he said this last September !  👏🏻👏🏻 #BlackMoney https://t.co/YvA8Ej6pHS  \n",
       "26                          RT @varshasinghmcx: No one took him serious when he said this last September !  👏🏻👏🏻 #BlackMoney https://t.co/YvA8Ej6pHS  \n",
       "27   RT @varshasinghmcx: Surgical Strikes by Narendra Modi :\\n\\n2014 - Congress\\n2015 - Myanmar\\n2016 - Pakistan\\n2016 - #BlackMoney \\nWhat's Next ?  \n",
       "28   RT @varshasinghmcx: Surgical Strikes by Narendra Modi :\\n\\n2014 - Congress\\n2015 - Myanmar\\n2016 - Pakistan\\n2016 - #BlackMoney \\nWhat's Next ?  \n",
       "29   RT @varshasinghmcx: Surgical Strikes by Narendra Modi :\\n\\n2014 - Congress\\n2015 - Myanmar\\n2016 - Pakistan\\n2016 - #BlackMoney \\nWhat's Next ?  \n",
       "30   RT @varshasinghmcx: Surgical Strikes by Narendra Modi :\\n\\n2014 - Congress\\n2015 - Myanmar\\n2016 - Pakistan\\n2016 - #BlackMoney \\nWhat's Next ?  \n",
       "31  RT @SirJadeja: Do You Support Prime Minister Modi's #SurgicalStrikeonBlackMoney?\\n\\nRT -Yes\\nFav -No\\n\\n#BlackMoney #CORRUPTION #CurrencyBan Rs…  \n",
       "32  RT @SirJadeja: Do You Support Prime Minister Modi's #SurgicalStrikeonBlackMoney?\\n\\nRT -Yes\\nFav -No\\n\\n#BlackMoney #CORRUPTION #CurrencyBan Rs…  \n",
       "33  RT @manoharparrikar: Demonetization has struck the core of terror funding &amp; PM @narendramodi ji in his speech today emphasized on continuin…  \n",
       "34      RT @bprerna: The effect of the 'masterstroke' by PM #Modi. People chanting \"Narendra Modi...Haaye Haaye! in Delhi.\" #DeMonetisation  #Black…  \n",
       "35  RT @SirJadeja: What A Coincidence:\\nModi Is PM As Well As MP\\nKejriwal Is CM As Well As ...\\n\\n#तड़पता_भारत #BlackMoney #DeMonetisation #इंतज़ा…  \n",
       "36  RT @SirJadeja: What A Coincidence:\\nModi Is PM As Well As MP\\nKejriwal Is CM As Well As ...\\n\\n#तड़पता_भारत #BlackMoney #DeMonetisation #इंतज़ा…  \n",
       "37  RT @SirJadeja: What A Coincidence:\\nModi Is PM As Well As MP\\nKejriwal Is CM As Well As ...\\n\\n#तड़पता_भारत #BlackMoney #DeMonetisation #इंतज़ा…  \n",
       "38  RT @SirJadeja: What A Coincidence:\\nModi Is PM As Well As MP\\nKejriwal Is CM As Well As ...\\n\\n#तड़पता_भारत #BlackMoney #DeMonetisation #इंतज़ा…  \n",
       "39  RT @SirJadeja: What A Coincidence:\\nModi Is PM As Well As MP\\nKejriwal Is CM As Well As ...\\n\\n#तड़पता_भारत #BlackMoney #DeMonetisation #इंतज़ा…  \n",
       "40  RT @SirJadeja: What A Coincidence:\\nModi Is PM As Well As MP\\nKejriwal Is CM As Well As ...\\n\\n#तड़पता_भारत #BlackMoney #DeMonetisation #इंतज़ा…  \n",
       "41  RT @SirJadeja: What A Coincidence:\\nModi Is PM As Well As MP\\nKejriwal Is CM As Well As ...\\n\\n#तड़पता_भारत #BlackMoney #DeMonetisation #इंतज़ा…  \n",
       "42  RT @SirJadeja: What A Coincidence:\\nModi Is PM As Well As MP\\nKejriwal Is CM As Well As ...\\n\\n#तड़पता_भारत #BlackMoney #DeMonetisation #इंतज़ा…  \n",
       "43  RT @SirJadeja: What A Coincidence:\\nModi Is PM As Well As MP\\nKejriwal Is CM As Well As ...\\n\\n#तड़पता_भारत #BlackMoney #DeMonetisation #इंतज़ा…  \n",
       "44  RT @SirJadeja: What A Coincidence:\\nModi Is PM As Well As MP\\nKejriwal Is CM As Well As ...\\n\\n#तड़पता_भारत #BlackMoney #DeMonetisation #इंतज़ा…  \n",
       "45  RT @SirJadeja: What A Coincidence:\\nModi Is PM As Well As MP\\nKejriwal Is CM As Well As ...\\n\\n#तड़पता_भारत #BlackMoney #DeMonetisation #इंतज़ा…  \n",
       "46  RT @SirJadeja: What A Coincidence:\\nModi Is PM As Well As MP\\nKejriwal Is CM As Well As ...\\n\\n#तड़पता_भारत #BlackMoney #DeMonetisation #इंतज़ा…  \n",
       "47  RT @SirJadeja: What A Coincidence:\\nModi Is PM As Well As MP\\nKejriwal Is CM As Well As ...\\n\\n#तड़पता_भारत #BlackMoney #DeMonetisation #इंतज़ा…  \n",
       "48  RT @SirJadeja: What A Coincidence:\\nModi Is PM As Well As MP\\nKejriwal Is CM As Well As ...\\n\\n#तड़पता_भारत #BlackMoney #DeMonetisation #इंतज़ा…  \n",
       "49  RT @SirJadeja: What A Coincidence:\\nModi Is PM As Well As MP\\nKejriwal Is CM As Well As ...\\n\\n#तड़पता_भारत #BlackMoney #DeMonetisation #इंतज़ा…  \n",
       "50  RT @SirJadeja: What A Coincidence:\\nModi Is PM As Well As MP\\nKejriwal Is CM As Well As ...\\n\\n#तड़पता_भारत #BlackMoney #DeMonetisation #इंतज़ा…  \n",
       "51  RT @SirJadeja: What A Coincidence:\\nModi Is PM As Well As MP\\nKejriwal Is CM As Well As ...\\n\\n#तड़पता_भारत #BlackMoney #DeMonetisation #इंतज़ा…  \n",
       "52       RT @sudarsansand: My humble appeal to all to join hands for beginning of a Clean India; my sandart on #demonetisation - RIP #BlackMoney at…  \n",
       "53      RT @maniqq: A little inconvenience of few days is million times better than dying by terrorist bomb financed by #BlackMoney. Never #StopDeM…  \n",
       "54   RT @varshasinghmcx: Sorry but can't stop myself from posting😀\\n\\n\"Now nobody is intrested whether it's Trump or Hillary. \\nModi has stolen the…  \n",
       "55   RT @varshasinghmcx: Sorry but can't stop myself from posting😀\\n\\n\"Now nobody is intrested whether it's Trump or Hillary. \\nModi has stolen the…  \n",
       "56                     RT @varshasinghmcx: 2 min silence for those who opted for COD and will be recieving their ordered goods tomorrow. #BlackMoney  \n",
       "57                       RT @varshasinghmcx: Bhakts wanted Modi to Ban NDTV. But Modi banned root cause of NDTV.\\n#BlackMoney #currencyban #Currency  \n",
       "58                       RT @varshasinghmcx: Bhakts wanted Modi to Ban NDTV. But Modi banned root cause of NDTV.\\n#BlackMoney #currencyban #Currency  \n",
       "59                       RT @varshasinghmcx: Bhakts wanted Modi to Ban NDTV. But Modi banned root cause of NDTV.\\n#BlackMoney #currencyban #Currency  \n",
       "                                                                                                                                                 ...  \n",
       "\n",
       "[889 rows x 3 columns]"
      ]
     },
     "execution_count": 45,
     "metadata": {},
     "output_type": "execute_result"
    }
   ],
   "source": [
    "retweets = [(status['retweet_count'],status['retweeted_status']['user']['screen_name'],status['text']) for status in statuses if 'retweeted_status' in status]\n",
    "retweets = sorted(retweets,key = lambda x:x[0],reverse = True)\n",
    "pd.DataFrame(retweets)"
   ]
  },
  {
   "cell_type": "markdown",
   "metadata": {},
   "source": [
    "#### Visualizing Frequency Data\n",
    "\n"
   ]
  }
 ],
 "metadata": {
  "kernelspec": {
   "display_name": "Python 3",
   "language": "python",
   "name": "python3"
  },
  "language_info": {
   "codemirror_mode": {
    "name": "ipython",
    "version": 3
   },
   "file_extension": ".py",
   "mimetype": "text/x-python",
   "name": "python",
   "nbconvert_exporter": "python",
   "pygments_lexer": "ipython3",
   "version": "3.4.3"
  }
 },
 "nbformat": 4,
 "nbformat_minor": 1
}
