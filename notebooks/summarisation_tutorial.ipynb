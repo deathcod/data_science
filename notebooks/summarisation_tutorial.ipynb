{
 "cells": [
  {
   "cell_type": "markdown",
   "metadata": {},
   "source": [
    "# Text Summerization using python"
   ]
  },
  {
   "cell_type": "code",
   "execution_count": 1,
   "metadata": {
    "collapsed": false
   },
   "outputs": [],
   "source": [
    "import requests\n",
    "import re"
   ]
  },
  {
   "cell_type": "markdown",
   "metadata": {},
   "source": [
    "So here I am trying to create a summerization program, that will efficiently tell the summary of the document. For that I am using the wiki source."
   ]
  },
  {
   "cell_type": "code",
   "execution_count": 2,
   "metadata": {
    "collapsed": false
   },
   "outputs": [],
   "source": [
    "text = open('../data/apple-Inc.txt','r').read()"
   ]
  },
  {
   "cell_type": "code",
   "execution_count": 3,
   "metadata": {
    "collapsed": false
   },
   "outputs": [
    {
     "data": {
      "text/plain": [
       "'Apple Inc. is an American multinational technology company headquartered in Cupertino, California, that designs, develops, and sells consumer electronics, computer software, and online services. Its hardware products include the iPhone smartphone, the iPad tablet computer, the Mac personal computer, the iPod portable media player, the Apple Watch smartwatch, and the Apple TV digital media player. Apple\\'s consumer software includes the macOS and iOS operating systems, the iTunes media player, the Safari web browser, and the iLife and iWork creativity and productivity suites. Its online services include the iTunes Store, the iOS App Store and Mac App Store, Apple Music, and iCloud.\\n\\nApple was founded by Steve Jobs, Steve Wozniak, and Ronald Wayne in April 1976 to develop and sell personal computers. It was incorporated as Apple Computer, Inc. in January 1977, and was renamed as Apple Inc. in January 2007 to reflect its shifted focus toward consumer electronics. Apple (NASDAQ: AAPL) joined the Dow Jones Industrial Average in March 2015.\\n\\nApple is the world\\'s largest information technology company by revenue, the world\\'s largest technology company by total assets, and the world\\'s second-largest mobile phone manufacturer. In November 2014, in addition to being the largest publicly traded corporation in the world by market capitalization, Apple became the first U.S. company to be valued at over US$700 billion. The company employs 115,000 permanent full-time employees as of July 2015 and maintains 478 retail stores in seventeen countries as of March 2016. It operates the online Apple Store and iTunes Store, the latter of which is the world\\'s largest music retailer. There are over one billion actively used Apple products worldwide as of March 2016.\\n\\nApple\\'s worldwide annual revenue totaled $233 billion for the fiscal year ending in September 2015. This revenue generation accounts for approximately 1.25% of the total United States GDP. The company enjoys a high level of brand loyalty and, according to Interbrand\\'s annual Best Global Brands report, has been the world\\'s most valuable brand for 4 years in a row, with a valuation in 2016 of $178.1 billion. The corporation receives significant criticism regarding the labor practices of its contractors and its environmental and business practices, including the origins of source materials.\\n\\nIn August 2016, after a three-year investigation by the EU\\'s competition commissioner that concluded that Apple received \"illegal state aid\" from Ireland, the EU ordered Apple to pay 13 billion euros ($14.5 billion), plus interest, in unpaid taxes.'"
      ]
     },
     "execution_count": 3,
     "metadata": {},
     "output_type": "execute_result"
    }
   ],
   "source": [
    "text"
   ]
  },
  {
   "cell_type": "code",
   "execution_count": 4,
   "metadata": {
    "collapsed": true
   },
   "outputs": [],
   "source": [
    "from textblob import TextBlob"
   ]
  },
  {
   "cell_type": "code",
   "execution_count": 5,
   "metadata": {
    "collapsed": false
   },
   "outputs": [],
   "source": [
    "sent = TextBlob(text)"
   ]
  },
  {
   "cell_type": "code",
   "execution_count": 6,
   "metadata": {
    "collapsed": false,
    "scrolled": true
   },
   "outputs": [
    {
     "data": {
      "text/plain": [
       "WordList(['Apple', 'Inc', 'is', 'an', 'American', 'multinational', 'technology', 'company', 'headquartered', 'in', 'Cupertino', 'Californium', 'that', 'design', 'develop', 'and', 'sell', 'consumer', 'electronic', 'computer', 'software', 'and', 'online', 'service', 'It', 'hardware', 'product', 'include', 'the', 'iPhone', 'smartphone', 'the', 'iPad', 'tablet', 'computer', 'the', 'Mac', 'personal', 'computer', 'the', 'iPod', 'portable', 'medium', 'player', 'the', 'Apple', 'Watch', 'smartwatch', 'and', 'the', 'Apple', 'TV', 'digital', 'medium', 'player', 'Apple', \"'\", 'consumer', 'software', 'include', 'the', 'macO', 'and', 'iO', 'operating', 'system', 'the', 'iTune', 'medium', 'player', 'the', 'Safarus', 'web', 'browser', 'and', 'the', 'iLife', 'and', 'iWork', 'creativity', 'and', 'productivity', 'suite', 'It', 'online', 'service', 'include', 'the', 'iTune', 'Store', 'the', 'iO', 'App', 'Store', 'and', 'Mac', 'App', 'Store', 'Apple', 'Music', 'and', 'iCloud', 'Apple', 'wa', 'founded', 'by', 'Steve', 'Job', 'Steve', 'Wozniak', 'and', 'Ronald', 'Wayne', 'in', 'April', '1976', 'to', 'develop', 'and', 'sell', 'personal', 'computer', 'It', 'wa', 'incorporated', 'a', 'Apple', 'Computer', 'Inc', 'in', 'January', '1977', 'and', 'wa', 'renamed', 'a', 'Apple', 'Inc', 'in', 'January', '2007', 'to', 'reflect', 'it', 'shifted', 'focu', 'toward', 'consumer', 'electronic', 'Apple', 'NASDAQ', 'AAPL', 'joined', 'the', 'Dow', 'Jone', 'Industrial', 'Average', 'in', 'March', '2015', 'Apple', 'is', 'the', 'world', \"'\", 'largest', 'information', 'technology', 'company', 'by', 'revenue', 'the', 'world', \"'\", 'largest', 'technology', 'company', 'by', 'total', 'asset', 'and', 'the', 'world', \"'\", 'second-largest', 'mobile', 'phone', 'manufacturer', 'In', 'November', '2014', 'in', 'addition', 'to', 'being', 'the', 'largest', 'publicly', 'traded', 'corporation', 'in', 'the', 'world', 'by', 'market', 'capitalization', 'Apple', 'became', 'the', 'first', 'U.', 'company', 'to', 'be', 'valued', 'at', 'over', 'U', '700', 'billion', 'The', 'company', 'employ', '115,000', 'permanent', 'full-time', 'employee', 'a', 'of', 'July', '2015', 'and', 'maintain', '478', 'retail', 'store', 'in', 'seventeen', 'country', 'a', 'of', 'March', '2016', 'It', 'operate', 'the', 'online', 'Apple', 'Store', 'and', 'iTune', 'Store', 'the', 'latter', 'of', 'which', 'is', 'the', 'world', \"'\", 'largest', 'music', 'retailer', 'There', 'are', 'over', 'one', 'billion', 'actively', 'used', 'Apple', 'product', 'worldwide', 'a', 'of', 'March', '2016', 'Apple', \"'\", 'worldwide', 'annual', 'revenue', 'totaled', '233', 'billion', 'for', 'the', 'fiscal', 'year', 'ending', 'in', 'September', '2015', 'Thi', 'revenue', 'generation', 'account', 'for', 'approximately', '1.25', 'of', 'the', 'total', 'United', 'State', 'GDP', 'The', 'company', 'enjoy', 'a', 'high', 'level', 'of', 'brand', 'loyalty', 'and', 'according', 'to', 'Interbrand', \"'\", 'annual', 'Best', 'Global', 'Brand', 'report', 'ha', 'been', 'the', 'world', \"'\", 'most', 'valuable', 'brand', 'for', '4', 'year', 'in', 'a', 'row', 'with', 'a', 'valuation', 'in', '2016', 'of', '178.1', 'billion', 'The', 'corporation', 'receife', 'significant', 'criticism', 'regarding', 'the', 'labor', 'practice', 'of', 'it', 'contractor', 'and', 'it', 'environmental', 'and', 'busines', 'practice', 'including', 'the', 'origin', 'of', 'source', 'material', 'In', 'August', '2016', 'after', 'a', 'three-year', 'investigation', 'by', 'the', 'EU', \"'\", 'competition', 'commissioner', 'that', 'concluded', 'that', 'Apple', 'received', 'illegal', 'state', 'aid', 'from', 'Ireland', 'the', 'EU', 'ordered', 'Apple', 'to', 'pay', '13', 'billion', 'euro', '14.5', 'billion', 'plu', 'interest', 'in', 'unpaid', 'taxe'])"
      ]
     },
     "execution_count": 6,
     "metadata": {},
     "output_type": "execute_result"
    }
   ],
   "source": [
    "sent.words.singularize()"
   ]
  },
  {
   "cell_type": "code",
   "execution_count": 7,
   "metadata": {
    "collapsed": false
   },
   "outputs": [],
   "source": [
    "#from structure.nlp_functions import *"
   ]
  },
  {
   "cell_type": "markdown",
   "metadata": {},
   "source": [
    "since we have got the text lets cleansen it for further processing"
   ]
  },
  {
   "cell_type": "code",
   "execution_count": 8,
   "metadata": {
    "collapsed": false
   },
   "outputs": [],
   "source": [
    "from nltk.corpus import stopwords\n",
    "sn = stopwords.words()"
   ]
  },
  {
   "cell_type": "code",
   "execution_count": 9,
   "metadata": {
    "collapsed": false
   },
   "outputs": [],
   "source": [
    "text = re.sub(r'(\\'s|\\(|\\))','',text)\n",
    "words = re.split('[ \\n]',text)\n",
    "words = [i for i in words if i not in sn and i!='']"
   ]
  },
  {
   "cell_type": "code",
   "execution_count": 10,
   "metadata": {
    "collapsed": false
   },
   "outputs": [],
   "source": [
    "import nltk"
   ]
  },
  {
   "cell_type": "code",
   "execution_count": 11,
   "metadata": {
    "collapsed": false
   },
   "outputs": [
    {
     "name": "stdout",
     "output_type": "stream",
     "text": [
      "Apple Inc. American multinational technology company headquartered Cupertino, California, designs, develops, sell consumer electronics, computer software, online services. Its hardware product include iPhone smartphone, iPad tablet computer, Mac personal computer, iPod portable medium player, Apple Watch smartwatch, Apple TV digital medium player. Apple consumer software includes macOS iOS operating systems, iTunes medium player, Safari web browser, iLife iWork creativity productivity suites. Its online service include iTunes Store, iOS App Store Mac App Store, Apple Music, iCloud. Apple founded Steve Jobs, Steve Wozniak, Ronald Wayne April 1976 develop sell personal computers. It incorporated Apple Computer, Inc. January 1977, renamed Apple Inc. January 2007 reflect shifted focus toward consumer electronics. Apple NASDAQ: AAPL joined Dow Jones Industrial Average March 2015. Apple world largest information technology company revenue, world largest technology company total assets, world second-largest mobile phone manufacturer. In November 2014, addition largest publicly traded corporation world market capitalization, Apple became first U.S. company valued US$700 billion. The company employ 115,000 permanent full-time employee July 2015 maintains 478 retail store seventeen country March 2016. It operates online Apple Store iTunes Store, latter world largest music retailer. There one billion actively used Apple product worldwide March 2016. Apple worldwide annual revenue totaled $233 billion fiscal year ending September 2015. This revenue generation account approximately 1.25% total United States GDP. The company enjoys high level brand loyalty and, according Interbrand annual Best Global Brands report, world valuable brand 4 year row, valuation 2016 $178.1 billion. The corporation receives significant criticism regarding labor practice contractor environmental business practices, including origin source materials. In August 2016, three-year investigation EU competition commissioner concluded Apple received \"illegal state aid\" Ireland, EU ordered Apple pay 13 billion euro $14.5 billion, plus interest, unpaid taxes.\n"
     ]
    }
   ],
   "source": [
    "wnl = nltk.WordNetLemmatizer()\n",
    "words = [wnl.lemmatize(i) for i in words]\n",
    "text = ' '.join(words)\n",
    "print text"
   ]
  },
  {
   "cell_type": "code",
   "execution_count": 12,
   "metadata": {
    "collapsed": true
   },
   "outputs": [],
   "source": [
    "sent = TextBlob(text)"
   ]
  },
  {
   "cell_type": "code",
   "execution_count": 45,
   "metadata": {
    "collapsed": false
   },
   "outputs": [
    {
     "name": "stdout",
     "output_type": "stream",
     "text": [
      "Apple Inc. American multinational technology company headquartered Cupertino, California, designs, develops, sell consumer electronics, computer software, online services.\n",
      "\n",
      "Its hardware product include iPhone smartphone, iPad tablet computer, Mac personal computer, iPod portable medium player, Apple Watch smartwatch, Apple TV digital medium player.\n",
      "\n",
      "Apple consumer software includes macOS iOS operating systems, iTunes medium player, Safari web browser, iLife iWork creativity productivity suites.\n",
      "\n",
      "Its online service include iTunes Store, iOS App Store Mac App Store, Apple Music, iCloud.\n",
      "\n",
      "Apple founded Steve Jobs, Steve Wozniak, Ronald Wayne April 1976 develop sell personal computers.\n",
      "\n",
      "It incorporated Apple Computer, Inc. January 1977, renamed Apple Inc. January 2007 reflect shifted focus toward consumer electronics.\n",
      "\n",
      "Apple NASDAQ: AAPL joined Dow Jones Industrial Average March 2015.\n",
      "\n",
      "Apple world largest information technology company revenue, world largest technology company total assets, world second-largest mobile phone manufacturer.\n",
      "\n",
      "In November 2014, addition largest publicly traded corporation world market capitalization, Apple became first U.S. company valued US$700 billion.\n",
      "\n",
      "The company employ 115,000 permanent full-time employee July 2015 maintains 478 retail store seventeen country March 2016.\n",
      "\n",
      "It operates online Apple Store iTunes Store, latter world largest music retailer.\n",
      "\n",
      "There one billion actively used Apple product worldwide March 2016.\n",
      "\n",
      "Apple worldwide annual revenue totaled $233 billion fiscal year ending September 2015.\n",
      "\n",
      "This revenue generation account approximately 1.25% total United States GDP.\n",
      "\n",
      "The company enjoys high level brand loyalty and, according Interbrand annual Best Global Brands report, world valuable brand 4 year row, valuation 2016 $178.1 billion.\n",
      "\n",
      "The corporation receives significant criticism regarding labor practice contractor environmental business practices, including origin source materials.\n",
      "\n",
      "In August 2016, three-year investigation EU competition commissioner concluded Apple received \"illegal state aid\" Ireland, EU ordered Apple pay 13 billion euro $14.5 billion, plus interest, unpaid taxes.\n",
      "\n"
     ]
    }
   ],
   "source": [
    "sentence = [i.raw for i in sent.sentences]\n",
    "for i in sentence:\n",
    "    print i+\"\\n\""
   ]
  },
  {
   "cell_type": "code",
   "execution_count": 56,
   "metadata": {
    "collapsed": false
   },
   "outputs": [],
   "source": [
    "sent_word = []\n",
    "for i in sentence:\n",
    "    sent_word.append(map(lambda x: re.sub('[^\\w-]','',x).lower(),i.split(' ')))\n",
    "    pass\n",
    "#print sent_word"
   ]
  },
  {
   "cell_type": "code",
   "execution_count": 112,
   "metadata": {
    "collapsed": false
   },
   "outputs": [
    {
     "name": "stdout",
     "output_type": "stream",
     "text": [
      "[[3.2, 3.2, 3.2, 3.2, 3.2, 3.2, 3.2, 3.2, 3.2, 3.2, 3.2, 3.2, 3.2, 3.2, 3.2, 3.2, 3.2, 3.2], [1.6, 1.6, 1.6, 1.6, 1.6, 1.6, 1.6, 1.6, 1.6, 1.6, 1.6, 3.2, 1.6, 2.79, 1.6, 1.6, 3.2, 1.6, 1.6, 2.79], [3.2, 3.2, 2.79, 3.2, 2.5, 3.2, 3.2, 3.2, 3.2, 3.2, 3.2, 2.79, 3.2, 3.2, 3.2, 3.2, 3.2, 2.79, 2.79], [0.76, 1.07, 2.13, 0.93, 0.93, 0.93, 1.07, 1.07, 0.93, 0.93, 0.93, 3.2], [1.4, 3.2, 1.6, 1.05, 1.4, 1.6, 1.6, 1.6, 1.6, 1.6, 1.6, 1.6, 1.6], [1.6, 1.94, 1.6, 3.2, 1.6, 1.6, 1.6, 1.6, 1.25, 1.6, 1.6, 1.4, 1.6, 1.25, 2.79], [3.2, 3.2, 3.2, 1.81, 3.2, 3.2, 3.2, 3.2, 3.2, 3.2], [1.07, 0.56, 1.07, 1.07, 1.86, 1.07, 1.07, 2.13, 3.2, 1.07, 1.86, 1.07, 1.07], [3.2, 2.79, 3.2, 3.2, 3.2, 3.2, 3.2, 2.5, 3.2, 3.2, 3.2, 3.2, 2.79, 3.2, 3.2, 3.2, 3.2, 3.2, 1.59], [3.2, 3.2, 2.79, 3.2, 2.28, 3.2, 3.2, 3.2, 3.2, 2.79, 3.2, 3.2, 3.2, 3.2, 3.2, 3.2, 2.79], [0.75, 1.6, 1.25, 1.6, 1.4, 1.6, 1.25, 1.4, 1.25, 1.25, 2.5], [2.79, 3.2, 2.79, 3.2, 2.5, 1.41, 3.2, 3.2, 3.2, 2.79], [2.79, 2.5, 1.33, 2.79, 3.2, 3.2, 3.2, 3.2, 3.2, 2.5, 3.2, 3.2], [3.2, 3.2, 3.2, 2.5, 3.2, 3.2, 3.2, 3.2, 3.2, 2.79], [1.6, 1.6, 1.6, 1.6, 1.6, 1.6, 1.4, 1.6, 1.6, 1.6, 1.6, 1.25, 1.05, 3.2, 1.6, 1.6, 1.14, 1.6, 1.14, 1.6, 1.4, 1.6, 1.6, 1.4], [3.2, 3.2, 3.2, 3.2, 3.2, 3.2, 2.79, 3.2, 3.2, 3.2, 3.2, 3.2, 3.2, 2.5, 3.2, 3.2], [1.6, 1.6, 1.6, 1.25, 1.6, 1.4, 3.2, 1.6, 1.6, 1.6, 1.6, 1.6, 1.14, 1.6, 1.6, 1.6, 1.6, 2.1, 1.6, 1.6, 1.6, 1.6, 1.6, 1.6, 1.6]]\n"
     ]
    }
   ],
   "source": [
    "from collections import Counter\n",
    "from math import log \n",
    "\n",
    "'''\n",
    " the formula I have used to calculate the tf,\n",
    "     \n",
    "     TF  = smooth + (1 - smooth)* (term_frequency/max_term_frequency_in_that_doc)\n",
    "     \n",
    "     the above way of caluclating the term frequency is mentioned stanford doc file of NLP\n",
    " \n",
    " for idf,\n",
    "     \n",
    "     IDF = log((total_number_of_doc + 1)/(number_of_doc_the_term_is_present + 1)) + 1\n",
    "     \n",
    "     the above way of calculating the inverse document frequency is mentioned in sklearn TfIdf\n",
    "'''\n",
    "TF_IDF = []\n",
    "doc = dict()\n",
    "smooth = 0.0\n",
    "total_no_of_doc = len(sentence)\n",
    "for i in sent_word:\n",
    "    c = Counter(i)\n",
    "    max_size = 1\n",
    "    for x in c:\n",
    "        max_size = max(max_size,c[x])\n",
    "        doc[x] = doc[x]+1 if x in doc else 1               # counting the document frequency\n",
    "        pass\n",
    "    sent_TF_IDF = []\n",
    "    for x in c:\n",
    "        frequency = 1.0*c[x]/max_size                      # term frequency\n",
    "        ntf = smooth + (1.0 - smooth) * frequency          # normalized term frequency\n",
    "        idf = log((1.0 * total_no_of_doc + 1)/(doc[x] + 1 )) + 1 #idf as mentioned in tfidfvectoriser in sklearn\n",
    "        sent_TF_IDF.append(round(ntf * idf,2))\n",
    "        \n",
    "    TF_IDF.append(sent_TF_IDF)\n",
    "    pass\n",
    "\n",
    "print TF_IDF"
   ]
  },
  {
   "cell_type": "code",
   "execution_count": null,
   "metadata": {
    "collapsed": true
   },
   "outputs": [],
   "source": []
  }
 ],
 "metadata": {
  "kernelspec": {
   "display_name": "Python 2",
   "language": "python",
   "name": "python2"
  },
  "language_info": {
   "codemirror_mode": {
    "name": "ipython",
    "version": 2
   },
   "file_extension": ".py",
   "mimetype": "text/x-python",
   "name": "python",
   "nbconvert_exporter": "python",
   "pygments_lexer": "ipython2",
   "version": "2.7.6"
  }
 },
 "nbformat": 4,
 "nbformat_minor": 1
}
